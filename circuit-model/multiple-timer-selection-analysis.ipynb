{
 "cells": [
  {
   "cell_type": "code",
   "execution_count": 3,
   "id": "cece4b9a",
   "metadata": {},
   "outputs": [],
   "source": [
    "import numpy as np\n",
    "import os\n",
    "import argparse\n",
    "\n",
    "import matplotlib.pyplot as plt\n",
    "\n",
    "import sys\n",
    "sys.path.insert(0, '../utils')\n",
    "import te_mp\n",
    "\n",
    "import tqdm\n"
   ]
  },
  {
   "cell_type": "code",
   "execution_count": 17,
   "id": "425a2ced",
   "metadata": {},
   "outputs": [],
   "source": [
    "import matplotlib\n",
    "matplotlib.rcParams['pdf.fonttype'] = 42\n",
    "matplotlib.rcParams['ps.fonttype'] = 42\n",
    "\n",
    "matplotlib.rcParams.update({'font.size': 7, 'axes.linewidth': 0.5, 'xtick.major.width': 0.5, 'xtick.minor.width': 0.5, \n",
    "                            'ytick.major.width': 0.5,'ytick.minor.width': 0.5, 'xtick.major.pad':2,'ytick.major.pad':2})\n",
    "matplotlib.rcParams.update({'font.family':'sans-serif','font.sans-serif':['Arial'], 'mathtext.default':'sf','mathtext.fontset':'custom'})\n",
    "\n",
    "matplotlib.rcParams.update({'savefig.transparent':True})"
   ]
  },
  {
   "cell_type": "markdown",
   "id": "0a84db7c",
   "metadata": {},
   "source": [
    "# Test run to evaluate parameters"
   ]
  },
  {
   "cell_type": "code",
   "execution_count": 4,
   "id": "a1b2843f",
   "metadata": {},
   "outputs": [],
   "source": [
    "# Simulation time step size (s)\n",
    "dt_trial = 2e-3\n",
    "\n",
    "# Total time per block (s)\n",
    "T_max_full = 0.75\n",
    "T_min_full = -0.25\n",
    "T = T_max_full - T_min_full\n",
    "\n",
    "T_min = 0\n",
    "t_min_ind = int((T_min-T_min_full)/dt_trial)\n",
    "T_max = 0.5\n",
    "t_max_ind = int((T_max - T_min_full)/dt_trial)\n",
    "\n",
    "\n",
    "# Time vector for each trial (here, 1 s block)\n",
    "t_trial = np.arange(0, int(T/dt_trial))*dt_trial + T_min_full\n",
    "\n",
    "# Time vector for eligibility window (here, 200 ms)\n",
    "dt_mp = dt_trial\n",
    "T_mp_max = 0.2\n",
    "tau = np.arange(0, int(T_mp_max/dt_mp))*dt_mp\n",
    "\n",
    "# Distribution for CF delays is peaked at 120 ms with 5 ms s.d.\n",
    "def cf_delay_fun(t_trial):\n",
    "    delay_distr = np.exp(-(t_trial-0.12)**2/0.005**2)\n",
    "    delay_distr /= np.sum(delay_distr)\n",
    "    return delay_distr\n",
    "\n",
    "# CF probability is calculated by normalizing the contraversive retinal slip\n",
    "# across the 1 s trial and then drawing a spike time\n",
    "cf_prob_fun = lambda retinal_slip: np.maximum(-retinal_slip, 0)\n",
    "\n",
    "poisson_model_params = {\n",
    "    'max_pf_rate': 0.477, # equivalent to average PF spike rake for the basis used during OKR adaptation \n",
    "    'cf_delay_fun': cf_delay_fun,\n",
    "    'exc_current_kernel':np.exp(-(t_trial - t_trial[0])/10e-3),\n",
    "    'type':'poisson'\n",
    "}\n",
    "\n",
    "# These parameters were chosen so that over the course of a simulation, weights would equilibrate near baseline\n",
    "plasticity_params_untuned = {\n",
    "    'dw_ltd': 3e-2,\n",
    "    'dw_ltp': 3e-2*0.023,\n",
    "    'decay_rate': 1/(1000)\n",
    "}"
   ]
  },
  {
   "cell_type": "code",
   "execution_count": 5,
   "id": "74c4543a",
   "metadata": {},
   "outputs": [],
   "source": [
    "## Generate timer bank of Gaussians\n",
    "num_ideal_timers = 11\n",
    "timers = np.zeros((num_ideal_timers, len(tau)))\n",
    "centers = np.linspace(0, 0.2, num_ideal_timers+1)[:-1]\n",
    "width = centers[1]/2\n",
    "centers += width\n",
    "for i in range(num_ideal_timers):\n",
    "    timers[i,:] = np.exp(-(tau - centers[i])**2/(2*(width)**2))"
   ]
  },
  {
   "cell_type": "code",
   "execution_count": 7,
   "id": "b69170f8",
   "metadata": {},
   "outputs": [],
   "source": [
    "v_0 = np.zeros(num_ideal_timers)\n",
    "v_0[0] = 1 # ~120 ms peak to test weight change"
   ]
  },
  {
   "cell_type": "code",
   "execution_count": 8,
   "id": "fd921be1",
   "metadata": {},
   "outputs": [
    {
     "data": {
      "text/plain": [
       "np.float64(0.019756423645331745)"
      ]
     },
     "execution_count": 8,
     "metadata": {},
     "output_type": "execute_result"
    }
   ],
   "source": [
    "np.sum(v_0@timers)*dt_trial # area under the curve of eligibility window when centered at 120 ms"
   ]
  },
  {
   "cell_type": "markdown",
   "id": "17644401",
   "metadata": {},
   "source": [
    "Note that the area under the curve of the early timer elements is smaller than the later ones (because they are cut off at 0 ms). We set the magnitude of LTP to approximately compensate for the amount of LTD expected given the max area under the curve. This means that the magnitude of LTP (as set below) will be larger than the expected amount of LTD for small values of $\\tau_\\text{peak}$, and therefore the equilibrium value of the weight will be larger."
   ]
  },
  {
   "cell_type": "code",
   "execution_count": 40,
   "id": "4d6af0ef",
   "metadata": {},
   "outputs": [],
   "source": [
    "eligibility_params_sel = {\n",
    "    'timers': timers,\n",
    "    'v_0': v_0,\n",
    "    'dv_max':1e-4,\n",
    "}"
   ]
  },
  {
   "cell_type": "markdown",
   "id": "98816957",
   "metadata": {},
   "source": [
    "## Poisson PF basis"
   ]
  },
  {
   "cell_type": "code",
   "execution_count": 43,
   "id": "ce093ead",
   "metadata": {},
   "outputs": [
    {
     "data": {
      "application/vnd.jupyter.widget-view+json": {
       "model_id": "59d1579f7db944dfaa624c575eb6f828",
       "version_major": 2,
       "version_minor": 0
      },
      "text/plain": [
       "  0%|          | 0/1 [00:00<?, ?it/s]"
      ]
     },
     "metadata": {},
     "output_type": "display_data"
    },
    {
     "data": {
      "application/vnd.jupyter.widget-view+json": {
       "model_id": "",
       "version_major": 2,
       "version_minor": 0
      },
      "text/plain": [
       "  0%|          | 0/10000 [00:00<?, ?it/s]"
      ]
     },
     "metadata": {},
     "output_type": "display_data"
    }
   ],
   "source": [
    "results_adj = te_mp.simulateLearningAdjustment_TeMP(1, 10000, t_trial, cf_prob_fun, \n",
    "                               poisson_model_params, plasticity_params_untuned, 'multiple', tau, \n",
    "                               eligibility_params_sel, history_samples = 0,\n",
    "                                calculate_hist = True, hist_every = 0,\n",
    "                                PF_samples = [0, 60, 119],notebook_mode=True)"
   ]
  },
  {
   "cell_type": "code",
   "execution_count": 44,
   "id": "f0b1df25",
   "metadata": {
    "scrolled": false
   },
   "outputs": [
    {
     "data": {
      "text/plain": [
       "[<matplotlib.lines.Line2D at 0x1523d3610>]"
      ]
     },
     "execution_count": 44,
     "metadata": {},
     "output_type": "execute_result"
    },
    {
     "data": {
      "image/png": "[encoded data removed]",
      "text/plain": [
       "<Figure size 640x480 with 1 Axes>"
      ]
     },
     "metadata": {},
     "output_type": "display_data"
    }
   ],
   "source": [
    "# Poisson model\n",
    "plt.plot(np.mean(results_adj['w_mean'],axis=0))"
   ]
  },
  {
   "cell_type": "markdown",
   "id": "16704879",
   "metadata": {},
   "source": [
    "To generate a raster like the one in Fig. 4: (there we used a slightly older figure with a different seed)"
   ]
  },
  {
   "cell_type": "code",
   "execution_count": 27,
   "id": "4bbd36d2",
   "metadata": {},
   "outputs": [],
   "source": [
    "rng = np.random.default_rng(seed=0)\n",
    "N_PFs = 120\n",
    "pf_spike_rates = poisson_model_params['max_pf_rate']*np.ones((N_PFs, len(t_trial)))\n",
    "pf_spikes = rng.random(size=pf_spike_rates.shape) < pf_spike_rates*dt_trial"
   ]
  },
  {
   "cell_type": "code",
   "execution_count": 29,
   "id": "1d866fc2",
   "metadata": {},
   "outputs": [
    {
     "data": {
      "text/plain": [
       "(0.0, 120.0)"
      ]
     },
     "execution_count": 29,
     "metadata": {},
     "output_type": "execute_result"
    },
    {
     "data": {
      "image/png": "[encoded data removed]",
      "text/plain": [
       "<Figure size 75x150 with 1 Axes>"
      ]
     },
     "metadata": {},
     "output_type": "display_data"
    }
   ],
   "source": [
    "plt.figure(figsize=(0.75,1.5))\n",
    "for i in range(N_PFs):\n",
    "    for j in np.where(pf_spikes[i,:])[0]:\n",
    "        plt.plot([t_trial[j],]*2, [i, i-0.9], c='k',lw=1)\n",
    "\n",
    "plt.xticks(np.linspace(T_min_full, T_max_full, 3), [0, '', T_max_full-T_min_full])\n",
    "plt.yticks([0, 60, 120],[0,'',120])\n",
    "plt.ylim([0, N_PFs])\n",
    "# plt.savefig('figures/poisson-basis-raster.pdf')"
   ]
  },
  {
   "cell_type": "markdown",
   "id": "3691fe33",
   "metadata": {},
   "source": [
    "## Structured PF basis (same as OKR adaptation)"
   ]
  },
  {
   "cell_type": "code",
   "execution_count": 32,
   "id": "ba1204d1",
   "metadata": {},
   "outputs": [],
   "source": [
    "structured_model_params = {\n",
    "    'max_pf_rate': 5,\n",
    "    'pf_theta': 9,\n",
    "    'cf_delay_fun': cf_delay_fun,\n",
    "    'exc_current_kernel':np.exp(-(t_trial - t_trial[0])/10e-3),\n",
    "    'type':'okr', #\n",
    "    'peak_stim_vel': 10,\n",
    "    'stim_f':1,\n",
    "    'poisson_rate_equiv':0.5,\n",
    "}\n",
    "\n",
    "# These parameters were chosen so that over the course of a simulation, weights would equilibrate near baseline\n",
    "plasticity_params_structured = {\n",
    "    'dw_ltd': 3e-2,\n",
    "    'dw_ltp': 3e-2*0.026,\n",
    "    'decay_rate': 1/(1000)\n",
    "}"
   ]
  },
  {
   "cell_type": "code",
   "execution_count": 41,
   "id": "cde6127b",
   "metadata": {},
   "outputs": [
    {
     "data": {
      "application/vnd.jupyter.widget-view+json": {
       "model_id": "2a9d9987c3ee4ed1a960928df83724a5",
       "version_major": 2,
       "version_minor": 0
      },
      "text/plain": [
       "  0%|          | 0/1 [00:00<?, ?it/s]"
      ]
     },
     "metadata": {},
     "output_type": "display_data"
    },
    {
     "data": {
      "application/vnd.jupyter.widget-view+json": {
       "model_id": "",
       "version_major": 2,
       "version_minor": 0
      },
      "text/plain": [
       "  0%|          | 0/10000 [00:00<?, ?it/s]"
      ]
     },
     "metadata": {},
     "output_type": "display_data"
    }
   ],
   "source": [
    "results_adj = te_mp.simulateLearningAdjustment_TeMP(1, 10000, t_trial, cf_prob_fun, \n",
    "                               structured_model_params, plasticity_params_structured, 'multiple', tau, \n",
    "                               eligibility_params_sel, history_samples = 0,\n",
    "                                calculate_hist = True, hist_every = 0,\n",
    "                                PF_samples = [0, 60, 119],notebook_mode=True)"
   ]
  },
  {
   "cell_type": "code",
   "execution_count": 42,
   "id": "462d9e2e",
   "metadata": {},
   "outputs": [
    {
     "data": {
      "text/plain": [
       "[<matplotlib.lines.Line2D at 0x10b035810>]"
      ]
     },
     "execution_count": 42,
     "metadata": {},
     "output_type": "execute_result"
    },
    {
     "data": {
      "image/png": "[encoded data removed]",
      "text/plain": [
       "<Figure size 640x480 with 1 Axes>"
      ]
     },
     "metadata": {},
     "output_type": "display_data"
    }
   ],
   "source": [
    "# Poisson model\n",
    "plt.plot(np.mean(results_adj['w_mean'],axis=0))"
   ]
  },
  {
   "cell_type": "code",
   "execution_count": 34,
   "id": "60980a11",
   "metadata": {},
   "outputs": [],
   "source": [
    "rng = np.random.default_rng(seed=0)\n",
    "N_PFs = 120\n",
    "pf_spike_rates = te_mp.generatePFratesBasisOKR(t_trial, N_PFs= N_PFs, a=structured_model_params['max_pf_rate'], theta= structured_model_params['pf_theta'],\n",
    "                                                peak_stim_vel = structured_model_params['peak_stim_vel'], stim_f = structured_model_params['stim_f'])\n",
    "pf_spikes = rng.random(size=pf_spike_rates.shape) < pf_spike_rates*dt_trial"
   ]
  },
  {
   "cell_type": "code",
   "execution_count": 35,
   "id": "031763ad",
   "metadata": {},
   "outputs": [
    {
     "data": {
      "text/plain": [
       "(0.0, 120.0)"
      ]
     },
     "execution_count": 35,
     "metadata": {},
     "output_type": "execute_result"
    },
    {
     "data": {
      "image/png": "[encoded data removed]",
      "text/plain": [
       "<Figure size 75x150 with 1 Axes>"
      ]
     },
     "metadata": {},
     "output_type": "display_data"
    }
   ],
   "source": [
    "plt.figure(figsize=(0.75,1.5))\n",
    "for i in range(N_PFs):\n",
    "    for j in np.where(pf_spikes[i,:])[0]:\n",
    "        plt.plot([t_trial[j],]*2, [i, i-0.9], c='k',lw=1)\n",
    "\n",
    "plt.xticks(np.linspace(T_min_full, T_max_full, 3), [0, '', T_max_full-T_min_full])\n",
    "plt.yticks([0, 60, 120],[0,'',120])\n",
    "plt.ylim([0, N_PFs])\n",
    "# plt.savefig('figures/learning-basis-raster.pdf')"
   ]
  },
  {
   "cell_type": "markdown",
   "id": "26ac9a3e",
   "metadata": {},
   "source": [
    "# Analyze results — Poisson"
   ]
  },
  {
   "cell_type": "code",
   "execution_count": 10,
   "id": "e2be8679",
   "metadata": {},
   "outputs": [],
   "source": [
    "# Results of running timer-selection-integrated.py for 10 simulation blocks\n",
    "# of 1,000,000 trials, and a sample interval of 1,000 trials\n",
    "\n",
    "folder = 'files/timer-selection-integrated-poisson' # Poisson basis\n",
    "# folder = 'files/timer-selection-integrated-structured' # OKR adaptation basis\n",
    "\n",
    "# mean weight\n",
    "w_mean = np.load(folder+'/w_mean.npy')\n",
    "\n",
    "# time of peak eligibility for 3 sample PFs through simulation\n",
    "eligibility_history = np.load(folder+'/eligibility_window_history.npy')\n",
    "\n",
    "# time of peak eligibility for all 120 PFs at the end of the simulation\n",
    "v_final = np.load(folder+'/v.npy')\n",
    "\n",
    "# time course of mean time of peak eligibility through simulation\n",
    "eligibility_mean = np.load(folder+'/eligibility_window_mean.npy')\n",
    "\n",
    "# histogram of PF-CF intervals for 3 sample PFs and (index 0) for all PFs,\n",
    "# cumulatively over the simulation\n",
    "hist_history_final = np.load(folder+'/hist_history.npy')"
   ]
  },
  {
   "cell_type": "code",
   "execution_count": 11,
   "id": "3496dfd6",
   "metadata": {},
   "outputs": [],
   "source": [
    "hist_edges = np.linspace(0, tau[-1] + (tau[1]-tau[0]), 100+1)"
   ]
  },
  {
   "cell_type": "code",
   "execution_count": 12,
   "id": "1ad4f61a",
   "metadata": {},
   "outputs": [
    {
     "data": {
      "text/plain": [
       "<BarContainer object of 100 artists>"
      ]
     },
     "execution_count": 12,
     "metadata": {},
     "output_type": "execute_result"
    },
    {
     "data": {
      "image/png": "[encoded data removed]",
      "text/plain": [
       "<Figure size 640x480 with 1 Axes>"
      ]
     },
     "metadata": {},
     "output_type": "display_data"
    }
   ],
   "source": [
    "# for one of the sample PFs\n",
    "pf_sample_ind = 1\n",
    "plt.bar(hist_edges[:-1], hist_history_final[pf_sample_ind,:]/np.sum(hist_history_final[pf_sample_ind,:]), hist_edges[1],\n",
    "        align='edge', facecolor=(0.7,)*3)"
   ]
  },
  {
   "cell_type": "code",
   "execution_count": 13,
   "id": "21da9c0e",
   "metadata": {},
   "outputs": [
    {
     "data": {
      "text/plain": [
       "[<matplotlib.lines.Line2D at 0x109a60190>]"
      ]
     },
     "execution_count": 13,
     "metadata": {},
     "output_type": "execute_result"
    },
    {
     "data": {
      "image/png": "[encoded data removed]",
      "text/plain": [
       "<Figure size 640x480 with 1 Axes>"
      ]
     },
     "metadata": {},
     "output_type": "display_data"
    }
   ],
   "source": [
    "# Mean eligibility window after TeMP\n",
    "plt.plot(tau, eligibility_mean[-1,:,-1])"
   ]
  },
  {
   "cell_type": "markdown",
   "id": "e2cb6406",
   "metadata": {},
   "source": [
    "## For Figure 4"
   ]
  },
  {
   "cell_type": "code",
   "execution_count": 24,
   "id": "ac863c95",
   "metadata": {},
   "outputs": [
    {
     "data": {
      "text/plain": [
       "(0.0, 1.0)"
      ]
     },
     "execution_count": 24,
     "metadata": {},
     "output_type": "execute_result"
    },
    {
     "data": {
      "image/png": "[encoded data removed]",
      "text/plain": [
       "<Figure size 100x50 with 2 Axes>"
      ]
     },
     "metadata": {},
     "output_type": "display_data"
    }
   ],
   "source": [
    "plt.figure(figsize=(1,0.5))\n",
    "\n",
    "ax = plt.gca()\n",
    "\n",
    "ax.fill_between(tau, hist_history_final[1,:]/np.sum(hist_history_final[1,:]), facecolor=(0.7,)*3)\n",
    "ax.set_yticks(np.linspace(0, 0.015, 3))\n",
    "ax.set_yticklabels([0,'',0.015])\n",
    "ax.set_xticks([0, 0.1,0.2])\n",
    "ax.set_xticklabels([0,'',0.2])\n",
    "ax.spines['top'].set_visible(False)\n",
    "ax.spines['right'].set_visible(False)\n",
    "ax.set_xlim([0, 0.2])\n",
    "ax.set_ylim([0, 0.015])\n",
    "\n",
    "ax2 = plt.twinx()\n",
    "ax2.plot(tau, eligibility_mean[-1,:,-1],c='k',lw=0.75,clip_on=False)\n",
    "ax2.set_yticks([0,0.5,1],[0,'',1])\n",
    "ax2.set_ylim([0,1])\n",
    "\n",
    "\n",
    "# plt.savefig('figures/multi-timer-integrated.pdf')"
   ]
  },
  {
   "cell_type": "markdown",
   "id": "a6417f67",
   "metadata": {},
   "source": [
    "## For Figure S7"
   ]
  },
  {
   "cell_type": "code",
   "execution_count": 21,
   "id": "03b59887",
   "metadata": {},
   "outputs": [
    {
     "data": {
      "text/plain": [
       "[Text(0.0, 0, '0'), Text(0.1, 0, ''), Text(0.2, 0, '0.2')]"
      ]
     },
     "execution_count": 21,
     "metadata": {},
     "output_type": "execute_result"
    },
    {
     "data": {
      "image/png": "[encoded data removed]",
      "text/plain": [
       "<Figure size 75x100 with 1 Axes>"
      ]
     },
     "metadata": {},
     "output_type": "display_data"
    }
   ],
   "source": [
    "plt.figure(figsize=(0.75,1))\n",
    "\n",
    "pf_sample_ind = 0 # 1, 2, 3 = example PFs, 0 = all PFs\n",
    "\n",
    "plt.bar(hist_edges[:-1], hist_history_final[pf_sample_ind,:]/np.sum(hist_history_final[pf_sample_ind,:]), hist_edges[1],align='edge', facecolor=(0.7,)*3)\n",
    "plt.xlim([0, 0.2])\n",
    "plt.ylim([0, 0.015])\n",
    "\n",
    "ax = plt.gca()\n",
    "ax.spines['top'].set_visible(False)\n",
    "ax.spines['right'].set_visible(False)\n",
    "\n",
    "ax.set_yticks(np.linspace(0, 0.015, 4))\n",
    "ax.set_yticklabels([0,'','',0.015])\n",
    "ax.set_xticks([0, 0.1,0.2])\n",
    "ax.set_xticklabels([0,'',0.2])\n",
    "\n",
    "# plt.savefig('figures/selection-integrated-hist-{:d}.pdf'.format(pf_sample_ind))"
   ]
  }
 ],
 "metadata": {
  "kernelspec": {
   "display_name": "Python [conda env:science] *",
   "language": "python",
   "name": "conda-env-science-py"
  },
  "language_info": {
   "codemirror_mode": {
    "name": "ipython",
    "version": 3
   },
   "file_extension": ".py",
   "mimetype": "text/x-python",
   "name": "python",
   "nbconvert_exporter": "python",
   "pygments_lexer": "ipython3",
   "version": "3.13.0"
  }
 },
 "nbformat": 4,
 "nbformat_minor": 5
}
