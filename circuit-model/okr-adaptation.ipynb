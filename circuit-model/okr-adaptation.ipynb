{
 "cells": [
  {
   "cell_type": "code",
   "execution_count": 1,
   "id": "b6088e07",
   "metadata": {},
   "outputs": [],
   "source": [
    "import numpy as np\n",
    "\n",
    "# Save fonts into pdf\n",
    "import matplotlib\n",
    "matplotlib.rcParams['pdf.fonttype'] = 42\n",
    "matplotlib.rcParams['ps.fonttype'] = 42\n",
    "\n",
    "import matplotlib.pyplot as plt\n",
    "import tqdm.notebook\n",
    "\n",
    "import sys\n",
    "sys.path.insert(0, '../utils')\n",
    "\n",
    "import te_mp\n",
    "\n",
    "# import scipy.integrate"
   ]
  },
  {
   "cell_type": "code",
   "execution_count": 2,
   "id": "bfdf2acb",
   "metadata": {},
   "outputs": [],
   "source": [
    "matplotlib.rcParams.update({'font.size': 8, 'axes.linewidth': 0.5, 'xtick.major.width': 0.5, 'xtick.minor.width': 0.5, \n",
    "                            'ytick.major.width': 0.5,'ytick.minor.width': 0.5, 'xtick.major.pad':2,'ytick.major.pad':2})\n",
    "matplotlib.rcParams.update({'font.family':'sans-serif','font.sans-serif':['Arial'], 'mathtext.default':'sf','mathtext.fontset':'custom'})\n",
    "\n",
    "matplotlib.rcParams.update({'savefig.transparent':True})"
   ]
  },
  {
   "cell_type": "markdown",
   "id": "c54e7945",
   "metadata": {},
   "source": [
    "# Setup variables"
   ]
  },
  {
   "cell_type": "code",
   "execution_count": 3,
   "id": "c022b921",
   "metadata": {},
   "outputs": [],
   "source": [
    "# Simulation time step size (s)\n",
    "dt_trial = 2e-3\n",
    "\n",
    "# Total time per block (s)\n",
    "T_max_full = 0.75\n",
    "T_min_full = -0.25\n",
    "T = T_max_full - T_min_full\n",
    "\n",
    "T_min = 0\n",
    "t_min_ind = int((T_min-T_min_full)/dt_trial)\n",
    "T_max = 0.5\n",
    "t_max_ind = int((T_max - T_min_full)/dt_trial)\n",
    "\n",
    "\n",
    "# Array of time steps\n",
    "t_trial = np.arange(0, int(T/dt_trial))*dt_trial + T_min_full"
   ]
  },
  {
   "cell_type": "code",
   "execution_count": 4,
   "id": "9ed39b1f",
   "metadata": {},
   "outputs": [],
   "source": [
    "# Time vector for eligibility window\n",
    "dt_mp = dt_trial\n",
    "T_mp_max = 0.2\n",
    "\n",
    "tau = np.arange(0, int(T_mp_max/dt_mp))*dt_mp"
   ]
  },
  {
   "cell_type": "code",
   "execution_count": 7,
   "id": "21295c43",
   "metadata": {},
   "outputs": [],
   "source": [
    "## Visual (optokinetic ) stimulus\n",
    "\n",
    "peak_stim_vel = 10 # deg/s\n",
    "f = 1 # Hz\n",
    "stim_vel_f = lambda t: -peak_stim_vel*np.sin(2*np.pi*f*t)\n",
    "direct_pathway_f = lambda t: -peak_stim_vel*np.sin(2*np.pi*f*(t-0.04))"
   ]
  },
  {
   "cell_type": "code",
   "execution_count": 8,
   "id": "07cba06a",
   "metadata": {},
   "outputs": [],
   "source": [
    "avg_sensitivity_to_pc = 0.01"
   ]
  },
  {
   "cell_type": "markdown",
   "id": "77349836",
   "metadata": {},
   "source": [
    "# Load simulation results"
   ]
  },
  {
   "cell_type": "code",
   "execution_count": 6,
   "id": "d6f1ad6a",
   "metadata": {},
   "outputs": [],
   "source": [
    "# Results of running timer-selection-integrated.py for 10 simulation blocks\n",
    "# of 1,000,000 trials, and a sample interval of 1,000 trials\n",
    "\n",
    "folder = 'files/okr'\n",
    "\n",
    "eye_history_untuned = np.load(folder+'/eye_history_untuned.npy')\n",
    "eye_history_no_noise_untuned =  np.load(folder+'/eye_history_no_noise_untuned.npy')\n",
    "# w_final_untuned = np.load(folder+'/w_final_untuned.npy' )\n",
    "# w_avg_final_untuned = np.load(folder+'/w_avg_final_untuned.npy' )\n",
    "\n",
    "eye_history_tuned = np.load(folder+'/eye_history_tuned.npy')\n",
    "eye_history_no_noise_tuned =  np.load(folder+'/eye_history_no_noise_tuned.npy')\n",
    "# w_final_tuned = np.load(folder+'/w_final_tuned.npy' )\n",
    "# w_avg_final_tuned = np.load(folder+'/w_avg_final_tuned.npy' )"
   ]
  },
  {
   "cell_type": "code",
   "execution_count": 9,
   "id": "9c5709c4",
   "metadata": {},
   "outputs": [],
   "source": [
    "eye_learned_final_untuned = (((1-avg_sensitivity_to_pc)*eye_history_no_noise_untuned\n",
    "                            + eye_history_untuned*avg_sensitivity_to_pc))\n",
    "\n",
    "eye_learned_final_tuned = (((1-avg_sensitivity_to_pc)*eye_history_no_noise_tuned\n",
    "                            + eye_history_tuned*avg_sensitivity_to_pc)) "
   ]
  },
  {
   "cell_type": "code",
   "execution_count": 10,
   "id": "6b1e4e2b",
   "metadata": {},
   "outputs": [],
   "source": [
    "eye_history_mu_untuned = np.mean(eye_learned_final_untuned,axis=0)\n",
    "eye_history_std_untuned = np.std(eye_learned_final_untuned,axis=0)\n",
    "\n",
    "eye_history_mu_tuned = np.mean(eye_learned_final_tuned,axis=0)\n",
    "eye_history_std_tuned = np.std(eye_learned_final_tuned,axis=0)"
   ]
  },
  {
   "cell_type": "code",
   "execution_count": 13,
   "id": "2e7471d6",
   "metadata": {},
   "outputs": [],
   "source": [
    "baseline_gain_untuned = 0.35\n",
    "baseline_gain_tuned = 0.35"
   ]
  },
  {
   "cell_type": "markdown",
   "id": "a894ab8f",
   "metadata": {},
   "source": [
    "## Plot pre/post learning"
   ]
  },
  {
   "cell_type": "code",
   "execution_count": 19,
   "id": "496d8fa6",
   "metadata": {},
   "outputs": [],
   "source": [
    "direct_pathway_plot = direct_pathway_f(t_trial[t_min_ind:t_max_ind])\n",
    "stim_plot = stim_vel_f(t_trial[t_min_ind:t_max_ind])"
   ]
  },
  {
   "cell_type": "markdown",
   "id": "8a921045",
   "metadata": {},
   "source": [
    "### Using untuned (coincident) plasticity"
   ]
  },
  {
   "cell_type": "code",
   "execution_count": 21,
   "id": "d630e7bf",
   "metadata": {},
   "outputs": [
    {
     "data": {
      "image/png": "[encoded data removed]",
      "text/plain": [
       "<Figure size 150x100 with 1 Axes>"
      ]
     },
     "metadata": {},
     "output_type": "display_data"
    }
   ],
   "source": [
    "plt.figure(figsize=(1.5,1))\n",
    "\n",
    "\n",
    "plt.plot([t_trial[t_min_ind], t_trial[t_max_ind]],[0,0], c='k',lw=1)\n",
    "\n",
    "plt.fill_between(t_trial[t_min_ind:t_max_ind], \n",
    "                 baseline_gain_untuned*direct_pathway_plot, \n",
    "                 baseline_gain_untuned*direct_pathway_plot +  eye_history_mu_untuned[t_min_ind:t_max_ind,-1],\n",
    "                 color='C2', alpha=0.3, edgecolor=None)\n",
    "\n",
    "plt.plot(t_trial[t_min_ind:t_max_ind], baseline_gain_untuned*direct_pathway_plot, c='k',lw=1)\n",
    "plt.plot(t_trial[t_min_ind:t_max_ind], baseline_gain_untuned*direct_pathway_plot + eye_history_mu_untuned[t_min_ind:t_max_ind,-1], c='C2',lw=0.75)\n",
    "\n",
    "plt.plot(t_trial[t_min_ind:t_max_ind], stim_plot, c=(0.5,)*3,lw=1)\n",
    "\n",
    "plt.plot([0,0],[-4,-9], c='k')\n",
    "plt.plot([0,0.1],[-9,-9],c='k')\n",
    "\n",
    "plt.axis('off');\n",
    "# plt.savefig('figures/learning-temp-before.pdf')"
   ]
  },
  {
   "cell_type": "markdown",
   "id": "6d60ccd8",
   "metadata": {},
   "source": [
    "### Using tuned (120 ms) plasticity rule"
   ]
  },
  {
   "cell_type": "code",
   "execution_count": 22,
   "id": "8dfcc118",
   "metadata": {},
   "outputs": [
    {
     "data": {
      "image/png": "[encoded data removed]",
      "text/plain": [
       "<Figure size 150x100 with 1 Axes>"
      ]
     },
     "metadata": {},
     "output_type": "display_data"
    }
   ],
   "source": [
    "plt.figure(figsize=(1.5,1))\n",
    "\n",
    "\n",
    "plt.plot([t_trial[t_min_ind], t_trial[t_max_ind]],[0,0], c='k',lw=1)\n",
    "\n",
    "plt.fill_between(t_trial[t_min_ind:t_max_ind], \n",
    "                 baseline_gain_tuned*direct_pathway_plot, \n",
    "                 baseline_gain_tuned*direct_pathway_plot +  eye_history_mu_tuned[t_min_ind:t_max_ind,-1],\n",
    "                 color='C8', alpha=0.3, edgecolor=None)\n",
    "\n",
    "plt.plot(t_trial[t_min_ind:t_max_ind], baseline_gain_tuned*direct_pathway_plot, c='k',lw=1)\n",
    "plt.plot(t_trial[t_min_ind:t_max_ind], baseline_gain_tuned*direct_pathway_plot + eye_history_mu_tuned[t_min_ind:t_max_ind,-1], c='C8',lw=0.75)\n",
    "\n",
    "plt.plot(t_trial[t_min_ind:t_max_ind], stim_plot, c=(0.5,)*3,lw=1)\n",
    "\n",
    "plt.plot([0,0],[-4,-9], c='k')\n",
    "plt.plot([0,0.1],[-9,-9],c='k')\n",
    "\n",
    "plt.axis('off');\n",
    "# plt.savefig('figures/learning-temp-before.pdf')"
   ]
  },
  {
   "cell_type": "markdown",
   "id": "ede62520",
   "metadata": {},
   "source": [
    "### Learned component"
   ]
  },
  {
   "cell_type": "code",
   "execution_count": 32,
   "id": "08ba3e0c",
   "metadata": {},
   "outputs": [
    {
     "data": {
      "text/plain": [
       "([<matplotlib.axis.XTick at 0x15255d6d0>,\n",
       "  <matplotlib.axis.XTick at 0x15255cf50>,\n",
       "  <matplotlib.axis.XTick at 0x15258c690>],\n",
       " [Text(0.0, 0, '0.00'), Text(0.25, 0, '0.25'), Text(0.5, 0, '0.50')])"
      ]
     },
     "execution_count": 32,
     "metadata": {},
     "output_type": "execute_result"
    },
    {
     "data": {
      "image/png": "[encoded data removed]",
      "text/plain": [
       "<Figure size 150x100 with 1 Axes>"
      ]
     },
     "metadata": {},
     "output_type": "display_data"
    }
   ],
   "source": [
    "plt.figure(figsize=(1.5,1))\n",
    "\n",
    "plt.plot(t_trial[t_min_ind:t_max_ind], stim_plot, c=(0.5,)*3,lw=1)\n",
    "plt.plot([t_trial[t_min_ind], t_trial[t_max_ind]],[0,0], c='k',lw=1)\n",
    "\n",
    "plt.fill_between(t_trial[t_min_ind:t_max_ind], eye_history_mu_untuned[t_min_ind:t_max_ind,-1]-eye_history_std_untuned[t_min_ind:t_max_ind,-1], \n",
    "                 eye_history_mu_untuned[t_min_ind:t_max_ind,-1]+eye_history_std_untuned[t_min_ind:t_max_ind,-1],\n",
    "                 color='C2', alpha=0.3, edgecolor=None)\n",
    "\n",
    "plt.fill_between(t_trial[t_min_ind:t_max_ind], eye_history_mu_tuned[t_min_ind:t_max_ind,-1]-eye_history_std_tuned[t_min_ind:t_max_ind,-1], \n",
    "                 eye_history_mu_tuned[t_min_ind:t_max_ind,-1]+eye_history_std_tuned[t_min_ind:t_max_ind,-1], color='C8', alpha=0.3, edgecolor=None)\n",
    "\n",
    "plt.plot(t_trial[t_min_ind:t_max_ind], eye_history_mu_untuned[t_min_ind:t_max_ind,-1], c='C2',lw=0.75)\n",
    "plt.plot(t_trial[t_min_ind:t_max_ind], eye_history_mu_tuned[t_min_ind:t_max_ind,-1],c='C8',lw=0.75)\n",
    "\n",
    "plt.plot([t_trial[np.argmin(eye_history_mu_untuned[:,-1]),]]*2,[0,-10],c='C2' )\n",
    "plt.plot([t_trial[np.argmin(eye_history_mu_tuned[:,-1]),]]*2,[0,-10],c='C8' )\n",
    "plt.plot([0.25,]*2,[0,-10],c=(0.5,)*3 ) # peak of stimulus\n",
    "plt.plot([0,0],[-4,-9], c='k')\n",
    "plt.plot([0,0.1],[-9,-9],c='k')\n",
    "\n",
    "plt.xticks([0, 0.25, 0.5])\n",
    "# plt.axis('off')\n",
    "# plt.savefig('figures/learning-temp-before-after.pdf');"
   ]
  }
 ],
 "metadata": {
  "kernelspec": {
   "display_name": "Python [conda env:science] *",
   "language": "python",
   "name": "conda-env-science-py"
  },
  "language_info": {
   "codemirror_mode": {
    "name": "ipython",
    "version": 3
   },
   "file_extension": ".py",
   "mimetype": "text/x-python",
   "name": "python",
   "nbconvert_exporter": "python",
   "pygments_lexer": "ipython3",
   "version": "3.13.0"
  }
 },
 "nbformat": 4,
 "nbformat_minor": 5
}
