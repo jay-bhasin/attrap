{
 "cells": [
  {
   "cell_type": "code",
   "execution_count": 1,
   "id": "df0153dd",
   "metadata": {},
   "outputs": [],
   "source": [
    "import numpy as np\n",
    "\n",
    "# Save fonts into pdf\n",
    "import matplotlib\n",
    "matplotlib.rcParams['pdf.fonttype'] = 42\n",
    "matplotlib.rcParams['ps.fonttype'] = 42\n",
    "\n",
    "\n",
    "import matplotlib.pyplot as plt\n",
    "import tqdm.notebook\n",
    "import scipy.integrate"
   ]
  },
  {
   "cell_type": "code",
   "execution_count": 2,
   "id": "e3ad6146",
   "metadata": {},
   "outputs": [],
   "source": [
    "matplotlib.rcParams.update({'font.size': 8, 'axes.linewidth': 0.5, 'xtick.major.width': 0.5, 'xtick.minor.width': 0.5, \n",
    "                            'ytick.major.width': 0.5,'ytick.minor.width': 0.5, 'xtick.major.pad':2,'ytick.major.pad':2})\n",
    "matplotlib.rcParams.update({'font.family':'sans-serif','font.sans-serif':['Arial'], 'mathtext.default':'sf','mathtext.fontset':'custom'})\n",
    "\n",
    "matplotlib.rcParams.update({'savefig.transparent':True})"
   ]
  },
  {
   "cell_type": "code",
   "execution_count": 3,
   "id": "47ef8a09",
   "metadata": {},
   "outputs": [],
   "source": [
    "dt = 1e-4\n",
    "T_max = 0.2\n",
    "t = np.arange(0, int(T_max/dt))*dt"
   ]
  },
  {
   "cell_type": "code",
   "execution_count": 5,
   "id": "5cf1330c",
   "metadata": {},
   "outputs": [],
   "source": [
    "uni_distr = np.exp(-(t-0.12)**2/(2*0.0075**2))\n",
    "uni_distr /=np.sum(uni_distr)"
   ]
  },
  {
   "cell_type": "code",
   "execution_count": 6,
   "id": "f02b171b",
   "metadata": {},
   "outputs": [],
   "source": [
    "uniform_distr = np.ones(len(t))\n",
    "uniform_distr /= np.sum(uniform_distr)\n",
    "\n",
    "peak_weight = 0.1\n",
    "peaked_distr = peak_weight*uni_distr + (1-peak_weight)*uniform_distr"
   ]
  },
  {
   "cell_type": "code",
   "execution_count": 102,
   "id": "b064c258",
   "metadata": {},
   "outputs": [],
   "source": [
    "uniform_cdf = np.cumsum(uniform_distr)\n",
    "get_interval_unif = lambda r: np.interp(r, uniform_cdf, t)"
   ]
  },
  {
   "cell_type": "code",
   "execution_count": 7,
   "id": "20c7a96d",
   "metadata": {},
   "outputs": [],
   "source": [
    "# uniform_cdf = np.cumsum(uniform_distr)\n",
    "peaked_cdf = np.cumsum(peaked_distr)\n",
    "get_interval_peaked = lambda r: np.interp(r, peaked_cdf, t)"
   ]
  },
  {
   "cell_type": "code",
   "execution_count": 42,
   "id": "656d84f4",
   "metadata": {},
   "outputs": [],
   "source": [
    "idealized_integrator = lambda t, t_p: np.exp(-(t-t_p)**2/(2*0.0025**2))\n",
    "\n",
    "def simulateTimerAdjustmentPeak(get_interval, N_sims = 10, its = 5000, \n",
    "                                dtp_ = 1e-3, min_tp = 0, max_tp = T_max, report_its = 100,\n",
    "                               window_left = 20e-3, window_right = 20e-3, median_weight = 0.01, initial_value = None):\n",
    "    tps = np.zeros((N_sims, int(its/report_its)))\n",
    "    # cdf = np.cumsum(distr)\n",
    "    # get_interval = lambda r: np.interp(r, cdf, t)\n",
    "    \n",
    "    if initial_value == None:\n",
    "        initial_value = min_tp\n",
    "    \n",
    "\n",
    "    for n in tqdm.notebook.trange(N_sims):\n",
    "        integrator = idealized_integrator(t, min_tp)\n",
    "        report_ind = 0\n",
    "        tp = initial_value\n",
    "\n",
    "        # tps[n, 0] = initial_value\n",
    "        for it in tqdm.notebook.trange(its-1, leave=False):\n",
    "            cf_time = get_interval(rng.random())\n",
    "\n",
    "            # Idealized ATTRAP rule: lower threshold if CF occurs before current peak time\n",
    "            # and raise threshold if CF occurs after current peak time\n",
    "            # lower_tp_med = -1*(cf_time < tps[n, it])\n",
    "            lower_tp_med = -1*(cf_time < tp)\n",
    "            # raise_tp_med = cf_time > tps[n, it]\n",
    "            raise_tp_med = cf_time > tp\n",
    "\n",
    "            dtp_med = lower_tp_med+raise_tp_med\n",
    "            \n",
    "            # lower_tp_window = -1*(tps[n,it]-window_left < cf_time < tps[n, it])\n",
    "            lower_tp_window = -1*(tp-window_left < cf_time < tp)\n",
    "            # raise_tp_window = tps[n, it] < cf_time < tps[n,it] + window_right\n",
    "            raise_tp_window = tp < cf_time < tp + window_right\n",
    "            \n",
    "            dtp_window = lower_tp_window+raise_tp_window\n",
    "            \n",
    "            dtp = dtp_*(median_weight*dtp_med + (1-median_weight)*dtp_window)\n",
    "            # tps[n,it+1] = np.minimum(np.maximum(tps[n,it] + dtp, min_tp), max_tp)\n",
    "\n",
    "            tp += dtp\n",
    "            integrator = idealized_integrator(t, tp + dtp)\n",
    "            \n",
    "            if it % report_its == 0:\n",
    "                tps[n, report_ind] = tp\n",
    "                report_ind += 1\n",
    "    return tps"
   ]
  },
  {
   "cell_type": "code",
   "execution_count": 15,
   "id": "6808125d",
   "metadata": {},
   "outputs": [],
   "source": [
    "rng = np.random.default_rng(seed=0)"
   ]
  },
  {
   "cell_type": "code",
   "execution_count": 56,
   "id": "62562182",
   "metadata": {
    "scrolled": true
   },
   "outputs": [
    {
     "data": {
      "application/vnd.jupyter.widget-view+json": {
       "model_id": "c048c26da8794937a2ff82373e10acb3",
       "version_major": 2,
       "version_minor": 0
      },
      "text/plain": [
       "  0%|          | 0/10 [00:00<?, ?it/s]"
      ]
     },
     "metadata": {},
     "output_type": "display_data"
    },
    {
     "data": {
      "application/vnd.jupyter.widget-view+json": {
       "model_id": "",
       "version_major": 2,
       "version_minor": 0
      },
      "text/plain": [
       "  0%|          | 0/499999 [00:00<?, ?it/s]"
      ]
     },
     "metadata": {},
     "output_type": "display_data"
    },
    {
     "data": {
      "application/vnd.jupyter.widget-view+json": {
       "model_id": "",
       "version_major": 2,
       "version_minor": 0
      },
      "text/plain": [
       "  0%|          | 0/499999 [00:00<?, ?it/s]"
      ]
     },
     "metadata": {},
     "output_type": "display_data"
    },
    {
     "data": {
      "application/vnd.jupyter.widget-view+json": {
       "model_id": "",
       "version_major": 2,
       "version_minor": 0
      },
      "text/plain": [
       "  0%|          | 0/499999 [00:00<?, ?it/s]"
      ]
     },
     "metadata": {},
     "output_type": "display_data"
    },
    {
     "data": {
      "application/vnd.jupyter.widget-view+json": {
       "model_id": "",
       "version_major": 2,
       "version_minor": 0
      },
      "text/plain": [
       "  0%|          | 0/499999 [00:00<?, ?it/s]"
      ]
     },
     "metadata": {},
     "output_type": "display_data"
    },
    {
     "data": {
      "application/vnd.jupyter.widget-view+json": {
       "model_id": "",
       "version_major": 2,
       "version_minor": 0
      },
      "text/plain": [
       "  0%|          | 0/499999 [00:00<?, ?it/s]"
      ]
     },
     "metadata": {},
     "output_type": "display_data"
    },
    {
     "data": {
      "application/vnd.jupyter.widget-view+json": {
       "model_id": "",
       "version_major": 2,
       "version_minor": 0
      },
      "text/plain": [
       "  0%|          | 0/499999 [00:00<?, ?it/s]"
      ]
     },
     "metadata": {},
     "output_type": "display_data"
    },
    {
     "data": {
      "application/vnd.jupyter.widget-view+json": {
       "model_id": "",
       "version_major": 2,
       "version_minor": 0
      },
      "text/plain": [
       "  0%|          | 0/499999 [00:00<?, ?it/s]"
      ]
     },
     "metadata": {},
     "output_type": "display_data"
    },
    {
     "data": {
      "application/vnd.jupyter.widget-view+json": {
       "model_id": "",
       "version_major": 2,
       "version_minor": 0
      },
      "text/plain": [
       "  0%|          | 0/499999 [00:00<?, ?it/s]"
      ]
     },
     "metadata": {},
     "output_type": "display_data"
    },
    {
     "data": {
      "application/vnd.jupyter.widget-view+json": {
       "model_id": "",
       "version_major": 2,
       "version_minor": 0
      },
      "text/plain": [
       "  0%|          | 0/499999 [00:00<?, ?it/s]"
      ]
     },
     "metadata": {},
     "output_type": "display_data"
    },
    {
     "data": {
      "application/vnd.jupyter.widget-view+json": {
       "model_id": "",
       "version_major": 2,
       "version_minor": 0
      },
      "text/plain": [
       "  0%|          | 0/499999 [00:00<?, ?it/s]"
      ]
     },
     "metadata": {},
     "output_type": "display_data"
    }
   ],
   "source": [
    "tps_ideal_asym = simulateTimerAdjustmentPeak(get_interval_peaked,dtp_=5e-4, initial_value=0., window_right=19e-3,\n",
    "                                               its=500000, N_sims=10,median_weight=0.01, report_its=1000)"
   ]
  },
  {
   "cell_type": "code",
   "execution_count": 57,
   "id": "7ab3a30d",
   "metadata": {},
   "outputs": [],
   "source": [
    "trial_t = np.arange(tps_ideal_asym.shape[1])"
   ]
  },
  {
   "cell_type": "code",
   "execution_count": 58,
   "id": "1f93cae1",
   "metadata": {},
   "outputs": [
    {
     "data": {
      "text/plain": [
       "[<matplotlib.lines.Line2D at 0x7fca23fda260>]"
      ]
     },
     "execution_count": 58,
     "metadata": {},
     "output_type": "execute_result"
    },
    {
     "data": {
      "image/png": "[encoded data removed]",
      "text/plain": [
       "<Figure size 640x480 with 1 Axes>"
      ]
     },
     "metadata": {},
     "output_type": "display_data"
    }
   ],
   "source": [
    "plt.plot(trial_t, tps_ideal_asym[0,:])"
   ]
  },
  {
   "cell_type": "code",
   "execution_count": 59,
   "id": "1586d6e3",
   "metadata": {
    "scrolled": false
   },
   "outputs": [
    {
     "data": {
      "image/png": "[encoded data removed]",
      "text/plain": [
       "<Figure size 640x480 with 1 Axes>"
      ]
     },
     "metadata": {},
     "output_type": "display_data"
    }
   ],
   "source": [
    "for i in range(tps_ideal_asym.shape[0]):\n",
    "    plt.plot(tps_ideal_asym[i,:], trial_t) # , c=[c[i],]*3)"
   ]
  },
  {
   "cell_type": "code",
   "execution_count": 65,
   "id": "417f1067",
   "metadata": {},
   "outputs": [],
   "source": [
    "uniform_cdf_fn = lambda r: np.interp(r, t, uniform_cdf,left=0,right=1)\n",
    "peaked_cdf_fn = lambda r: np.interp(r, t, peaked_cdf,left=0,right=1)"
   ]
  },
  {
   "cell_type": "code",
   "execution_count": 66,
   "id": "cc93cd85",
   "metadata": {},
   "outputs": [],
   "source": [
    "median_weight = 1e-2\n",
    "window_size = [20e-3, 19e-3]\n",
    "expected_delta_tp_fn = lambda tp,fn: -(median_weight*(2*fn(tp)-1)+\n",
    "                                (1-median_weight)*(2*fn(tp) - fn(tp-window_size[0]) -\n",
    "                                                  fn(tp+window_size[1])))\n",
    "\n",
    "expected_delta_tp_unif = lambda tp: expected_delta_tp_fn(tp, uniform_cdf_fn)\n",
    "expected_delta_tp_peaked = lambda tp: expected_delta_tp_fn(tp, peaked_cdf_fn)"
   ]
  },
  {
   "cell_type": "code",
   "execution_count": 90,
   "id": "6ac5681d",
   "metadata": {},
   "outputs": [],
   "source": [
    "tp_phase = np.linspace(0.01, 0.19, 10) # 8\n",
    "tt_phase = np.linspace(50000, 450000, 4)\n",
    "\n",
    "tpp, ttt = np.meshgrid(tp_phase, tt_phase)"
   ]
  },
  {
   "cell_type": "code",
   "execution_count": 91,
   "id": "f1b13821",
   "metadata": {},
   "outputs": [],
   "source": [
    "dtpp = expected_delta_tp_peaked(tpp)\n",
    "dttt = np.ones(ttt.shape)\n",
    "\n",
    "dtpp_norm = dtpp/np.sqrt(dtpp**2 + dttt**2)\n",
    "dttt_norm = dttt/np.sqrt(dtpp**2 + dttt**2)"
   ]
  },
  {
   "cell_type": "code",
   "execution_count": 100,
   "id": "e504df16",
   "metadata": {},
   "outputs": [
    {
     "data": {
      "image/png": "[encoded data removed]",
      "text/plain": [
       "<Figure size 150x75 with 1 Axes>"
      ]
     },
     "metadata": {},
     "output_type": "display_data"
    }
   ],
   "source": [
    "plt.figure(figsize=(1.5,0.75))\n",
    "plt.quiver(tpp, ttt, dtpp_norm, dttt_norm, angles='xy', pivot='middle', color=(0.7,)*3)\n",
    "plt.plot([0.12,]*2, [0, trial_t[-1]], c='r')\n",
    "plt.plot([0.0615,]*2, [0, trial_t[-1]], c='r') # c=(0.3,)*3)\n",
    "c = np.linspace(0,0.8,10)\n",
    "for i in range(10):\n",
    "    plt.plot(tps_ideal_asym[i,:], trial_t*1000,lw=1) # , c=[c[i],]*3)\n",
    "\n",
    "\n",
    "plt.xlim([0, 0.2])\n",
    "plt.ylim([0, 500000])\n",
    "\n",
    "ax = plt.gca()\n",
    "ax.set_yticks([0, 250000, 500000])\n",
    "ax.set_yticklabels([])\n",
    "ax.set_xticks([0, 0.1, 0.2])\n",
    "ax.set_xticklabels([])\n",
    "plt.savefig('figures/ideal-selection-narrow-asym-phase.pdf')"
   ]
  },
  {
   "cell_type": "code",
   "execution_count": 127,
   "id": "382b5d0f",
   "metadata": {},
   "outputs": [],
   "source": [
    "tps_ideal_asym_peaked_mu = np.mean(tps_ideal_asym,axis=0)"
   ]
  },
  {
   "cell_type": "code",
   "execution_count": 128,
   "id": "9a393807",
   "metadata": {},
   "outputs": [
    {
     "data": {
      "text/plain": [
       "(500,)"
      ]
     },
     "execution_count": 128,
     "metadata": {},
     "output_type": "execute_result"
    }
   ],
   "source": [
    "tps_ideal_asym_peaked_mu.shape"
   ]
  },
  {
   "cell_type": "code",
   "execution_count": 130,
   "id": "24c91946",
   "metadata": {},
   "outputs": [
    {
     "data": {
      "image/png": "[encoded data removed]",
      "text/plain": [
       "<Figure size 150x75 with 1 Axes>"
      ]
     },
     "metadata": {},
     "output_type": "display_data"
    }
   ],
   "source": [
    "\n",
    "plt.figure(figsize=(1.5,0.75))\n",
    "plt.plot(t, idealized_integrator(t, np.mean(tps_ideal_asym_peaked_mu[-10:])),c='k')\n",
    "plt.axis('off')\n",
    "\n",
    "plt.savefig('figures/ideal-selection-narrow-asym-eligibility-peaked.pdf')"
   ]
  },
  {
   "cell_type": "code",
   "execution_count": null,
   "id": "f55271e8",
   "metadata": {},
   "outputs": [],
   "source": []
  },
  {
   "cell_type": "code",
   "execution_count": 103,
   "id": "956cc7b9",
   "metadata": {},
   "outputs": [
    {
     "data": {
      "application/vnd.jupyter.widget-view+json": {
       "model_id": "1dde6c4172314178879ec57fe0608cea",
       "version_major": 2,
       "version_minor": 0
      },
      "text/plain": [
       "  0%|          | 0/10 [00:00<?, ?it/s]"
      ]
     },
     "metadata": {},
     "output_type": "display_data"
    },
    {
     "data": {
      "application/vnd.jupyter.widget-view+json": {
       "model_id": "",
       "version_major": 2,
       "version_minor": 0
      },
      "text/plain": [
       "  0%|          | 0/499999 [00:00<?, ?it/s]"
      ]
     },
     "metadata": {},
     "output_type": "display_data"
    },
    {
     "data": {
      "application/vnd.jupyter.widget-view+json": {
       "model_id": "",
       "version_major": 2,
       "version_minor": 0
      },
      "text/plain": [
       "  0%|          | 0/499999 [00:00<?, ?it/s]"
      ]
     },
     "metadata": {},
     "output_type": "display_data"
    },
    {
     "data": {
      "application/vnd.jupyter.widget-view+json": {
       "model_id": "",
       "version_major": 2,
       "version_minor": 0
      },
      "text/plain": [
       "  0%|          | 0/499999 [00:00<?, ?it/s]"
      ]
     },
     "metadata": {},
     "output_type": "display_data"
    },
    {
     "data": {
      "application/vnd.jupyter.widget-view+json": {
       "model_id": "",
       "version_major": 2,
       "version_minor": 0
      },
      "text/plain": [
       "  0%|          | 0/499999 [00:00<?, ?it/s]"
      ]
     },
     "metadata": {},
     "output_type": "display_data"
    },
    {
     "data": {
      "application/vnd.jupyter.widget-view+json": {
       "model_id": "",
       "version_major": 2,
       "version_minor": 0
      },
      "text/plain": [
       "  0%|          | 0/499999 [00:00<?, ?it/s]"
      ]
     },
     "metadata": {},
     "output_type": "display_data"
    },
    {
     "data": {
      "application/vnd.jupyter.widget-view+json": {
       "model_id": "",
       "version_major": 2,
       "version_minor": 0
      },
      "text/plain": [
       "  0%|          | 0/499999 [00:00<?, ?it/s]"
      ]
     },
     "metadata": {},
     "output_type": "display_data"
    },
    {
     "data": {
      "application/vnd.jupyter.widget-view+json": {
       "model_id": "",
       "version_major": 2,
       "version_minor": 0
      },
      "text/plain": [
       "  0%|          | 0/499999 [00:00<?, ?it/s]"
      ]
     },
     "metadata": {},
     "output_type": "display_data"
    },
    {
     "data": {
      "application/vnd.jupyter.widget-view+json": {
       "model_id": "",
       "version_major": 2,
       "version_minor": 0
      },
      "text/plain": [
       "  0%|          | 0/499999 [00:00<?, ?it/s]"
      ]
     },
     "metadata": {},
     "output_type": "display_data"
    },
    {
     "data": {
      "application/vnd.jupyter.widget-view+json": {
       "model_id": "",
       "version_major": 2,
       "version_minor": 0
      },
      "text/plain": [
       "  0%|          | 0/499999 [00:00<?, ?it/s]"
      ]
     },
     "metadata": {},
     "output_type": "display_data"
    },
    {
     "data": {
      "application/vnd.jupyter.widget-view+json": {
       "model_id": "",
       "version_major": 2,
       "version_minor": 0
      },
      "text/plain": [
       "  0%|          | 0/499999 [00:00<?, ?it/s]"
      ]
     },
     "metadata": {},
     "output_type": "display_data"
    }
   ],
   "source": [
    "tp_ideal_asym = simulateTimerAdjustmentPeak(get_interval_unif,dtp_=5e-4, initial_value=0.12, window_right=19e-3,\n",
    "                                               its=500000, N_sims=10,median_weight=0.01, report_its=1000)"
   ]
  },
  {
   "cell_type": "code",
   "execution_count": 104,
   "id": "abe4f849",
   "metadata": {},
   "outputs": [],
   "source": [
    "tp_ideal_asym_unif_mu = np.mean(tp_ideal_asym, axis=0)\n",
    "tp_ideal_asym_unif_std = np.std(tp_ideal_asym, axis=0)"
   ]
  },
  {
   "cell_type": "code",
   "execution_count": 105,
   "id": "78ab98bd",
   "metadata": {},
   "outputs": [],
   "source": [
    "dtpp = expected_delta_tp_unif(tpp)\n",
    "dttt = np.ones(ttt.shape)\n",
    "\n",
    "dtpp_norm = dtpp/np.sqrt(dtpp**2 + dttt**2)\n",
    "dttt_norm = dttt/np.sqrt(dtpp**2 + dttt**2)"
   ]
  },
  {
   "cell_type": "code",
   "execution_count": 117,
   "id": "291d6ff3",
   "metadata": {},
   "outputs": [
    {
     "data": {
      "image/png": "[encoded data removed]",
      "text/plain": [
       "<Figure size 150x75 with 1 Axes>"
      ]
     },
     "metadata": {},
     "output_type": "display_data"
    }
   ],
   "source": [
    "plt.figure(figsize=(1.5,0.75))\n",
    "plt.quiver(tpp, ttt, dtpp_norm, dttt_norm, angles='xy', pivot='middle', color=(0.7,)*3)\n",
    "# plt.plot([0.05,]*2, [0, trial_t[-1]], c='r')\n",
    "# plt.plot([0.0615,]*2, [0, trial_t[-1]], c='r') # c=(0.3,)*3)\n",
    "# c = np.linspace(0,0.8,10)\n",
    "# for i in range(10):\n",
    "#     plt.plot(thresholds_ideal_asym[i,::1000], trial_t[::1000]) # , c=[c[i],]*3)\n",
    "\n",
    "plt.plot(tp_ideal_asym_unif_mu, trial_t*1000, c='k',lw=0.5)\n",
    "# plt.plot((tp_ideal_asym_unif_mu-tp_ideal_asym_unif_std), trial_t*1000, c=(0.5,)*3)\n",
    "# plt.plot((tp_ideal_asym_unif_mu+tp_ideal_asym_unif_std), trial_t*1000, c=(0.5,)*3)\n",
    "# plt.plot(thresholds_ideal_2_mu, trial_t)\n",
    "plt.fill_betweenx(trial_t*1000, tp_ideal_asym_unif_mu - tp_ideal_asym_unif_std,tp_ideal_asym_unif_mu + tp_ideal_asym_unif_std, facecolor='k', alpha=0.3 )\n",
    "# plt.fill_betweenx(trial_t, thresholds_ideal_2_mu - thresholds_ideal_2_std,thresholds_ideal_2_mu + thresholds_ideal_2_std, facecolor='C1', alpha=0.3 )\n",
    "\n",
    "plt.xlim([0, 0.2])\n",
    "plt.ylim([0, 500000])\n",
    "\n",
    "ax = plt.gca()\n",
    "ax.set_yticks([0, 250000, 500000])\n",
    "ax.set_yticklabels([])\n",
    "ax.set_xticks([0, 0.1, 0.2])\n",
    "ax.set_xticklabels([])\n",
    "plt.savefig('figures/ideal-selection-narrow-asym-phase-unif.pdf')"
   ]
  },
  {
   "cell_type": "code",
   "execution_count": 131,
   "id": "029577ee",
   "metadata": {},
   "outputs": [
    {
     "data": {
      "image/png": "[encoded data removed]",
      "text/plain": [
       "<Figure size 150x75 with 1 Axes>"
      ]
     },
     "metadata": {},
     "output_type": "display_data"
    }
   ],
   "source": [
    "\n",
    "plt.figure(figsize=(1.5,0.75))\n",
    "plt.plot(t, idealized_integrator(t, np.mean(tp_ideal_asym_unif_mu[-10:])),c='k')\n",
    "plt.axis('off')\n",
    "\n",
    "plt.savefig('figures/ideal-selection-narrow-asym-eligibility-unif.pdf')"
   ]
  },
  {
   "cell_type": "markdown",
   "id": "c846cba4",
   "metadata": {},
   "source": [
    "# Biased WTA"
   ]
  },
  {
   "cell_type": "code",
   "execution_count": 166,
   "id": "ac70a4ff",
   "metadata": {},
   "outputs": [],
   "source": [
    "num_ideal_timers = 14\n",
    "timers = np.zeros((num_ideal_timers, len(t)))\n",
    "centers = np.linspace(0, 0.2, num_ideal_timers+1)[:-1]\n",
    "width = centers[1]/2\n",
    "centers += width\n",
    "for i in range(num_ideal_timers):\n",
    "    timers[i,:] = np.exp(-(t - centers[i])**2/(2*(width)**2))"
   ]
  },
  {
   "cell_type": "code",
   "execution_count": 167,
   "id": "73f59e05",
   "metadata": {},
   "outputs": [
    {
     "data": {
      "text/plain": [
       "array([0.00714286, 0.02142857, 0.03571429, 0.05      , 0.06428571,\n",
       "       0.07857143, 0.09285714, 0.10714286, 0.12142857, 0.13571429,\n",
       "       0.15      , 0.16428571, 0.17857143, 0.19285714])"
      ]
     },
     "execution_count": 167,
     "metadata": {},
     "output_type": "execute_result"
    }
   ],
   "source": [
    "centers"
   ]
  },
  {
   "cell_type": "code",
   "execution_count": 150,
   "id": "cdc6d52f",
   "metadata": {},
   "outputs": [],
   "source": [
    "timer_max = np.zeros((num_ideal_timers, len(t)))\n",
    "for i in range(len(t)):\n",
    "    timer_max[np.argmax(timers[:,i]),i] = 1"
   ]
  },
  {
   "cell_type": "code",
   "execution_count": 186,
   "id": "9e2b5d89",
   "metadata": {},
   "outputs": [
    {
     "data": {
      "image/png": "[encoded data removed]",
      "text/plain": [
       "<Figure size 150x75 with 1 Axes>"
      ]
     },
     "metadata": {},
     "output_type": "display_data"
    }
   ],
   "source": [
    "plt.figure(figsize=(1.5,0.75))\n",
    "\n",
    "c_ = np.linspace(0, 0.7,num_ideal_timers)\n",
    "for i in range(num_ideal_timers):\n",
    "    if i == 0:\n",
    "        c_str = 'C2'\n",
    "    elif i == 8:\n",
    "        c_str = 'C8'\n",
    "    else:\n",
    "        c_str = [c_[i],]*3\n",
    "    plt.plot(t, timers[i,:], c=c_str,lw=0.75)\n",
    "plt.axis('off')\n",
    "plt.savefig('figures/ideal-selection-biased-timers.pdf')"
   ]
  },
  {
   "cell_type": "code",
   "execution_count": 161,
   "id": "30a7dfeb",
   "metadata": {},
   "outputs": [],
   "source": [
    "def selectionFixedBias(v_initial, get_interval, its=5000000, dv_max = 1e-4, report_its = 10000, dv_zero = 0.9e-4):\n",
    "    \"\"\"Simulate ATTRAP with fixed update method of timer selection mechanism.\n",
    "    \n",
    "    Arguments:\n",
    "    v_initial -- initial vector of eligibility coupling weights\n",
    "    distr -- distribution of PF/CF intervals\n",
    "    its -- total number of PF/CF presentations (iterations) to simulate\n",
    "    dv -- \"Delta\", the amount by which to decrease coupling weights for inactive timers\n",
    "    report_its -- Frequency (in iterations) of reporting output weight vector\n",
    "    \n",
    "    Returns:\n",
    "    v -- final weight vector\n",
    "    v_all -- weight vector reported at intervals specified by report_its\n",
    "    \"\"\"\n",
    "    \n",
    "    # cdf = np.cumsum(distr/np.sum(distr))\n",
    "\n",
    "    # Use CDF to draw intervals randomly from distribution given uniform random variables (see Methods)\n",
    "    # get_interval = lambda r: np.interp(r, cdf, t)\n",
    "    # get_interval_NN = lambda r: np.array(np.round(get_interval(r)*10000)/10000/dt, dtype=int)\n",
    "    \n",
    "    # Used for reporting weight values periodically\n",
    "    report_counter = 0\n",
    "    report_index = 1\n",
    "\n",
    "    num_states = timers.shape[0]\n",
    "    \n",
    "    dv = dv_max*np.ones(num_states)\n",
    "    dv[0] = dv_zero\n",
    "    # active_v_threshold = dv/num_states\n",
    "\n",
    "    # num_updates = np.zeros(num_states)\n",
    "\n",
    "    v_all = np.zeros((num_states, int(its/report_its)+1))\n",
    "    v_all[:,0] = np.copy(v_initial)\n",
    "    v = np.copy(v_initial)\n",
    "\n",
    "    for it in tqdm.notebook.trange(its, leave=False):\n",
    "        # Calculate values of most active basis function\n",
    "        # given random draw of PF/CF interval\n",
    "        cf_spike_ind = np.digitize(get_interval(rng.random()), t)-1\n",
    "        timer_vals = timers[:,cf_spike_ind]\n",
    "\n",
    "        # Get index of most active timer\n",
    "        active_timer = np.argmax(timer_vals)\n",
    "\n",
    "        # Shouldn't end up with negative weights\n",
    "        timers_to_update = (v>0)\n",
    "        timers_to_update[active_timer] = False\n",
    "        num_active_timers = np.sum(timers_to_update)\n",
    "\n",
    "        if num_active_timers > 0:\n",
    "            dv_minus = np.zeros(num_states)\n",
    "            # Decrease coupling weights of all timers except the most active (ind_to_increase)\n",
    "            dv_minus[timers_to_update] = np.minimum(v[timers_to_update], dv[timers_to_update])\n",
    "            dv_minus[active_timer] = 0\n",
    "\n",
    "            # Add weight changes\n",
    "            v -= dv_minus\n",
    "            \n",
    "            v[active_timer] += np.sum(dv_minus)\n",
    "\n",
    "        report_counter += 1\n",
    "        # Save current weight vector periodically\n",
    "        if report_counter == report_its:\n",
    "            v_all[:, report_index] = np.copy(v)\n",
    "            report_counter = 0\n",
    "            report_index += 1\n",
    "    return v, v_all"
   ]
  },
  {
   "cell_type": "code",
   "execution_count": 162,
   "id": "90bd3bd4",
   "metadata": {},
   "outputs": [
    {
     "data": {
      "application/vnd.jupyter.widget-view+json": {
       "model_id": "",
       "version_major": 2,
       "version_minor": 0
      },
      "text/plain": [
       "  0%|          | 0/75000 [00:00<?, ?it/s]"
      ]
     },
     "metadata": {},
     "output_type": "display_data"
    }
   ],
   "source": [
    "v_initial = np.zeros(num_ideal_timers)\n",
    "v_initial[0] = 1\n",
    "\n",
    "v_fixed_ideal_peaked, v_fixed_ideal_all_peaked = selectionFixedBias(v_initial, get_interval_peaked, its=75000, report_its=1000,\n",
    "                                                  dv_max=1e-4, dv_zero = 0.9e-4)"
   ]
  },
  {
   "cell_type": "code",
   "execution_count": 164,
   "id": "67500a1b",
   "metadata": {},
   "outputs": [
    {
     "data": {
      "application/vnd.jupyter.widget-view+json": {
       "model_id": "",
       "version_major": 2,
       "version_minor": 0
      },
      "text/plain": [
       "  0%|          | 0/500000 [00:00<?, ?it/s]"
      ]
     },
     "metadata": {},
     "output_type": "display_data"
    }
   ],
   "source": [
    "v_initial = v_fixed_ideal_peaked # np.zeros(num_ideal_timers)\n",
    "# v_initial[0] = 1\n",
    "\n",
    "v_fixed_ideal_unif, v_fixed_ideal_all_unif = selectionFixedBias(v_initial, get_interval_unif, its=500000, report_its=10000,\n",
    "                                                  dv_max=1e-4, dv_zero = 0.9e-4)"
   ]
  },
  {
   "cell_type": "code",
   "execution_count": null,
   "id": "758c0412",
   "metadata": {},
   "outputs": [],
   "source": [
    "plt.fill_between(t, np.zeros(len(t)), peaked_distr, color=(0.9,)*3)\n",
    "ax = plt.twinx()\n",
    "ax.plot(t, v_fixed_ideal_peaked@timers,c='k')"
   ]
  },
  {
   "cell_type": "code",
   "execution_count": 184,
   "id": "3ff23151",
   "metadata": {},
   "outputs": [
    {
     "data": {
      "image/png": "[encoded data removed]",
      "text/plain": [
       "<Figure size 150x75 with 1 Axes>"
      ]
     },
     "metadata": {},
     "output_type": "display_data"
    }
   ],
   "source": [
    "plt.figure(figsize=(1.5,0.75))\n",
    "\n",
    "it_report = 1000\n",
    "x = np.arange(v_fixed_ideal_all_peaked.shape[1])*it_report\n",
    "plt.plot(x, v_fixed_ideal_all_peaked[0,:], c='C2')\n",
    "plt.plot(x, v_fixed_ideal_all_peaked[8,:], c='C8')\n",
    "ax = plt.gca()\n",
    "plt.ylim([0,1])\n",
    "plt.xlim([0, 75000])\n",
    "ax.set_xticks([0, 75000/2, 75000])\n",
    "ax.spines['top'].set_visible(False)\n",
    "ax.spines['right'].set_visible(False)\n",
    "ax.set_xticklabels([0,'',7.5])\n",
    "ax.set_yticks([0, 0.5, 1])\n",
    "ax.set_yticklabels([0,'',1])\n",
    "plt.savefig('figures/ideal-selection-biased-weights-peaked.pdf')"
   ]
  },
  {
   "cell_type": "code",
   "execution_count": 185,
   "id": "54a36a77",
   "metadata": {},
   "outputs": [
    {
     "data": {
      "image/png": "[encoded data removed]",
      "text/plain": [
       "<Figure size 150x75 with 1 Axes>"
      ]
     },
     "metadata": {},
     "output_type": "display_data"
    }
   ],
   "source": [
    "plt.figure(figsize=(1.5,0.75))\n",
    "\n",
    "it_report = 10000\n",
    "x = np.arange(v_fixed_ideal_all_unif.shape[1])*it_report\n",
    "plt.plot(x, v_fixed_ideal_all_unif[0,:],c='C2')\n",
    "plt.plot(x, v_fixed_ideal_all_unif[8,:], c='C8')\n",
    "\n",
    "ax = plt.gca()\n",
    "plt.ylim([0,1])\n",
    "ax.set_xticks([0, 75000/2, 75000])\n",
    "ax.spines['top'].set_visible(False)\n",
    "ax.spines['right'].set_visible(False)\n",
    "ax.set_xticklabels([0,'',7.5])\n",
    "ax.set_yticks([0, 0.5, 1])\n",
    "ax.set_yticklabels([0,'',1])\n",
    "\n",
    "ax = plt.gca()\n",
    "plt.ylim([0,1])\n",
    "plt.xlim([0, 500000])\n",
    "ax.set_xticks([0, 250000, 500000])\n",
    "ax.spines['top'].set_visible(False)\n",
    "ax.spines['right'].set_visible(False)\n",
    "ax.set_xticklabels([0,'',50])\n",
    "ax.set_yticks([0, 0.5, 1])\n",
    "ax.set_yticklabels([0,'',1])\n",
    "\n",
    "# ax = plt.gca()\n",
    "# ax.set_yticks([0, 250000, 500000])\n",
    "# ax.set_yticklabels([])\n",
    "# ax.set_xticks([0, 0.5, 1])\n",
    "# ax.set_xticklabels([])\n",
    "plt.savefig('figures/ideal-selection-biased-weights-unif.pdf')"
   ]
  },
  {
   "cell_type": "code",
   "execution_count": null,
   "id": "fa98e8d6",
   "metadata": {},
   "outputs": [],
   "source": []
  }
 ],
 "metadata": {
  "kernelspec": {
   "display_name": "Python 3 (ipykernel)",
   "language": "python",
   "name": "python3"
  },
  "language_info": {
   "codemirror_mode": {
    "name": "ipython",
    "version": 3
   },
   "file_extension": ".py",
   "mimetype": "text/x-python",
   "name": "python",
   "nbconvert_exporter": "python",
   "pygments_lexer": "ipython3",
   "version": "3.10.9"
  }
 },
 "nbformat": 4,
 "nbformat_minor": 5
}
