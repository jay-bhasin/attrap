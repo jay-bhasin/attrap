{
 "cells": [
  {
   "cell_type": "code",
   "execution_count": 1,
   "id": "df0153dd",
   "metadata": {},
   "outputs": [],
   "source": [
    "import numpy as np\n",
    "\n",
    "# Save fonts into pdf\n",
    "import matplotlib\n",
    "matplotlib.rcParams['pdf.fonttype'] = 42\n",
    "matplotlib.rcParams['ps.fonttype'] = 42\n",
    "\n",
    "\n",
    "import matplotlib.pyplot as plt\n",
    "import tqdm.notebook\n",
    "import scipy.integrate"
   ]
  },
  {
   "cell_type": "code",
   "execution_count": 2,
   "id": "e3ad6146",
   "metadata": {},
   "outputs": [],
   "source": [
    "matplotlib.rcParams.update({'font.size': 6, 'axes.linewidth': 0.5, 'xtick.major.width': 0.5, 'xtick.minor.width': 0.5, \n",
    "                            'ytick.major.width': 0.5,'ytick.minor.width': 0.5, 'xtick.major.pad':2,'ytick.major.pad':2})\n",
    "matplotlib.rcParams.update({'font.family':'sans-serif','font.sans-serif':['Arial'], 'mathtext.default':'sf','mathtext.fontset':'custom'})\n",
    "\n",
    "matplotlib.rcParams.update({'savefig.transparent':True})"
   ]
  },
  {
   "cell_type": "markdown",
   "id": "798cab6d",
   "metadata": {},
   "source": [
    "# Temporal metaplasticity under a uniform distribution in the dark\n",
    "\n",
    "Here, we simulate modifications to the two implementations of temporal metaplasticity that could successfully match the plasticity rule to a characteristic feedback delay in the circuit model."
   ]
  },
  {
   "cell_type": "code",
   "execution_count": 3,
   "id": "47ef8a09",
   "metadata": {},
   "outputs": [],
   "source": [
    "# Time vector \n",
    "\n",
    "dt = 1e-4\n",
    "T_max = 0.2\n",
    "t = np.arange(0, int(T_max/dt))*dt"
   ]
  },
  {
   "cell_type": "code",
   "execution_count": 5,
   "id": "f02b171b",
   "metadata": {},
   "outputs": [],
   "source": [
    "# uniform distribution\n",
    "uniform_distr = np.ones(len(t))\n",
    "uniform_distr /= np.sum(uniform_distr)"
   ]
  },
  {
   "cell_type": "code",
   "execution_count": 392,
   "id": "b064c258",
   "metadata": {},
   "outputs": [],
   "source": [
    "# calculate cdf\n",
    "uniform_cdf = np.cumsum(uniform_distr)\n",
    "uniform_cdf_fn = lambda r: np.interp(r, t, uniform_cdf,left=0,right=1)\n",
    "\n",
    "# function that samples from the distribution given a percentile input\n",
    "get_interval_unif = lambda r: np.interp(r, uniform_cdf, t)"
   ]
  },
  {
   "cell_type": "markdown",
   "id": "2d3cbeff",
   "metadata": {},
   "source": [
    "## Asymmetric single timer selection\n",
    "\n",
    "We use a single timer selection mechanism in which there is both a narrow and a broad window. The narrow window is slightly asymmetric ($\\tau_l > \\tau_r$), leading to a tendency to reduce the peak given a uniform distribution. The weight of the broad window is very small, and helps move $\\tau_\\text{peak}$ to find the peak timing value faster than diffusion alone."
   ]
  },
  {
   "cell_type": "code",
   "execution_count": 8,
   "id": "72e9a20d",
   "metadata": {},
   "outputs": [],
   "source": [
    "# Load the empirical PF-CF interval distribution from the integrated circuit model\n",
    "# using the single timer adjustment mechanism\n",
    "empirical_distr = np.load('../circuit-model/timer-selection-biochem-hist.npy')\n",
    "\n",
    "# distribution was calculated with 100 bins\n",
    "t_empirical = np.linspace(0, 0.2, 100)\n"
   ]
  },
  {
   "cell_type": "code",
   "execution_count": 9,
   "id": "1c4f6c50",
   "metadata": {},
   "outputs": [],
   "source": [
    "# cdf\n",
    "empirical_cdf = np.cumsum(empirical_distr)\n",
    "empirical_cdf_fn = lambda r: np.interp(r, t_empirical, empirical_cdf,left=0,right=1)\n",
    "\n",
    "# function to sample from the distribution\n",
    "get_interval_empirical = lambda r: np.interp(r, empirical_cdf, t_empirical)"
   ]
  },
  {
   "cell_type": "code",
   "execution_count": 121,
   "id": "656d84f4",
   "metadata": {},
   "outputs": [],
   "source": [
    "# shape of eligibility window\n",
    "idealized_integrator = lambda t, t_p,sigma2: np.exp(-(t-t_p)**2/(2*sigma2**2))\n",
    "\n",
    "# idealized version of temporal metaplasticity rule\n",
    "def tempRule(tau,tau_peak,median_weight=0,window_left=20e-3,window_right=20e-3):\n",
    "    # Idealized broad window: lower threshold if CF occurs before current peak time\n",
    "    # and raise threshold if CF occurs after current peak time\n",
    "    broad_window = np.sign(tau - tau_peak)\n",
    "    \n",
    "    # Idealized narrow window: restrict to window size\n",
    "    narrow_window = broad_window*(t >= tau_peak - window_left)*(t<= tau_peak + window_right)\n",
    "    return narrow_window * (1-median_weight) + broad_window * median_weight\n",
    "\n",
    "def simulateTimerAdjustmentPeak(get_interval, N_sims = 10, its = 5000, \n",
    "                                dtp_ = 1e-3, min_tp = 0, max_tp = T_max, report_its = 100,\n",
    "                               window_left = 20e-3, window_right = 20e-3,\n",
    "                                median_weight = 0.01, initial_value = 0):\n",
    "    # get_interval: function that takes a number in (0,1) and returns a sample from the distribution\n",
    "    # N_sims: number of simulations (tau_peak is reset)\n",
    "    # its: iterations of temporal metaplasticity (PF-CF pairings) within a simulation\n",
    "    # dtp_: amplitude of temporal metaplasticity window (max amount to move tau_peak after a pairing)\n",
    "    # min_tp, max_tp: minimum and maximum values of tau_peak\n",
    "    # report_its: number of iterations after which results are saved\n",
    "    # window_left, window_right: size of left and right lobes of narrow window\n",
    "    # median_weight: relative magnitude of broad window; narrow window has 1 - median_weight\n",
    "    # initial_value: of tau_peak\n",
    "    \n",
    "    # initialize results vector\n",
    "    tps = np.zeros((N_sims, int(its/report_its)))\n",
    "    \n",
    "    # initialize initial tau_peak values for simulations\n",
    "    if len(initial_value) == 0:\n",
    "        initial_value = min_tp\n",
    "    elif len(initial_value) == 1:\n",
    "        initial_value = np.ones(N_sims)*initial_value\n",
    "\n",
    "    for n in tqdm.notebook.trange(N_sims):\n",
    "        report_ind = 0\n",
    "        if len(initial_value) == N_sims:\n",
    "            tp = initial_value[n]\n",
    "        else:\n",
    "            tp = initial_value\n",
    "\n",
    "        for it in tqdm.notebook.trange(its-1, leave=False):\n",
    "            cf_time = get_interval(rng.random())\n",
    "            \n",
    "            # Calculate update to tau_peak\n",
    "            dtp = dtp_*tempRule(cf_time, tp, median_weight=median_weight, \n",
    "                                window_left=window_left, window_right=window_right)\n",
    "            tp += dtp\n",
    "\n",
    "            if it % report_its == 0:\n",
    "                tps[n, report_ind] = tp\n",
    "                report_ind += 1\n",
    "    return tps"
   ]
  },
  {
   "cell_type": "code",
   "execution_count": 250,
   "id": "f68b965e",
   "metadata": {},
   "outputs": [
    {
     "data": {
      "image/png": "[encoded data removed]",
      "text/plain": [
       "<Figure size 150x75 with 1 Axes>"
      ]
     },
     "metadata": {},
     "output_type": "display_data"
    }
   ],
   "source": [
    "# Plot rule and the approximate eligibility window that would produce it using\n",
    "# the biochemical network model\n",
    "\n",
    "plt.figure(figsize=(1.5,0.75))\n",
    "plt.plot(t,idealized_integrator(t,0.12,12.5e-3))\n",
    "plt.plot(t, tempRule(t,0.12,window_left=40e-3, window_right=39e-3, median_weight=5e-3))\n",
    "plt.xlim([0,0.2])\n",
    "plt.axis('off')\n",
    "plt.savefig('figures/ideal-selection-wide.pdf')"
   ]
  },
  {
   "cell_type": "markdown",
   "id": "9dd2e2c5",
   "metadata": {},
   "source": [
    "### Normal visual experience (with empirical distribution)"
   ]
  },
  {
   "cell_type": "code",
   "execution_count": 122,
   "id": "62562182",
   "metadata": {
    "scrolled": true
   },
   "outputs": [
    {
     "data": {
      "application/vnd.jupyter.widget-view+json": {
       "model_id": "ff725328301f42e980a743cf0146711a",
       "version_major": 2,
       "version_minor": 0
      },
      "text/plain": [
       "  0%|          | 0/10 [00:00<?, ?it/s]"
      ]
     },
     "metadata": {},
     "output_type": "display_data"
    },
    {
     "data": {
      "application/vnd.jupyter.widget-view+json": {
       "model_id": "",
       "version_major": 2,
       "version_minor": 0
      },
      "text/plain": [
       "  0%|          | 0/3999999 [00:00<?, ?it/s]"
      ]
     },
     "metadata": {},
     "output_type": "display_data"
    },
    {
     "data": {
      "application/vnd.jupyter.widget-view+json": {
       "model_id": "",
       "version_major": 2,
       "version_minor": 0
      },
      "text/plain": [
       "  0%|          | 0/3999999 [00:00<?, ?it/s]"
      ]
     },
     "metadata": {},
     "output_type": "display_data"
    },
    {
     "data": {
      "application/vnd.jupyter.widget-view+json": {
       "model_id": "",
       "version_major": 2,
       "version_minor": 0
      },
      "text/plain": [
       "  0%|          | 0/3999999 [00:00<?, ?it/s]"
      ]
     },
     "metadata": {},
     "output_type": "display_data"
    },
    {
     "data": {
      "application/vnd.jupyter.widget-view+json": {
       "model_id": "",
       "version_major": 2,
       "version_minor": 0
      },
      "text/plain": [
       "  0%|          | 0/3999999 [00:00<?, ?it/s]"
      ]
     },
     "metadata": {},
     "output_type": "display_data"
    },
    {
     "data": {
      "application/vnd.jupyter.widget-view+json": {
       "model_id": "",
       "version_major": 2,
       "version_minor": 0
      },
      "text/plain": [
       "  0%|          | 0/3999999 [00:00<?, ?it/s]"
      ]
     },
     "metadata": {},
     "output_type": "display_data"
    },
    {
     "data": {
      "application/vnd.jupyter.widget-view+json": {
       "model_id": "",
       "version_major": 2,
       "version_minor": 0
      },
      "text/plain": [
       "  0%|          | 0/3999999 [00:00<?, ?it/s]"
      ]
     },
     "metadata": {},
     "output_type": "display_data"
    },
    {
     "data": {
      "application/vnd.jupyter.widget-view+json": {
       "model_id": "",
       "version_major": 2,
       "version_minor": 0
      },
      "text/plain": [
       "  0%|          | 0/3999999 [00:00<?, ?it/s]"
      ]
     },
     "metadata": {},
     "output_type": "display_data"
    },
    {
     "data": {
      "application/vnd.jupyter.widget-view+json": {
       "model_id": "",
       "version_major": 2,
       "version_minor": 0
      },
      "text/plain": [
       "  0%|          | 0/3999999 [00:00<?, ?it/s]"
      ]
     },
     "metadata": {},
     "output_type": "display_data"
    },
    {
     "data": {
      "application/vnd.jupyter.widget-view+json": {
       "model_id": "",
       "version_major": 2,
       "version_minor": 0
      },
      "text/plain": [
       "  0%|          | 0/3999999 [00:00<?, ?it/s]"
      ]
     },
     "metadata": {},
     "output_type": "display_data"
    },
    {
     "data": {
      "application/vnd.jupyter.widget-view+json": {
       "model_id": "",
       "version_major": 2,
       "version_minor": 0
      },
      "text/plain": [
       "  0%|          | 0/3999999 [00:00<?, ?it/s]"
      ]
     },
     "metadata": {},
     "output_type": "display_data"
    }
   ],
   "source": [
    "# Run the simulation\n",
    "\n",
    "rng = np.random.default_rng(seed=0)\n",
    "window_left, window_right = 40e-3, 39e-3\n",
    "median_weight = 5e-3\n",
    "tps_ideal_asym = simulateTimerAdjustmentPeak(get_interval_empirical,dtp_=5e-4, initial_value=[0.], \n",
    "                                             window_left=window_left, window_right=window_right,\n",
    "                                               its=4000000, N_sims=10,median_weight=median_weight, report_its=10000)"
   ]
  },
  {
   "cell_type": "code",
   "execution_count": 123,
   "id": "26174eaa",
   "metadata": {},
   "outputs": [],
   "source": [
    "# np.save('files/dark/tps_ideal_asym_large_empirical.npy', tps_ideal_asym)\n",
    "# tps_ideal_asym = np.load('files/dark/tps_ideal_asym_large_empirical.npy')"
   ]
  },
  {
   "cell_type": "code",
   "execution_count": 124,
   "id": "7ab3a30d",
   "metadata": {},
   "outputs": [],
   "source": [
    "trial_t = np.arange(tps_ideal_asym.shape[1])"
   ]
  },
  {
   "cell_type": "markdown",
   "id": "e0931332",
   "metadata": {},
   "source": [
    "### Plot flow field\n",
    "If the cumulative distribution function is $F(\\tau)$, the expected change in $\\tau_\\text{peak}$ from the broad window is\n",
    "$$\n",
    "    \\langle\\Delta\\tau_\\text{peak}\\rangle_\\text{broad}(\\tau_\\text{peak}) = -F(\\tau_\\text{peak}) + (1-F(\\tau_\\text{peak})) = 1 - 2F(\\tau_\\text{peak}),\n",
    "$$\n",
    "and the expected change from the narrow window is\n",
    "$$\n",
    "\\begin{align*}\n",
    "    \\langle\\Delta\\tau_\\text{peak}\\rangle_\\text{narrow}(\\tau_\\text{peak}) &= -(F(\\tau_\\text{peak}) - F(\\tau_\\text{peak}-\\tau_l)) + (F(\\tau_\\text{peak}+\\tau_r) - F(\\tau_\\text{peak})) \\\\\n",
    "    &= F(\\tau_\\text{peak}+\\tau_r) + F(\\tau_\\text{peak}-\\tau_l) - 2F(\\tau_\\text{peak}).\n",
    "\\end{align*}\n",
    "$$\n",
    "\n",
    "Using this, we can plow a flow field."
   ]
  },
  {
   "cell_type": "code",
   "execution_count": 398,
   "id": "cc93cd85",
   "metadata": {},
   "outputs": [],
   "source": [
    "expected_delta_tp_fn = lambda tp,fn: (median_weight*(1-2*fn(tp))+\n",
    "                                (1-median_weight)*(fn(tp-window_left) +\n",
    "                                                  fn(tp+window_right) - 2*fn(tp)))\n",
    "\n",
    "expected_delta_tp_unif = lambda tp: expected_delta_tp_fn(tp, uniform_cdf_fn)\n",
    "expected_delta_tp_empirical = lambda tp: expected_delta_tp_fn(tp, empirical_cdf_fn)"
   ]
  },
  {
   "cell_type": "code",
   "execution_count": 135,
   "id": "b92e9871",
   "metadata": {},
   "outputs": [],
   "source": [
    "report_its = 10000\n",
    "total_its = 4e6"
   ]
  },
  {
   "cell_type": "code",
   "execution_count": 229,
   "id": "6ac5681d",
   "metadata": {},
   "outputs": [],
   "source": [
    "tp_phase = np.linspace(0.01, 0.19, 10)\n",
    "tt_phase = np.linspace(total_its*0.1, total_its*0.9, 4)\n",
    "\n",
    "tpp, ttt = np.meshgrid(tp_phase, tt_phase)"
   ]
  },
  {
   "cell_type": "code",
   "execution_count": 230,
   "id": "f1b13821",
   "metadata": {},
   "outputs": [],
   "source": [
    "dtpp = expected_delta_tp_empirical(tpp)\n",
    "dttt = np.ones(ttt.shape)\n",
    "\n",
    "dtpp_norm = dtpp/np.sqrt(dtpp**2 + dttt**2)\n",
    "dttt_norm = dttt/np.sqrt(dtpp**2 + dttt**2)"
   ]
  },
  {
   "cell_type": "code",
   "execution_count": 141,
   "id": "e504df16",
   "metadata": {},
   "outputs": [
    {
     "data": {
      "image/png": "[encoded data removed]",
      "text/plain": [
       "<Figure size 150x75 with 1 Axes>"
      ]
     },
     "metadata": {},
     "output_type": "display_data"
    }
   ],
   "source": [
    "# Plot individual trajectories\n",
    "plt.figure(figsize=(1.5,0.75))\n",
    "plt.quiver(tpp, ttt, dtpp_norm, dttt_norm, angles='xy', pivot='middle', color=(0.7,)*3)\n",
    "plt.plot([0.12,]*2, [0, trial_t[-1]], c='r')\n",
    "plt.plot([0.0615,]*2, [0, trial_t[-1]], c='r') # c=(0.3,)*3)\n",
    "c = np.linspace(0,0.8,10)\n",
    "for i in range(10):\n",
    "    plt.plot(tps_ideal_asym[i,:], trial_t*report_its,lw=1) # , c=[c[i],]*3)\n",
    "\n",
    "\n",
    "plt.xlim([0, 0.2])\n",
    "plt.ylim([0, total_its])\n",
    "\n",
    "ax = plt.gca()\n",
    "ax.set_yticks([0, total_its/2, total_its])\n",
    "ax.set_yticklabels([])\n",
    "ax.set_xticks([0, 0.1, 0.2])\n",
    "ax.set_xticklabels([])\n",
    "# plt.savefig('figures/ideal-adjustment-narrow-asym-phase-empirical.pdf')"
   ]
  },
  {
   "cell_type": "code",
   "execution_count": 148,
   "id": "eedb7a81",
   "metadata": {},
   "outputs": [],
   "source": [
    "tps_ideal_asym_empirical_mu = np.mean(tps_ideal_asym,axis=0)\n",
    "tps_ideal_asym_empirical_std = np.std(tps_ideal_asym,axis=0)"
   ]
  },
  {
   "cell_type": "code",
   "execution_count": 232,
   "id": "7cee40e8",
   "metadata": {},
   "outputs": [
    {
     "data": {
      "image/png": "[encoded data removed]",
      "text/plain": [
       "<Figure size 150x75 with 1 Axes>"
      ]
     },
     "metadata": {},
     "output_type": "display_data"
    }
   ],
   "source": [
    "# Plot mean + sd\n",
    "plt.figure(figsize=(1.5,0.75))\n",
    "plt.quiver(tpp, ttt, dtpp_norm, dttt_norm, angles='xy', pivot='middle', units='x',color=(0.7,)*3)\n",
    "\n",
    "plt.plot(tps_ideal_asym_empirical_mu, trial_t*report_its, c='k',lw=0.5)\n",
    "# plt.plot((tp_ideal_asym_unif_mu-tp_ideal_asym_unif_std), trial_t*1000, c=(0.5,)*3)\n",
    "# plt.plot((tp_ideal_asym_unif_mu+tp_ideal_asym_unif_std), trial_t*1000, c=(0.5,)*3)\n",
    "# plt.plot(thresholds_ideal_2_mu, trial_t)z\n",
    "plt.fill_betweenx(trial_t*report_its, tps_ideal_asym_empirical_mu - tps_ideal_asym_empirical_std,\n",
    "                  tps_ideal_asym_empirical_mu + tps_ideal_asym_empirical_std, facecolor=(0.7,)*3 )\n",
    "# plt.fill_betweenx(trial_t, thresholds_ideal_2_mu - thresholds_ideal_2_std,thresholds_ideal_2_mu + thresholds_ideal_2_std, facecolor='C1', alpha=0.3 )\n",
    "\n",
    "plt.xlim([0, 0.2])\n",
    "plt.ylim([0, total_its])\n",
    "\n",
    "ax = plt.gca()\n",
    "ax.set_yticks([0, total_its/2, total_its])\n",
    "ax.set_yticklabels([])\n",
    "ax.set_xticks([0, 0.1, 0.2])\n",
    "ax.set_xticklabels([])\n",
    "# plt.savefig('figures/ideal-selection-narrow-asym-phase-empirical-mu-long.pdf')"
   ]
  },
  {
   "cell_type": "code",
   "execution_count": 93,
   "id": "382b5d0f",
   "metadata": {},
   "outputs": [],
   "source": [
    "tps_ideal_asym_empirical_mu = np.mean(tps_ideal_asym,axis=0)"
   ]
  },
  {
   "cell_type": "code",
   "execution_count": 151,
   "id": "6c496890",
   "metadata": {},
   "outputs": [
    {
     "data": {
      "text/plain": [
       "np.float64(0.12187812500335116)"
      ]
     },
     "execution_count": 151,
     "metadata": {},
     "output_type": "execute_result"
    }
   ],
   "source": [
    "np.mean(tps_ideal_asym_empirical_mu[-10:])"
   ]
  },
  {
   "cell_type": "code",
   "execution_count": 153,
   "id": "24c91946",
   "metadata": {},
   "outputs": [
    {
     "data": {
      "image/png": "[encoded data removed]",
      "text/plain": [
       "<Figure size 150x75 with 2 Axes>"
      ]
     },
     "metadata": {},
     "output_type": "display_data"
    }
   ],
   "source": [
    "# Plot distribution and final state of eligibility window\n",
    "plt.figure(figsize=(1.5,0.75))\n",
    "plt.fill_between(t_empirical, 0, empirical_distr, facecolor=(0.7,)*3)\n",
    "plt.axis('off')\n",
    "ax=plt.twinx()\n",
    "plt.plot(t, idealized_integrator(t, np.mean(tps_ideal_asym_empirical_mu[-10:]),0.0125),c='k')\n",
    "plt.axis('off')\n",
    "\n",
    "# plt.savefig('figures/ideal-adjustment-narrow-asym-eligibility-empirical.pdf')"
   ]
  },
  {
   "cell_type": "markdown",
   "id": "c2e13a34",
   "metadata": {},
   "source": [
    "### In the dark (with uniform distribution)"
   ]
  },
  {
   "cell_type": "code",
   "execution_count": 235,
   "id": "956cc7b9",
   "metadata": {},
   "outputs": [
    {
     "data": {
      "application/vnd.jupyter.widget-view+json": {
       "model_id": "9b93869f48624bcca962c79cd1d7a76e",
       "version_major": 2,
       "version_minor": 0
      },
      "text/plain": [
       "  0%|          | 0/10 [00:00<?, ?it/s]"
      ]
     },
     "metadata": {},
     "output_type": "display_data"
    },
    {
     "data": {
      "application/vnd.jupyter.widget-view+json": {
       "model_id": "",
       "version_major": 2,
       "version_minor": 0
      },
      "text/plain": [
       "  0%|          | 0/999999 [00:00<?, ?it/s]"
      ]
     },
     "metadata": {},
     "output_type": "display_data"
    },
    {
     "data": {
      "application/vnd.jupyter.widget-view+json": {
       "model_id": "",
       "version_major": 2,
       "version_minor": 0
      },
      "text/plain": [
       "  0%|          | 0/999999 [00:00<?, ?it/s]"
      ]
     },
     "metadata": {},
     "output_type": "display_data"
    },
    {
     "data": {
      "application/vnd.jupyter.widget-view+json": {
       "model_id": "",
       "version_major": 2,
       "version_minor": 0
      },
      "text/plain": [
       "  0%|          | 0/999999 [00:00<?, ?it/s]"
      ]
     },
     "metadata": {},
     "output_type": "display_data"
    },
    {
     "data": {
      "application/vnd.jupyter.widget-view+json": {
       "model_id": "",
       "version_major": 2,
       "version_minor": 0
      },
      "text/plain": [
       "  0%|          | 0/999999 [00:00<?, ?it/s]"
      ]
     },
     "metadata": {},
     "output_type": "display_data"
    },
    {
     "data": {
      "application/vnd.jupyter.widget-view+json": {
       "model_id": "",
       "version_major": 2,
       "version_minor": 0
      },
      "text/plain": [
       "  0%|          | 0/999999 [00:00<?, ?it/s]"
      ]
     },
     "metadata": {},
     "output_type": "display_data"
    },
    {
     "data": {
      "application/vnd.jupyter.widget-view+json": {
       "model_id": "",
       "version_major": 2,
       "version_minor": 0
      },
      "text/plain": [
       "  0%|          | 0/999999 [00:00<?, ?it/s]"
      ]
     },
     "metadata": {},
     "output_type": "display_data"
    },
    {
     "data": {
      "application/vnd.jupyter.widget-view+json": {
       "model_id": "",
       "version_major": 2,
       "version_minor": 0
      },
      "text/plain": [
       "  0%|          | 0/999999 [00:00<?, ?it/s]"
      ]
     },
     "metadata": {},
     "output_type": "display_data"
    },
    {
     "data": {
      "application/vnd.jupyter.widget-view+json": {
       "model_id": "",
       "version_major": 2,
       "version_minor": 0
      },
      "text/plain": [
       "  0%|          | 0/999999 [00:00<?, ?it/s]"
      ]
     },
     "metadata": {},
     "output_type": "display_data"
    },
    {
     "data": {
      "application/vnd.jupyter.widget-view+json": {
       "model_id": "",
       "version_major": 2,
       "version_minor": 0
      },
      "text/plain": [
       "  0%|          | 0/999999 [00:00<?, ?it/s]"
      ]
     },
     "metadata": {},
     "output_type": "display_data"
    },
    {
     "data": {
      "application/vnd.jupyter.widget-view+json": {
       "model_id": "",
       "version_major": 2,
       "version_minor": 0
      },
      "text/plain": [
       "  0%|          | 0/999999 [00:00<?, ?it/s]"
      ]
     },
     "metadata": {},
     "output_type": "display_data"
    }
   ],
   "source": [
    "rng = np.random.default_rng(seed=42)\n",
    "tp_ideal_asym_unif = simulateTimerAdjustmentPeak(get_interval_unif,dtp_=5e-4, initial_value=[0.12], \n",
    "                                                 window_left=window_left, window_right=window_right,\n",
    "                                               its=1000000, N_sims=10,median_weight=median_weight, report_its=10000)"
   ]
  },
  {
   "cell_type": "code",
   "execution_count": 236,
   "id": "e12cd097",
   "metadata": {},
   "outputs": [],
   "source": [
    "# np.save('files/dark/tps_ideal_asym_large_unif_1m.npy', tp_ideal_asym_unif)\n",
    "# tp_ideal_asym_unif = np.load('files/dark/tps_ideal_asym_large_unif_1m.npy')"
   ]
  },
  {
   "cell_type": "markdown",
   "id": "f7106df9",
   "metadata": {},
   "source": [
    "### Plot flow field"
   ]
  },
  {
   "cell_type": "code",
   "execution_count": 239,
   "id": "d72d17c9",
   "metadata": {},
   "outputs": [],
   "source": [
    "report_its = 10000\n",
    "total_its = 1e6"
   ]
  },
  {
   "cell_type": "code",
   "execution_count": 240,
   "id": "8e0e0216",
   "metadata": {},
   "outputs": [],
   "source": [
    "tp_phase = np.linspace(0.01, 0.19, 10) # 8\n",
    "tt_phase = np.linspace(total_its*0.1, total_its*0.9, 4)\n",
    "\n",
    "tpp, ttt = np.meshgrid(tp_phase, tt_phase)"
   ]
  },
  {
   "cell_type": "code",
   "execution_count": 241,
   "id": "78ab98bd",
   "metadata": {},
   "outputs": [],
   "source": [
    "dtpp = expected_delta_tp_unif(tpp)\n",
    "dttt = np.ones(ttt.shape)\n",
    "\n",
    "dtpp_norm = dtpp/np.sqrt(dtpp**2 + dttt**2)\n",
    "dttt_norm = dttt/np.sqrt(dtpp**2 + dttt**2)"
   ]
  },
  {
   "cell_type": "code",
   "execution_count": 242,
   "id": "013dc204",
   "metadata": {},
   "outputs": [],
   "source": [
    "trial_t = np.arange(tp_ideal_asym_unif.shape[1])\n",
    "# total_its = 2e6"
   ]
  },
  {
   "cell_type": "code",
   "execution_count": 243,
   "id": "291d6ff3",
   "metadata": {},
   "outputs": [
    {
     "data": {
      "image/png": "[encoded data removed]",
      "text/plain": [
       "<Figure size 150x75 with 1 Axes>"
      ]
     },
     "metadata": {},
     "output_type": "display_data"
    }
   ],
   "source": [
    "plt.figure(figsize=(1.5,0.75))\n",
    "plt.quiver(tpp, ttt, dtpp_norm, dttt_norm, angles='xy', pivot='middle', color=(0.7,)*3)\n",
    "# plt.plot([0.05,]*2, [0, trial_t[-1]], c='r')\n",
    "# plt.plot([0.0615,]*2, [0, trial_t[-1]], c='r') # c=(0.3,)*3)\n",
    "# c = np.linspace(0,0.8,10)\n",
    "# for i in range(10):\n",
    "#     plt.plot(thresholds_ideal_asym[i,::1000], trial_t[::1000]) # , c=[c[i],]*3)\n",
    "\n",
    "plt.plot(tp_ideal_asym_unif_mu, trial_t*report_its, c='k',lw=0.5)\n",
    "# plt.plot((tp_ideal_asym_unif_mu-tp_ideal_asym_unif_std), trial_t*1000, c=(0.5,)*3)\n",
    "# plt.plot((tp_ideal_asym_unif_mu+tp_ideal_asym_unif_std), trial_t*1000, c=(0.5,)*3)\n",
    "# plt.plot(thresholds_ideal_2_mu, trial_t)\n",
    "plt.fill_betweenx(trial_t*report_its, tp_ideal_asym_unif_mu - tp_ideal_asym_unif_std,tp_ideal_asym_unif_mu + tp_ideal_asym_unif_std, facecolor='k', alpha=0.3 )\n",
    "# plt.fill_betweenx(trial_t, thresholds_ideal_2_mu - thresholds_ideal_2_std,thresholds_ideal_2_mu + thresholds_ideal_2_std, facecolor='C1', alpha=0.3 )\n",
    "\n",
    "plt.xlim([0, 0.2])\n",
    "plt.ylim([0, total_its])\n",
    "\n",
    "ax = plt.gca()\n",
    "ax.set_yticks([0, total_its/2, total_its])\n",
    "ax.set_yticklabels([])\n",
    "ax.set_xticks([0, 0.1, 0.2])\n",
    "ax.set_xticklabels([])\n",
    "plt.savefig('figures/ideal-adjustment-narrow-asym-phase-unif-long-1m.pdf')"
   ]
  },
  {
   "cell_type": "code",
   "execution_count": 403,
   "id": "e10235df",
   "metadata": {},
   "outputs": [
    {
     "data": {
      "text/plain": [
       "np.float64(0.059179775000975)"
      ]
     },
     "execution_count": 403,
     "metadata": {},
     "output_type": "execute_result"
    }
   ],
   "source": [
    "tp_ideal_asym_unif_mu = np.mean(tp_ideal_asym_unif, axis=0)\n",
    "tp_ideal_asym_unif_std = np.std(tp_ideal_asym_unif, axis=0)\n",
    "\n",
    "np.mean(tp_ideal_asym_unif_mu[-10:])"
   ]
  },
  {
   "cell_type": "code",
   "execution_count": 248,
   "id": "029577ee",
   "metadata": {},
   "outputs": [
    {
     "data": {
      "image/png": "[encoded data removed]",
      "text/plain": [
       "<Figure size 150x75 with 2 Axes>"
      ]
     },
     "metadata": {},
     "output_type": "display_data"
    }
   ],
   "source": [
    "# Plot final state of eligibility window\n",
    "plt.figure(figsize=(1.5,0.75))\n",
    "plt.fill_between(t, 0, uniform_distr, facecolor=(0.7,)*3)\n",
    "plt.axis('off')\n",
    "ax=plt.twinx()\n",
    "plt.plot(t, idealized_integrator(t, np.mean(tp_ideal_asym_unif_mu[-10:]),0.0125),c='k')\n",
    "plt.axis('off')\n",
    "\n",
    "# plt.savefig('figures/ideal-adjustment-narrow-asym-eligibility-unif.pdf')"
   ]
  },
  {
   "cell_type": "markdown",
   "id": "c846cba4",
   "metadata": {},
   "source": [
    "# Biased multiple timer selection rule\n",
    "\n",
    "The winner-take-all rule can be modified by decreasing the amount by which the timer peaking closest to 0 ms changes its coupling strength ($\\delta_1$) when it is out-of-sync from the postsynaptic spike. Here this change $\\delta_1$ is 99% of the $\\delta$ value for the other timers."
   ]
  },
  {
   "cell_type": "code",
   "execution_count": 251,
   "id": "ac70a4ff",
   "metadata": {},
   "outputs": [],
   "source": [
    "## Generate timer bank\n",
    "num_ideal_timers = 11\n",
    "timers = np.zeros((num_ideal_timers, len(t)))\n",
    "centers = np.linspace(0, 0.2, num_ideal_timers+1)[:-1]\n",
    "width = centers[1]/2\n",
    "centers += width\n",
    "for i in range(num_ideal_timers):\n",
    "    timers[i,:] = np.exp(-(t - centers[i])**2/(2*(width)**2))"
   ]
  },
  {
   "cell_type": "code",
   "execution_count": 253,
   "id": "cdc6d52f",
   "metadata": {},
   "outputs": [],
   "source": [
    "# Pre-calculate which timer is most active at every time in the time range\n",
    "timer_max = np.zeros((num_ideal_timers, len(t)))\n",
    "for i in range(len(t)):\n",
    "    timer_max[np.argmax(timers[:,i]),i] = 1"
   ]
  },
  {
   "cell_type": "code",
   "execution_count": 254,
   "id": "9e2b5d89",
   "metadata": {},
   "outputs": [
    {
     "data": {
      "image/png": "[encoded data removed]",
      "text/plain": [
       "<Figure size 150x75 with 1 Axes>"
      ]
     },
     "metadata": {},
     "output_type": "display_data"
    }
   ],
   "source": [
    "plt.figure(figsize=(1.5,0.75))\n",
    "\n",
    "c_ = np.linspace(0, 0.7,num_ideal_timers)\n",
    "for i in range(num_ideal_timers):\n",
    "    if i == 0:\n",
    "        c_str = 'C2'\n",
    "    elif i == 6:\n",
    "        c_str = 'C8'\n",
    "    else:\n",
    "        c_str = [c_[i],]*3\n",
    "    plt.plot(t, timers[i,:], c=c_str,lw=0.75)\n",
    "plt.axis('off')\n",
    "plt.savefig('figures/ideal-selection-biased-timers.pdf')"
   ]
  },
  {
   "cell_type": "code",
   "execution_count": 294,
   "id": "30a7dfeb",
   "metadata": {},
   "outputs": [],
   "source": [
    "def selectionFixedBias(v_initial, get_interval, its=5000000, dv_max = 1e-4, report_its = 10000, dv_zero = 0.9e-4):\n",
    "    \"\"\"Simulate ATTRAP with fixed update method of timer selection mechanism.\n",
    "    \n",
    "    Arguments:\n",
    "    v_initial -- initial vector of eligibility coupling weights\n",
    "    distr -- distribution of PF/CF intervals\n",
    "    its -- total number of PF/CF presentations (iterations) to simulate\n",
    "    dv -- \"Delta\", the amount by which to decrease coupling weights for inactive timers\n",
    "    report_its -- Frequency (in iterations) of reporting output weight vector\n",
    "    \n",
    "    Returns:\n",
    "    v -- final weight vector\n",
    "    v_all -- weight vector reported at intervals specified by report_its\n",
    "    \"\"\"\n",
    "    \n",
    "    # cdf = np.cumsum(distr/np.sum(distr))\n",
    "\n",
    "    # Use CDF to draw intervals randomly from distribution given uniform random variables (see Methods)\n",
    "    # get_interval = lambda r: np.interp(r, cdf, t)\n",
    "    # get_interval_NN = lambda r: np.array(np.round(get_interval(r)*10000)/10000/dt, dtype=int)\n",
    "    \n",
    "    # Used for reporting weight values periodically\n",
    "    report_counter = 0\n",
    "    report_index = 1\n",
    "\n",
    "    num_states = timers.shape[0]\n",
    "    \n",
    "    dv = dv_max*np.ones(num_states)\n",
    "    dv[0] = dv_zero\n",
    "    # active_v_threshold = dv/num_states\n",
    "\n",
    "    # num_updates = np.zeros(num_states)\n",
    "\n",
    "    v_all = np.zeros((num_states, int(its/report_its)+1))\n",
    "    v_all[:,0] = np.copy(v_initial)\n",
    "    v = np.copy(v_initial)\n",
    "\n",
    "    for it in tqdm.notebook.trange(its):\n",
    "        # Calculate values of most active basis function\n",
    "        # given random draw of PF/CF interval\n",
    "        cf_spike_ind = np.digitize(get_interval(rng.random()), t)-1\n",
    "        timer_vals = timers[:,cf_spike_ind]\n",
    "\n",
    "        # Get index of most active timer\n",
    "        active_timer = np.argmax(timer_vals)\n",
    "\n",
    "        # Shouldn't end up with negative weights\n",
    "        timers_to_update = (v>0)\n",
    "        timers_to_update[active_timer] = False\n",
    "        num_active_timers = np.sum(timers_to_update)\n",
    "\n",
    "        if num_active_timers > 0:\n",
    "            dv_minus = np.zeros(num_states)\n",
    "            # Decrease coupling weights of all timers except the most active (ind_to_increase)\n",
    "            dv_minus[timers_to_update] = np.minimum(v[timers_to_update], dv[timers_to_update])\n",
    "            dv_minus[active_timer] = 0\n",
    "\n",
    "            # Add weight changes\n",
    "            v -= dv_minus\n",
    "            \n",
    "            v[active_timer] += np.sum(dv_minus)\n",
    "\n",
    "        report_counter += 1\n",
    "        # Save current weight vector periodically\n",
    "        if report_counter == report_its:\n",
    "            v_all[:, report_index] = np.copy(v)\n",
    "            report_counter = 0\n",
    "            report_index += 1\n",
    "    return v, v_all"
   ]
  },
  {
   "cell_type": "code",
   "execution_count": 284,
   "id": "b813ad08",
   "metadata": {},
   "outputs": [],
   "source": [
    "# Load distribution from integrated circuit model simulation\n",
    "empirical_distr = np.load('../behavior-learning/files/integrated simulation/poisson sparse/hist_history.npy')\n",
    "\n",
    "empirical_pdf = np.sum(empirical_distr[:,1,:,-1],axis=0)\n",
    "empirical_pdf /= np.sum(empirical_pdf)\n",
    "empirical_cdf = np.cumsum(empirical_pdf)\n",
    "t_empirical = np.linspace(0, 0.2, 100)\n",
    "\n",
    "get_interval_empirical = lambda r: np.interp(r, empirical_cdf, t_empirical)"
   ]
  },
  {
   "cell_type": "markdown",
   "id": "10f2fbfc",
   "metadata": {},
   "source": [
    "### Normal visual experience (using empirical distribution)\n",
    "\n",
    "We start from an initial state with all coupling strength on the first timer element (closes to 0 ms)."
   ]
  },
  {
   "cell_type": "code",
   "execution_count": 371,
   "id": "90bd3bd4",
   "metadata": {},
   "outputs": [
    {
     "data": {
      "application/vnd.jupyter.widget-view+json": {
       "model_id": "f816309933cb454d81e64662fc77d5e2",
       "version_major": 2,
       "version_minor": 0
      },
      "text/plain": [
       "  0%|          | 0/5000000 [00:00<?, ?it/s]"
      ]
     },
     "metadata": {},
     "output_type": "display_data"
    }
   ],
   "source": [
    "v_initial = np.zeros(num_ideal_timers)\n",
    "v_initial[0] = 1\n",
    "\n",
    "v_fixed_ideal_peaked, v_fixed_ideal_all_peaked = selectionFixedBias(v_initial, get_interval_empirical, its=5000000, report_its=10000,\n",
    "                                                  dv_max=1e-4, dv_zero = 0.99e-4)"
   ]
  },
  {
   "cell_type": "code",
   "execution_count": 385,
   "id": "8352cdd5",
   "metadata": {},
   "outputs": [],
   "source": [
    "# np.save('files/dark/v_fixed_ideal_all_empirical.npy', v_fixed_ideal_all_peaked)\n",
    "# np.save('files/dark/v_fixed_ideal_empirical.npy', v_fixed_ideal_peaked)\n",
    "\n",
    "# v_fixed_ideal_all_peaked = np.load('files/dark/v_fixed_ideal_all_empirical.npy')\n",
    "# v_fixed_ideal_peaked = np.load('files/dark/v_fixed_ideal_empirical.npy')"
   ]
  },
  {
   "cell_type": "code",
   "execution_count": 405,
   "id": "b9eca626",
   "metadata": {},
   "outputs": [
    {
     "data": {
      "image/png": "[encoded data removed]",
      "text/plain": [
       "<Figure size 150x75 with 2 Axes>"
      ]
     },
     "metadata": {},
     "output_type": "display_data"
    }
   ],
   "source": [
    "# Eligibility window after light experience\n",
    "\n",
    "plt.figure(figsize=(1.5,0.75))\n",
    "plt.fill_between(t_empirical, 0, empirical_pdf, color=(0.8,)*3)\n",
    "plt.axis('off')\n",
    "ax = plt.twinx()\n",
    "ax.plot(t, v_fixed_ideal_peaked@timers,c='k')\n",
    "plt.axis('off');\n",
    "# plt.savefig('figures/ideal-selection-biased-weights-window.pdf')"
   ]
  },
  {
   "cell_type": "code",
   "execution_count": 407,
   "id": "845cb4b3",
   "metadata": {},
   "outputs": [
    {
     "data": {
      "image/png": "[encoded data removed]",
      "text/plain": [
       "<Figure size 150x75 with 1 Axes>"
      ]
     },
     "metadata": {},
     "output_type": "display_data"
    }
   ],
   "source": [
    "# Change in coupling strengths for timer 1 (closest to 0 ms) and timer 7 (closes to 120 ms)\n",
    "\n",
    "plt.figure(figsize=(1.5,0.75))\n",
    "\n",
    "it_report = 100000\n",
    "x = np.arange(v_fixed_ideal_all_peaked.shape[1])*it_report\n",
    "plt.plot(x, v_fixed_ideal_all_peaked[0,:], c='C2')\n",
    "plt.plot(x, v_fixed_ideal_all_peaked[6,:], c='C8')\n",
    "ax = plt.gca()\n",
    "plt.ylim([0,1])\n",
    "plt.xlim([0, x[-1]])\n",
    "ax.set_xticks([0, x[-1]/2, x[-1]])\n",
    "ax.spines['top'].set_visible(False)\n",
    "ax.spines['right'].set_visible(False)\n",
    "ax.set_xticklabels([0,'',x[-1]])\n",
    "# ax.set_xticklabels([])\n",
    "ax.set_yticks([0, 0.5, 1])\n",
    "ax.set_yticklabels([0,'',1]);\n",
    "# ax.set_yticklabels([])\n",
    "# plt.savefig('figures/ideal-selection-biased-weights-empirical.pdf')"
   ]
  },
  {
   "cell_type": "markdown",
   "id": "0c398d95",
   "metadata": {},
   "source": [
    "### Dark (using uniform distribution)\n",
    "\n",
    "Here, we start from the coupling strengths reached after the light experience."
   ]
  },
  {
   "cell_type": "code",
   "execution_count": 382,
   "id": "67500a1b",
   "metadata": {},
   "outputs": [
    {
     "data": {
      "application/vnd.jupyter.widget-view+json": {
       "model_id": "6ca519d21446496c9ade5977c6eb6c7a",
       "version_major": 2,
       "version_minor": 0
      },
      "text/plain": [
       "  0%|          | 0/5000000 [00:00<?, ?it/s]"
      ]
     },
     "metadata": {},
     "output_type": "display_data"
    }
   ],
   "source": [
    "v_initial = v_fixed_ideal_peaked # np.zeros(num_ideal_timers)\n",
    "# v_initial[0] = 1\n",
    "\n",
    "v_fixed_ideal_unif, v_fixed_ideal_all_unif = selectionFixedBias(v_initial, get_interval_unif, its=5000000, report_its=10000,\n",
    "                                                  dv_max=1e-4, dv_zero = 0.99e-4)"
   ]
  },
  {
   "cell_type": "code",
   "execution_count": 386,
   "id": "736ad5c3",
   "metadata": {},
   "outputs": [],
   "source": [
    "# np.save('files/dark/v_fixed_ideal_all_uniform.npy', v_fixed_ideal_all_unif)\n",
    "# np.save('files/dark/v_fixed_ideal_uniform.npy', v_fixed_ideal_unif)\n",
    "\n",
    "# v_fixed_ideal_all_unif = np.load('files/dark/v_fixed_ideal_all_uniform.npy')\n",
    "# v_fixed_ideal_unif = np.load('files/dark/v_fixed_ideal_uniform.npy')"
   ]
  },
  {
   "cell_type": "code",
   "execution_count": 383,
   "id": "bd1a78e0",
   "metadata": {
    "scrolled": true
   },
   "outputs": [
    {
     "data": {
      "image/png": "[encoded data removed]",
      "text/plain": [
       "<Figure size 150x75 with 2 Axes>"
      ]
     },
     "metadata": {},
     "output_type": "display_data"
    }
   ],
   "source": [
    "# Eligibility window after dark experience\n",
    "\n",
    "plt.figure(figsize=(1.5,0.75))\n",
    "plt.fill_between(t, 0, uniform_distr, color=(0.8,)*3)\n",
    "plt.axis('off')\n",
    "ax = plt.twinx()\n",
    "ax.plot(t, v_fixed_ideal_unif@timers,c='k',clip_on=False)\n",
    "plt.ylim([0,1])\n",
    "plt.axis('off')\n",
    "# plt.savefig('figures/ideal-selection-biased-weights-unif-window.pdf')"
   ]
  },
  {
   "cell_type": "code",
   "execution_count": 384,
   "id": "54a36a77",
   "metadata": {},
   "outputs": [
    {
     "data": {
      "image/png": "[encoded data removed]",
      "text/plain": [
       "<Figure size 150x75 with 1 Axes>"
      ]
     },
     "metadata": {},
     "output_type": "display_data"
    }
   ],
   "source": [
    "# Change in coupling strengths over the dark period\n",
    "plt.figure(figsize=(1.5,0.75))\n",
    "\n",
    "it_report = 100000\n",
    "x = np.arange(v_fixed_ideal_all_unif.shape[1])*it_report\n",
    "plt.plot(x, v_fixed_ideal_all_unif[0,:],c='C2')\n",
    "plt.plot(x, v_fixed_ideal_all_unif[6,:], c='C8')\n",
    "# plt.plot(x, v_fixed_ideal_all_unif[-2,:], c='C9')\n",
    "\n",
    "ax = plt.gca()\n",
    "plt.ylim([0,1])\n",
    "plt.xlim([0, x[-1]])\n",
    "ax.set_xticks([0, x[-1]/2, x[-1]])\n",
    "ax.set_xticklabels([0,'',x[-1]])\n",
    "ax.spines['top'].set_visible(False)\n",
    "ax.spines['right'].set_visible(False)\n",
    "ax.set_yticks([0, 0.5, 1])\n",
    "ax.set_yticklabels([0,'',1]);\n",
    "\n",
    "# plt.savefig('figures/ideal-selection-biased-weights-unif.pdf')"
   ]
  }
 ],
 "metadata": {
  "kernelspec": {
   "display_name": "Python [conda env:science] *",
   "language": "python",
   "name": "conda-env-science-py"
  },
  "language_info": {
   "codemirror_mode": {
    "name": "ipython",
    "version": 3
   },
   "file_extension": ".py",
   "mimetype": "text/x-python",
   "name": "python",
   "nbconvert_exporter": "python",
   "pygments_lexer": "ipython3",
   "version": "3.13.0"
  }
 },
 "nbformat": 4,
 "nbformat_minor": 5
}
