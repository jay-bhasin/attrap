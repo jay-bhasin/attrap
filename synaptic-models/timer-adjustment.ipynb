{
 "cells": [
  {
   "cell_type": "code",
   "execution_count": 74,
   "metadata": {},
   "outputs": [],
   "source": [
    "# Save fonts into pdf\n",
    "import matplotlib\n",
    "matplotlib.rcParams['pdf.fonttype'] = 42\n",
    "matplotlib.rcParams['ps.fonttype'] = 42\n",
    "\n",
    "# Set rcParams\n",
    "matplotlib.rcParams.update({'font.size': 6, 'axes.linewidth': 0.5, 'xtick.major.width': 0.5, 'xtick.minor.width': 0.5, \n",
    "                            'ytick.major.width': 0.5,'ytick.minor.width': 0.5, 'xtick.major.pad':2,'ytick.major.pad':2})\n",
    "matplotlib.rcParams.update({'font.family':'sans-serif','font.sans-serif':['Arial'], 'mathtext.default':'sf','mathtext.fontset':'custom'})\n",
    "\n",
    "matplotlib.rcParams.update({'savefig.transparent':True})"
   ]
  },
  {
   "cell_type": "code",
   "execution_count": 2,
   "metadata": {},
   "outputs": [],
   "source": [
    "import numpy as np\n",
    "import matplotlib.pyplot as plt\n",
    "%matplotlib inline\n",
    "\n",
    "from tqdm import tnrange"
   ]
  },
  {
   "cell_type": "code",
   "execution_count": 3,
   "metadata": {},
   "outputs": [],
   "source": [
    "import scipy.integrate"
   ]
  },
  {
   "cell_type": "code",
   "execution_count": 4,
   "metadata": {},
   "outputs": [],
   "source": [
    "import os"
   ]
  },
  {
   "cell_type": "markdown",
   "metadata": {},
   "source": [
    "# Timer implementation"
   ]
  },
  {
   "cell_type": "code",
   "execution_count": 5,
   "metadata": {},
   "outputs": [],
   "source": [
    "hill = lambda x, k_d, n: np.power(x,n)/(k_d**n + np.power(x,n))\n",
    "perfect_step = lambda x, k_d: x >= k_d"
   ]
  },
  {
   "cell_type": "code",
   "execution_count": 6,
   "metadata": {},
   "outputs": [],
   "source": [
    "k_deg = np.array([1000, 100])\n",
    "k_on = np.array([1500, 200])\n",
    "k_off = np.array([250, 20])\n",
    "\n",
    "\n",
    "def accumulationToBoundTimer(t,y, k_d):\n",
    "    k_pr = 5\n",
    "    dydt = np.zeros(4)\n",
    "    dydt[0] = -k_deg[0]*y[0]*hill(y[3], 0.3, 10)\n",
    "    dydt[1] = k_pr*y[0]*(1-y[1]) -k_deg[1]*y[1]*(1-y[0])\n",
    "    dydt[2] = -k_off[0]*y[2] + k_on[0]*perfect_step(y[1], k_d)*(1-y[2])\n",
    "    dydt[3] = -k_off[1]*y[3] + k_on[1]*(1-y[3])*hill(y[2], 0.9,20)\n",
    "    return dydt"
   ]
  },
  {
   "cell_type": "markdown",
   "metadata": {},
   "source": [
    "## Time course of timer components (Ext. Fig. 3B)"
   ]
  },
  {
   "cell_type": "code",
   "execution_count": 10,
   "metadata": {},
   "outputs": [],
   "source": [
    "dt = 1e-4 # Time step size (s)\n",
    "T = 0.2 # Total time of simulation\n",
    "t = np.arange(0, int(T/dt))*dt\n",
    "\n",
    "y0 = np.array([1, 0, 0, 0])\n",
    "sol = scipy.integrate.solve_ivp(lambda t,y: accumulationToBoundTimer(t,y,0.4), (0, 0.2), y0, dense_output=True)\n",
    "sol_y = sol.sol(t)"
   ]
  },
  {
   "cell_type": "code",
   "execution_count": 34,
   "metadata": {},
   "outputs": [
    {
     "data": {
      "image/png": "[encoded data removed]",
      "text/plain": [
       "<Figure size 144x216 with 4 Axes>"
      ]
     },
     "metadata": {
      "needs_background": "light"
     },
     "output_type": "display_data"
    }
   ],
   "source": [
    "plt.figure(figsize=(2,3))\n",
    "ax = plt.subplot(4,1,1)\n",
    "\n",
    "ax.xaxis.set_visible(False)\n",
    "ax.spines['top'].set_visible(False)\n",
    "ax.spines['right'].set_visible(False)\n",
    "ax.spines['bottom'].set_visible(False)\n",
    "\n",
    "plt.ylim([0,1])\n",
    "\n",
    "plt.plot(t, sol_y[0,:], lw=1, clip_on=False)\n",
    "\n",
    "\n",
    "ax = plt.subplot(4,1,2)\n",
    "plt.plot(t, sol_y[1,:], lw=1, clip_on=False)\n",
    "plt.plot([0, 0.2], [0.4,]*2, lw=1, c=(0.5, 0.5, 0.5, 1))\n",
    "plt.ylim([0, 1])\n",
    "\n",
    "ax.xaxis.set_visible(False)\n",
    "ax.spines['top'].set_visible(False)\n",
    "ax.spines['right'].set_visible(False)\n",
    "ax.spines['bottom'].set_visible(False)\n",
    "\n",
    "ax =plt.subplot(4,1,3)\n",
    "\n",
    "plt.plot(t, sol_y[2,:], lw=1, clip_on=False)\n",
    "ax.xaxis.set_visible(False)\n",
    "ax.spines['top'].set_visible(False)\n",
    "ax.spines['right'].set_visible(False)\n",
    "ax.spines['bottom'].set_visible(False)\n",
    "plt.ylim([0, 1])\n",
    "\n",
    "ax = plt.subplot(4,1,4)\n",
    "plt.plot(t, sol_y[3,:], lw=1, clip_on=False)\n",
    "\n",
    "ax.spines['top'].set_visible(False)\n",
    "ax.spines['right'].set_visible(False)\n",
    "plt.ylim([0, 1])\n",
    "\n",
    "plt.xticks([0, 0.1, 0.2])\n",
    "\n",
    "plt.tight_layout();"
   ]
  },
  {
   "cell_type": "markdown",
   "metadata": {},
   "source": [
    "# PF-CF interval distribution"
   ]
  },
  {
   "cell_type": "code",
   "execution_count": 35,
   "metadata": {},
   "outputs": [],
   "source": [
    "dt = 1e-4\n",
    "tt = np.arange(0, int(0.2/dt))*dt\n",
    "\n",
    "# Use example bimodal distribution (see text)\n",
    "distr = np.exp(-(tt-0.05)**2/(2*0.05**2)) + 2*np.exp(-(tt-0.15)**2/(2*0.01**2))\n",
    "distr /=np.sum(distr)"
   ]
  },
  {
   "cell_type": "code",
   "execution_count": 36,
   "metadata": {},
   "outputs": [
    {
     "data": {
      "text/plain": [
       "[<matplotlib.lines.Line2D at 0x1b453475f28>]"
      ]
     },
     "execution_count": 36,
     "metadata": {},
     "output_type": "execute_result"
    },
    {
     "data": {
      "image/png": "[encoded data removed]",
      "text/plain": [
       "<Figure size 432x288 with 1 Axes>"
      ]
     },
     "metadata": {
      "needs_background": "light"
     },
     "output_type": "display_data"
    }
   ],
   "source": [
    "plt.plot(tt, distr)"
   ]
  },
  {
   "cell_type": "code",
   "execution_count": 37,
   "metadata": {},
   "outputs": [],
   "source": [
    "cdf = np.cumsum(distr/np.sum(distr))\n",
    "\n",
    "# Inverse CDF\n",
    "get_interval = lambda r: np.interp(r, cdf, tt)\n",
    "get_interval_NN = lambda r: np.array(np.round(get_interval(r)*10000)/10000/dt, dtype=int)"
   ]
  },
  {
   "cell_type": "code",
   "execution_count": 60,
   "metadata": {},
   "outputs": [
    {
     "data": {
      "text/plain": [
       "0.08831181202926286"
      ]
     },
     "execution_count": 60,
     "metadata": {},
     "output_type": "execute_result"
    }
   ],
   "source": [
    "# Median timing interval\n",
    "get_interval(0.5)"
   ]
  },
  {
   "cell_type": "markdown",
   "metadata": {},
   "source": [
    "# Simulate ATTRAP"
   ]
  },
  {
   "cell_type": "code",
   "execution_count": 38,
   "metadata": {
    "scrolled": true
   },
   "outputs": [
    {
     "data": {
      "application/vnd.jupyter.widget-view+json": {
       "model_id": "4e0d0d04c8f6437798c60e7d58f238a3",
       "version_major": 2,
       "version_minor": 0
      },
      "text/plain": [
       "HBox(children=(IntProgress(value=0, max=10), HTML(value='')))"
      ]
     },
     "metadata": {},
     "output_type": "display_data"
    },
    {
     "data": {
      "application/vnd.jupyter.widget-view+json": {
       "model_id": "",
       "version_major": 2,
       "version_minor": 0
      },
      "text/plain": [
       "HBox(children=(IntProgress(value=0, max=4999), HTML(value='')))"
      ]
     },
     "metadata": {},
     "output_type": "display_data"
    },
    {
     "data": {
      "application/vnd.jupyter.widget-view+json": {
       "model_id": "",
       "version_major": 2,
       "version_minor": 0
      },
      "text/plain": [
       "HBox(children=(IntProgress(value=0, max=4999), HTML(value='')))"
      ]
     },
     "metadata": {},
     "output_type": "display_data"
    },
    {
     "data": {
      "application/vnd.jupyter.widget-view+json": {
       "model_id": "",
       "version_major": 2,
       "version_minor": 0
      },
      "text/plain": [
       "HBox(children=(IntProgress(value=0, max=4999), HTML(value='')))"
      ]
     },
     "metadata": {},
     "output_type": "display_data"
    },
    {
     "data": {
      "application/vnd.jupyter.widget-view+json": {
       "model_id": "",
       "version_major": 2,
       "version_minor": 0
      },
      "text/plain": [
       "HBox(children=(IntProgress(value=0, max=4999), HTML(value='')))"
      ]
     },
     "metadata": {},
     "output_type": "display_data"
    },
    {
     "data": {
      "application/vnd.jupyter.widget-view+json": {
       "model_id": "",
       "version_major": 2,
       "version_minor": 0
      },
      "text/plain": [
       "HBox(children=(IntProgress(value=0, max=4999), HTML(value='')))"
      ]
     },
     "metadata": {},
     "output_type": "display_data"
    },
    {
     "data": {
      "application/vnd.jupyter.widget-view+json": {
       "model_id": "",
       "version_major": 2,
       "version_minor": 0
      },
      "text/plain": [
       "HBox(children=(IntProgress(value=0, max=4999), HTML(value='')))"
      ]
     },
     "metadata": {},
     "output_type": "display_data"
    },
    {
     "data": {
      "application/vnd.jupyter.widget-view+json": {
       "model_id": "",
       "version_major": 2,
       "version_minor": 0
      },
      "text/plain": [
       "HBox(children=(IntProgress(value=0, max=4999), HTML(value='')))"
      ]
     },
     "metadata": {},
     "output_type": "display_data"
    },
    {
     "data": {
      "application/vnd.jupyter.widget-view+json": {
       "model_id": "",
       "version_major": 2,
       "version_minor": 0
      },
      "text/plain": [
       "HBox(children=(IntProgress(value=0, max=4999), HTML(value='')))"
      ]
     },
     "metadata": {},
     "output_type": "display_data"
    },
    {
     "data": {
      "application/vnd.jupyter.widget-view+json": {
       "model_id": "",
       "version_major": 2,
       "version_minor": 0
      },
      "text/plain": [
       "HBox(children=(IntProgress(value=0, max=4999), HTML(value='')))"
      ]
     },
     "metadata": {},
     "output_type": "display_data"
    },
    {
     "data": {
      "application/vnd.jupyter.widget-view+json": {
       "model_id": "",
       "version_major": 2,
       "version_minor": 0
      },
      "text/plain": [
       "HBox(children=(IntProgress(value=0, max=4999), HTML(value='')))"
      ]
     },
     "metadata": {},
     "output_type": "display_data"
    },
    {
     "name": "stdout",
     "output_type": "stream",
     "text": [
      "\n"
     ]
    }
   ],
   "source": [
    "# Simulation parameters\n",
    "its = 5000 # PF/CF pair presentations per simulation\n",
    "N_sims = 10\n",
    "\n",
    "dt = 1e-4 # Time step size (s)\n",
    "T = 0.2 # Total simulation time (s)\n",
    "t = np.arange(0, int(T/dt))*dt\n",
    "\n",
    "dthresh_ = 1e-3 # beta, learning rate\n",
    "\n",
    "thresholds = np.zeros((N_sims, its))\n",
    "peaks = np.zeros((N_sims, its))\n",
    "fwhm = np.zeros((N_sims, its, 2)) # Full width at half max of eligibility window through each simulation\n",
    "\n",
    "min_thresh = 1e-3\n",
    "max_thresh = 0.6\n",
    "for n in tnrange(N_sims):\n",
    "    y0 = np.array([1, 0, 0, 0])\n",
    "    sol = scipy.integrate.solve_ivp(lambda t,y: accumulationToBoundTimer(t,y,min_thresh), (0, 0.2), y0, dense_output=True)\n",
    "    sol_y = sol.sol(t)\n",
    "\n",
    "    thresholds[n, 0] = 1e-3\n",
    "    for it in tnrange(its-1, leave=False):\n",
    "        # Generate PF/CF interval time\n",
    "        cf_time = get_interval_NN(np.random.rand())\n",
    "\n",
    "        # Calculate value of timer adjustment window\n",
    "        lower_threshold =  -hill(sol_y[1,cf_time]*(sol_y[2,cf_time]<1e-3), 0.025, 5)*sol_y[0,cf_time] \n",
    "        raise_threshold = hill(sol_y[3,cf_time]*hill((1-sol_y[0,cf_time]), 0.9, 20), 0.025, 5) \n",
    "\n",
    "        # Move threshold\n",
    "        dthresh = (lower_threshold+raise_threshold)*dthresh_\n",
    "        thresholds[n,it+1] = np.minimum(np.maximum(thresholds[n,it] + dthresh, min_thresh), max_thresh)\n",
    "\n",
    "        # Solve for timer dynamics given new threshold for next PF/CF pair\n",
    "        sol = scipy.integrate.solve_ivp(lambda t,y: accumulationToBoundTimer(t,y,thresholds[n, it]), (0, 0.2), y0, dense_output=True)\n",
    "        sol_y = sol.sol(t)\n",
    "    \n",
    "        # Time of peak eligibility\n",
    "        peaks[n,it] = t[np.argmax(sol_y[2,:])]\n",
    "        \n",
    "        # Calculate bounds of full-width-at-half-max of eligibility window\n",
    "        inds_pos = np.argwhere(sol_y[2,:]>0.5*np.max(sol_y[2,:]))\n",
    "        fwhm[n,it,:] = np.concatenate((t[inds_pos[0]], t[inds_pos[-1]]))"
   ]
  },
  {
   "cell_type": "code",
   "execution_count": 39,
   "metadata": {},
   "outputs": [],
   "source": [
    "thresholds_mu = np.mean(thresholds, axis=0)\n",
    "thresholds_std = np.std(thresholds, axis=0)\n",
    "\n",
    "peaks_mu = np.mean(peaks, axis=0)[:-1]\n",
    "peaks_std = np.std(peaks, axis=0)[:-1]"
   ]
  },
  {
   "cell_type": "code",
   "execution_count": 40,
   "metadata": {},
   "outputs": [],
   "source": [
    "fwhm_low = np.mean(fwhm[:,:,0], axis=0)[:-1]\n",
    "fwhm_high = np.mean(fwhm[:,:,1], axis=0)[:-1]"
   ]
  },
  {
   "cell_type": "markdown",
   "metadata": {},
   "source": [
    "## Extended figure 3E"
   ]
  },
  {
   "cell_type": "code",
   "execution_count": 42,
   "metadata": {},
   "outputs": [],
   "source": [
    "thresholds_mu_mu = np.mean(thresholds_mu[1000:]) "
   ]
  },
  {
   "cell_type": "code",
   "execution_count": 123,
   "metadata": {
    "scrolled": true
   },
   "outputs": [
    {
     "data": {
      "image/png": "[encoded data removed]",
      "text/plain": [
       "<Figure size 108x108 with 2 Axes>"
      ]
     },
     "metadata": {
      "needs_background": "light"
     },
     "output_type": "display_data"
    }
   ],
   "source": [
    "plt.figure(figsize=(1.5,1.5))\n",
    "\n",
    "ax = plt.subplot(2,1,1)\n",
    "# Time course of full-width-at-half-max (FWHM) of eligibility window averaged over simulations\n",
    "plt.fill_between(np.arange(its-1),fwhm_low, fwhm_high, color='C0', alpha=0.3, linewidth=None )\n",
    "plt.plot([0, 5000], [0.0882,]*2, c='C3', lw=1)\n",
    "plt.xlim([0, 5000])\n",
    "plt.ylim([0, 0.2])\n",
    "plt.xticks([0, 2500, 5000], [0,'',5000])\n",
    "ax.spines['top'].set_visible(False)\n",
    "ax.spines['right'].set_visible(False)\n",
    "\n",
    "plt.yticks([0, 0.1, 0.2], [0, '', 200])\n",
    "\n",
    "ax = plt.subplot(2,1,2)\n",
    "# Cumulative distribution function of PF/CF interval distribution\n",
    "plt.plot(tt, cdf, lw=1, clip_on=False)\n",
    "# Median is CDF evaluated at 0.5\n",
    "plt.plot([0, 0.2], [0.5, 0.5], 'k--', lw=1)\n",
    "# Plot FWHM of eligibility using threshold value averaged over final 4000 trials across 10 simulations\n",
    "plt.fill_between([np.mean(fwhm_low[1000:]), np.mean(fwhm_high[1000:])], [0,]*2, [1,]*2,alpha=0.3)\n",
    "# Median interval\n",
    "plt.plot([get_interval(0.5),]*2, [0, 1], c='C3', lw=1)\n",
    "plt.xlim([0, 0.2])\n",
    "plt.ylim([0, 1])\n",
    "\n",
    "ax.spines['top'].set_visible(False)\n",
    "ax.spines['right'].set_visible(False)\n",
    "\n",
    "ax.set_xticks([0, 0.1, 0.2])\n",
    "ax.set_xticklabels([0, 100, 200])\n",
    "\n",
    "plt.yticks([0, 0.5, 1], [0, '', 1])\n",
    "plt.tight_layout();"
   ]
  },
  {
   "cell_type": "markdown",
   "metadata": {},
   "source": [
    "## Eligibility window contains median of PF/CF interval distribution (Fig. 3E)"
   ]
  },
  {
   "cell_type": "code",
   "execution_count": 67,
   "metadata": {},
   "outputs": [],
   "source": [
    "t_dense = np.arange(0, int(0.2/1e-4))*1e-4\n",
    "\n",
    "sol_plot = scipy.integrate.solve_ivp(lambda t,y: accumulationToBoundTimer(t,y,thresholds_mu_mu), (0, 0.2), y0, dense_output=True)\n",
    "sol_y_plot = sol_plot.sol(t_dense)"
   ]
  },
  {
   "cell_type": "code",
   "execution_count": 75,
   "metadata": {
    "scrolled": true
   },
   "outputs": [
    {
     "data": {
      "image/png": "[encoded data removed]",
      "text/plain": [
       "<Figure size 432x288 with 2 Axes>"
      ]
     },
     "metadata": {
      "needs_background": "light"
     },
     "output_type": "display_data"
    }
   ],
   "source": [
    "plt.plot(t_dense, sol_y_plot[2,:], c='k')\n",
    "plt.plot([get_interval(0.5),]*2, [0, 1], c='C3') # Median interval\n",
    "plt.axis('off')\n",
    "ax = plt.twinx()\n",
    "plt.fill_between(tt, 0, distr/np.sum(distr), alpha=0.3);\n",
    "plt.axis('off');"
   ]
  },
  {
   "cell_type": "code",
   "execution_count": 436,
   "metadata": {},
   "outputs": [
    {
     "data": {
      "image/png": "[encoded data removed]",
      "text/plain": [
       "<Figure size 432x288 with 1 Axes>"
      ]
     },
     "metadata": {
      "needs_background": "light"
     },
     "output_type": "display_data"
    }
   ],
   "source": [
    "plt.plot(t, -hill(sol_y_plot[1,:]*(sol_y_plot[2,:]<1e-3), 0.025, 5)*sol_y_plot[0,:])\n",
    "plt.plot(t, hill(sol_y_plot[3,:]*hill((1-sol_y_plot[0,:]), 0.9, 20), 0.025, 5))"
   ]
  },
  {
   "cell_type": "markdown",
   "metadata": {},
   "source": [
    "# Idealized model"
   ]
  },
  {
   "cell_type": "code",
   "execution_count": 82,
   "metadata": {},
   "outputs": [],
   "source": [
    "idealized_integrator = lambda t, theta: np.exp(-(t-theta)**2/(2*0.005**2))"
   ]
  },
  {
   "cell_type": "markdown",
   "metadata": {},
   "source": [
    "Idealized model consists of an eligibility window given by a Gaussian of comparable width to the window resulting from the accumulation-to-bound timer, where the parameter tuned by ATTRAP is the center of the Gaussian."
   ]
  },
  {
   "cell_type": "code",
   "execution_count": 86,
   "metadata": {},
   "outputs": [
    {
     "data": {
      "text/plain": [
       "[<matplotlib.lines.Line2D at 0x1b4549b54e0>]"
      ]
     },
     "execution_count": 86,
     "metadata": {},
     "output_type": "execute_result"
    },
    {
     "data": {
      "image/png": "[encoded data removed]",
      "text/plain": [
       "<Figure size 432x288 with 1 Axes>"
      ]
     },
     "metadata": {
      "needs_background": "light"
     },
     "output_type": "display_data"
    }
   ],
   "source": [
    "plt.plot(t, sol_y[2,:])\n",
    "plt.plot(t, idealized_integrator(t, 0.09))"
   ]
  },
  {
   "cell_type": "code",
   "execution_count": 111,
   "metadata": {
    "scrolled": true
   },
   "outputs": [
    {
     "data": {
      "application/vnd.jupyter.widget-view+json": {
       "model_id": "2ff85635fad94f5d8f41550ff8923ae1",
       "version_major": 2,
       "version_minor": 0
      },
      "text/plain": [
       "HBox(children=(IntProgress(value=0, max=10), HTML(value='')))"
      ]
     },
     "metadata": {},
     "output_type": "display_data"
    },
    {
     "data": {
      "application/vnd.jupyter.widget-view+json": {
       "model_id": "",
       "version_major": 2,
       "version_minor": 0
      },
      "text/plain": [
       "HBox(children=(IntProgress(value=0, max=4999), HTML(value='')))"
      ]
     },
     "metadata": {},
     "output_type": "display_data"
    },
    {
     "data": {
      "application/vnd.jupyter.widget-view+json": {
       "model_id": "",
       "version_major": 2,
       "version_minor": 0
      },
      "text/plain": [
       "HBox(children=(IntProgress(value=0, max=4999), HTML(value='')))"
      ]
     },
     "metadata": {},
     "output_type": "display_data"
    },
    {
     "data": {
      "application/vnd.jupyter.widget-view+json": {
       "model_id": "",
       "version_major": 2,
       "version_minor": 0
      },
      "text/plain": [
       "HBox(children=(IntProgress(value=0, max=4999), HTML(value='')))"
      ]
     },
     "metadata": {},
     "output_type": "display_data"
    },
    {
     "data": {
      "application/vnd.jupyter.widget-view+json": {
       "model_id": "",
       "version_major": 2,
       "version_minor": 0
      },
      "text/plain": [
       "HBox(children=(IntProgress(value=0, max=4999), HTML(value='')))"
      ]
     },
     "metadata": {},
     "output_type": "display_data"
    },
    {
     "data": {
      "application/vnd.jupyter.widget-view+json": {
       "model_id": "",
       "version_major": 2,
       "version_minor": 0
      },
      "text/plain": [
       "HBox(children=(IntProgress(value=0, max=4999), HTML(value='')))"
      ]
     },
     "metadata": {},
     "output_type": "display_data"
    },
    {
     "data": {
      "application/vnd.jupyter.widget-view+json": {
       "model_id": "",
       "version_major": 2,
       "version_minor": 0
      },
      "text/plain": [
       "HBox(children=(IntProgress(value=0, max=4999), HTML(value='')))"
      ]
     },
     "metadata": {},
     "output_type": "display_data"
    },
    {
     "data": {
      "application/vnd.jupyter.widget-view+json": {
       "model_id": "",
       "version_major": 2,
       "version_minor": 0
      },
      "text/plain": [
       "HBox(children=(IntProgress(value=0, max=4999), HTML(value='')))"
      ]
     },
     "metadata": {},
     "output_type": "display_data"
    },
    {
     "data": {
      "application/vnd.jupyter.widget-view+json": {
       "model_id": "",
       "version_major": 2,
       "version_minor": 0
      },
      "text/plain": [
       "HBox(children=(IntProgress(value=0, max=4999), HTML(value='')))"
      ]
     },
     "metadata": {},
     "output_type": "display_data"
    },
    {
     "data": {
      "application/vnd.jupyter.widget-view+json": {
       "model_id": "",
       "version_major": 2,
       "version_minor": 0
      },
      "text/plain": [
       "HBox(children=(IntProgress(value=0, max=4999), HTML(value='')))"
      ]
     },
     "metadata": {},
     "output_type": "display_data"
    },
    {
     "data": {
      "application/vnd.jupyter.widget-view+json": {
       "model_id": "",
       "version_major": 2,
       "version_minor": 0
      },
      "text/plain": [
       "HBox(children=(IntProgress(value=0, max=4999), HTML(value='')))"
      ]
     },
     "metadata": {},
     "output_type": "display_data"
    },
    {
     "name": "stdout",
     "output_type": "stream",
     "text": [
      "\n"
     ]
    }
   ],
   "source": [
    "# Simulation parameters\n",
    "its = 5000\n",
    "N_sims = 10\n",
    "\n",
    "dt = 1e-4\n",
    "T = 0.2\n",
    "t = np.arange(0, int(T/dt))*dt\n",
    "\n",
    "dthresh_ = 1e-3\n",
    "\n",
    "thresholds_ideal = np.zeros((N_sims, its))\n",
    "\n",
    "min_thresh = 1e-3\n",
    "max_thresh = 0.6\n",
    "for n in tnrange(N_sims):\n",
    "    integrator = idealized_integrator(t, min_thresh)\n",
    "\n",
    "    thresholds_ideal[n, 0] = 1e-3\n",
    "    for it in tnrange(its-1, leave=False):\n",
    "        cf_time = get_interval(np.random.rand())\n",
    "\n",
    "        # Idealized ATTRAP rule: lower threshold if CF occurs before current peak time\n",
    "        # and raise threshold if CF occurs after current peak time\n",
    "        lower_threshold = -1*(cf_time < thresholds_ideal[n, it])\n",
    "        raise_threshold = cf_time > thresholds_ideal[n, it]\n",
    "\n",
    "        dthresh = (lower_threshold+raise_threshold)*dthresh_\n",
    "        thresholds_ideal[n,it+1] = np.minimum(np.maximum(thresholds_ideal[n,it] + dthresh, min_thresh), max_thresh)\n",
    "\n",
    "        integrator = idealized_integrator(t, thresholds[n, it+1])"
   ]
  },
  {
   "cell_type": "code",
   "execution_count": 112,
   "metadata": {},
   "outputs": [],
   "source": [
    "thresholds_ideal_mu = np.mean(thresholds_ideal, axis=0)\n",
    "thresholds_ideal_std = np.std(thresholds_ideal, axis=0)"
   ]
  },
  {
   "cell_type": "markdown",
   "metadata": {},
   "source": [
    "## Extended figure 3F"
   ]
  },
  {
   "cell_type": "code",
   "execution_count": 115,
   "metadata": {},
   "outputs": [],
   "source": [
    "thresholds_ideal_mu_mu = np.mean(thresholds_ideal_mu[1000:])"
   ]
  },
  {
   "cell_type": "code",
   "execution_count": 116,
   "metadata": {},
   "outputs": [
    {
     "data": {
      "text/plain": [
       "(array([0.0837]), array([0.0958]))"
      ]
     },
     "execution_count": 116,
     "metadata": {},
     "output_type": "execute_result"
    }
   ],
   "source": [
    "final_integrator = idealized_integrator(t, thresholds_ideal_mu_mu)\n",
    "\n",
    "# Full-width-at-half-max of eligibility window generated by \n",
    "# averaging threshold value of last 4000 PF/CF pairings across 10 simulations\n",
    "indpos = np.argwhere(final_integrator>0.5*final_integrator)\n",
    "t[inds_pos[0]], t[inds_pos[-1]]"
   ]
  },
  {
   "cell_type": "code",
   "execution_count": 124,
   "metadata": {},
   "outputs": [
    {
     "data": {
      "image/png": "[encoded data removed]",
      "text/plain": [
       "<Figure size 108x108 with 2 Axes>"
      ]
     },
     "metadata": {
      "needs_background": "light"
     },
     "output_type": "display_data"
    }
   ],
   "source": [
    "plt.figure(figsize=(1.5,1.5))\n",
    "\n",
    "ax = plt.subplot(2,1,1)\n",
    "plt.fill_between(np.arange(its),thresholds_ideal_mu-thresholds_ideal_std, thresholds_ideal_mu+thresholds_ideal_std, color='C0', alpha=0.3, linewidth=None )\n",
    "plt.plot([0, 5000], [0.0882,]*2, c='C3', lw=1)\n",
    "plt.xlim([0, 5000])\n",
    "plt.ylim([0, 0.2])\n",
    "plt.xticks([0, 2500, 5000], [0,'',5000])\n",
    "ax.spines['top'].set_visible(False)\n",
    "ax.spines['right'].set_visible(False)\n",
    "\n",
    "plt.yticks([0, 0.1, 0.2], [0, '', 200])\n",
    "\n",
    "ax = plt.subplot(2,1,2)\n",
    "plt.plot(tt, cdf, lw=1, clip_on=False)\n",
    "plt.plot([0, 0.2], [0.5, 0.5], 'k--', lw=1)\n",
    "plt.fill_between(np.concatenate((t[inds_pos[0]], t[inds_pos[-1]])), [0,]*2, [1,]*2,alpha=0.3)\n",
    "plt.plot([get_interval(0.5),]*2, [0, 1], c='C3', lw=1)\n",
    "plt.xlim([0, 0.2])\n",
    "plt.ylim([0, 1])\n",
    "\n",
    "ax.spines['top'].set_visible(False)\n",
    "ax.spines['right'].set_visible(False)\n",
    "\n",
    "ax.set_xticks([0, 0.1, 0.2])\n",
    "ax.set_xticklabels([0, 100, 200])\n",
    "\n",
    "plt.yticks([0, 0.5, 1], [0, '', 1])\n",
    "plt.tight_layout();"
   ]
  },
  {
   "cell_type": "code",
   "execution_count": 120,
   "metadata": {},
   "outputs": [
    {
     "data": {
      "image/png": "[encoded data removed]",
      "text/plain": [
       "<Figure size 432x288 with 2 Axes>"
      ]
     },
     "metadata": {
      "needs_background": "light"
     },
     "output_type": "display_data"
    }
   ],
   "source": [
    "plt.plot(t, final_integrator, c='k')\n",
    "plt.plot([0.0883,]*2, [0, 1], c='C3')\n",
    "plt.axis('off')\n",
    "ax = plt.twinx()\n",
    "plt.fill_between(tt, 0, distr/np.sum(distr), alpha=0.3);\n",
    "plt.axis('off');"
   ]
  }
 ],
 "metadata": {
  "kernelspec": {
   "display_name": "Python 3",
   "language": "python",
   "name": "python3"
  },
  "language_info": {
   "codemirror_mode": {
    "name": "ipython",
    "version": 3
   },
   "file_extension": ".py",
   "mimetype": "text/x-python",
   "name": "python",
   "nbconvert_exporter": "python",
   "pygments_lexer": "ipython3",
   "version": "3.7.4"
  }
 },
 "nbformat": 4,
 "nbformat_minor": 2
}
