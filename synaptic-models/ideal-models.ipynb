{
 "cells": [
  {
   "cell_type": "code",
   "execution_count": 1,
   "id": "e8447b29",
   "metadata": {},
   "outputs": [],
   "source": [
    "import numpy as np\n",
    "\n",
    "# Save fonts into pdf\n",
    "import matplotlib\n",
    "matplotlib.rcParams['pdf.fonttype'] = 42\n",
    "matplotlib.rcParams['ps.fonttype'] = 42\n",
    "\n",
    "\n",
    "import matplotlib.pyplot as plt\n",
    "import tqdm.notebook\n",
    "import scipy.integrate"
   ]
  },
  {
   "cell_type": "code",
   "execution_count": 11,
   "id": "5c79679c",
   "metadata": {},
   "outputs": [],
   "source": [
    "matplotlib.rcParams.update({'font.size': 8, 'axes.linewidth': 0.5, 'xtick.major.width': 0.5, 'xtick.minor.width': 0.5, \n",
    "                            'ytick.major.width': 0.5,'ytick.minor.width': 0.5, 'xtick.major.pad':2,'ytick.major.pad':2})\n",
    "matplotlib.rcParams.update({'font.family':'sans-serif','font.sans-serif':['Arial'], 'mathtext.default':'sf','mathtext.fontset':'custom'})\n",
    "\n",
    "matplotlib.rcParams.update({'savefig.transparent':True})"
   ]
  },
  {
   "cell_type": "code",
   "execution_count": 3,
   "id": "c3fea055",
   "metadata": {},
   "outputs": [],
   "source": [
    "dt = 1e-4\n",
    "T_max = 0.2\n",
    "t = np.arange(0, int(T_max/dt))*dt"
   ]
  },
  {
   "cell_type": "markdown",
   "id": "310ecf4e",
   "metadata": {},
   "source": [
    "# Probability distributions\n",
    "\n",
    "## i – unimodal"
   ]
  },
  {
   "cell_type": "code",
   "execution_count": 5,
   "id": "0ebd384c",
   "metadata": {},
   "outputs": [],
   "source": [
    "uni_distr = np.exp(-(t-0.12)**2/(2*0.0075**2))\n",
    "uni_distr /=np.sum(uni_distr)"
   ]
  },
  {
   "cell_type": "code",
   "execution_count": 6,
   "id": "a95031ad",
   "metadata": {},
   "outputs": [],
   "source": [
    "uni_cdf = np.cumsum(uni_distr)\n",
    "get_interval_uni = lambda r: np.interp(r, uni_cdf, t)"
   ]
  },
  {
   "cell_type": "markdown",
   "id": "e46a5c40",
   "metadata": {},
   "source": [
    "## ii – bimodal"
   ]
  },
  {
   "cell_type": "code",
   "execution_count": 7,
   "id": "ef000c6e",
   "metadata": {},
   "outputs": [],
   "source": [
    "# Use example bimodal distribution (see text)\n",
    "bimodal_distr = np.exp(-(t-0.05)**2/(2*0.05**2)) + 2*np.exp(-(t-0.15)**2/(2*0.01**2))\n",
    "bimodal_distr /=np.sum(bimodal_distr)\n",
    "\n",
    "bimodal_cdf = np.cumsum(bimodal_distr)\n",
    "get_interval_bi = lambda r: np.interp(r, bimodal_cdf, t)"
   ]
  },
  {
   "cell_type": "markdown",
   "id": "d2ea6991",
   "metadata": {},
   "source": [
    "## iii – unimodal + background"
   ]
  },
  {
   "cell_type": "code",
   "execution_count": 8,
   "id": "a7fb593d",
   "metadata": {},
   "outputs": [],
   "source": [
    "uniform_distr = np.ones(len(t))\n",
    "uniform_distr /= np.sum(uniform_distr)\n",
    "\n",
    "peak_weight = 0.1\n",
    "peaked_distr = peak_weight*uni_distr + (1-peak_weight)*uniform_distr"
   ]
  },
  {
   "cell_type": "code",
   "execution_count": 40,
   "id": "7691a05e",
   "metadata": {},
   "outputs": [],
   "source": [
    "# uniform_cdf = np.cumsum(uniform_distr)\n",
    "peaked_cdf = np.cumsum(peaked_distr)\n",
    "get_interval_peaked = lambda r: np.interp(r, peaked_cdf, t)"
   ]
  },
  {
   "cell_type": "markdown",
   "id": "9b5446ca",
   "metadata": {},
   "source": [
    "## iv -- distribution from integrated simulation"
   ]
  },
  {
   "cell_type": "code",
   "execution_count": 345,
   "id": "7e8b7ecd",
   "metadata": {},
   "outputs": [],
   "source": [
    "empirical_distr = np.load('../behavior-learning/files/integrated simulation/poisson-low-example-hist-simple.npy')"
   ]
  },
  {
   "cell_type": "code",
   "execution_count": 357,
   "id": "dcf73183",
   "metadata": {},
   "outputs": [],
   "source": [
    "empirical_cdf = np.cumsum(empirical_distr)\n",
    "t_empirical = np.linspace(0, 0.2, 100)\n",
    "get_interval_empirical = lambda r: np.interp(r, empirical_cdf, t_empirical)"
   ]
  },
  {
   "cell_type": "code",
   "execution_count": null,
   "id": "aab52785",
   "metadata": {},
   "outputs": [],
   "source": [
    "empirical_dense = np.interp(t, t_empirical, empirical_cdf)"
   ]
  },
  {
   "cell_type": "code",
   "execution_count": 426,
   "id": "1ed831b5",
   "metadata": {},
   "outputs": [
    {
     "data": {
      "image/png": "[encoded data removed]",
      "text/plain": [
       "<Figure size 150x100 with 1 Axes>"
      ]
     },
     "metadata": {},
     "output_type": "display_data"
    }
   ],
   "source": [
    "plt.figure(figsize=(1.5,1))\n",
    "\n",
    "plt.fill_between(t[:-1], np.zeros(len(t)-1), t[1]*(empirical_dense[1:]-empirical_dense[:-1]), color=(0.9,)*3)\n",
    "plt.axis('off')\n",
    "plt.savefig('figures/empirical-pdf.pdf')"
   ]
  },
  {
   "cell_type": "markdown",
   "id": "56a33e09",
   "metadata": {},
   "source": [
    "# Timer adjustment (broad) – ideal"
   ]
  },
  {
   "cell_type": "code",
   "execution_count": 355,
   "id": "10f2763a",
   "metadata": {},
   "outputs": [],
   "source": [
    "idealized_integrator = lambda t, t_p: np.exp(-(t-t_p)**2/(2*0.0025**2))\n",
    "\n",
    "def simulateTimerAdjustment(get_interval, N_sims = 10, its = 5000, dtp_ = 1e-3, min_tp = 0, max_tp = T_max):\n",
    "    tps = np.zeros((N_sims, its))\n",
    "    # cdf = np.cumsum(distr)\n",
    "    # get_interval = lambda r: np.interp(r, cdf, t)\n",
    "\n",
    "    for n in tqdm.notebook.trange(N_sims):\n",
    "        integrator = idealized_integrator(t, min_tp)\n",
    "\n",
    "        tps[n, 0] = min_tp\n",
    "        for it in tqdm.notebook.trange(its-1, leave=False):\n",
    "            cf_time = get_interval(rng.random())\n",
    "\n",
    "            # Idealized ATTRAP rule: lower threshold if CF occurs before current peak time\n",
    "            # and raise threshold if CF occurs after current peak time\n",
    "            lower_tp = -1*(cf_time < tps[n, it])\n",
    "            raise_tp = cf_time > tps[n, it]\n",
    "\n",
    "            dtp = (lower_tp+raise_tp)*dtp_\n",
    "            tps[n,it+1] = np.minimum(np.maximum(tps[n,it] + dtp, min_tp), max_tp)\n",
    "\n",
    "            integrator = idealized_integrator(t, tps[n, it+1])\n",
    "    return tps"
   ]
  },
  {
   "cell_type": "markdown",
   "id": "c5f509d7",
   "metadata": {},
   "source": [
    "## i – unimodal distribution"
   ]
  },
  {
   "cell_type": "code",
   "execution_count": 48,
   "id": "879834d8",
   "metadata": {},
   "outputs": [
    {
     "data": {
      "application/vnd.jupyter.widget-view+json": {
       "model_id": "7e781c89ac09421189377860df4c1dc8",
       "version_major": 2,
       "version_minor": 0
      },
      "text/plain": [
       "  0%|          | 0/10 [00:00<?, ?it/s]"
      ]
     },
     "metadata": {},
     "output_type": "display_data"
    },
    {
     "data": {
      "application/vnd.jupyter.widget-view+json": {
       "model_id": "",
       "version_major": 2,
       "version_minor": 0
      },
      "text/plain": [
       "  0%|          | 0/4999 [00:00<?, ?it/s]"
      ]
     },
     "metadata": {},
     "output_type": "display_data"
    },
    {
     "data": {
      "application/vnd.jupyter.widget-view+json": {
       "model_id": "",
       "version_major": 2,
       "version_minor": 0
      },
      "text/plain": [
       "  0%|          | 0/4999 [00:00<?, ?it/s]"
      ]
     },
     "metadata": {},
     "output_type": "display_data"
    },
    {
     "data": {
      "application/vnd.jupyter.widget-view+json": {
       "model_id": "",
       "version_major": 2,
       "version_minor": 0
      },
      "text/plain": [
       "  0%|          | 0/4999 [00:00<?, ?it/s]"
      ]
     },
     "metadata": {},
     "output_type": "display_data"
    },
    {
     "data": {
      "application/vnd.jupyter.widget-view+json": {
       "model_id": "",
       "version_major": 2,
       "version_minor": 0
      },
      "text/plain": [
       "  0%|          | 0/4999 [00:00<?, ?it/s]"
      ]
     },
     "metadata": {},
     "output_type": "display_data"
    },
    {
     "data": {
      "application/vnd.jupyter.widget-view+json": {
       "model_id": "",
       "version_major": 2,
       "version_minor": 0
      },
      "text/plain": [
       "  0%|          | 0/4999 [00:00<?, ?it/s]"
      ]
     },
     "metadata": {},
     "output_type": "display_data"
    },
    {
     "data": {
      "application/vnd.jupyter.widget-view+json": {
       "model_id": "",
       "version_major": 2,
       "version_minor": 0
      },
      "text/plain": [
       "  0%|          | 0/4999 [00:00<?, ?it/s]"
      ]
     },
     "metadata": {},
     "output_type": "display_data"
    },
    {
     "data": {
      "application/vnd.jupyter.widget-view+json": {
       "model_id": "",
       "version_major": 2,
       "version_minor": 0
      },
      "text/plain": [
       "  0%|          | 0/4999 [00:00<?, ?it/s]"
      ]
     },
     "metadata": {},
     "output_type": "display_data"
    },
    {
     "data": {
      "application/vnd.jupyter.widget-view+json": {
       "model_id": "",
       "version_major": 2,
       "version_minor": 0
      },
      "text/plain": [
       "  0%|          | 0/4999 [00:00<?, ?it/s]"
      ]
     },
     "metadata": {},
     "output_type": "display_data"
    },
    {
     "data": {
      "application/vnd.jupyter.widget-view+json": {
       "model_id": "",
       "version_major": 2,
       "version_minor": 0
      },
      "text/plain": [
       "  0%|          | 0/4999 [00:00<?, ?it/s]"
      ]
     },
     "metadata": {},
     "output_type": "display_data"
    },
    {
     "data": {
      "application/vnd.jupyter.widget-view+json": {
       "model_id": "",
       "version_major": 2,
       "version_minor": 0
      },
      "text/plain": [
       "  0%|          | 0/4999 [00:00<?, ?it/s]"
      ]
     },
     "metadata": {},
     "output_type": "display_data"
    }
   ],
   "source": [
    "rng = np.random.default_rng(0)\n",
    "tps_ideal = simulateTimerAdjustment(get_interval_uni)\n",
    "\n",
    "tps_ideal_mu = np.mean(tps_ideal, axis=0)\n",
    "tps_ideal_std = np.std(tps_ideal, axis=0)"
   ]
  },
  {
   "cell_type": "code",
   "execution_count": 49,
   "id": "2c129b4d",
   "metadata": {},
   "outputs": [
    {
     "data": {
      "text/plain": [
       "([<matplotlib.axis.YTick at 0x7fd4f1aca3b0>,\n",
       "  <matplotlib.axis.YTick at 0x7fd4f1ac9a20>,\n",
       "  <matplotlib.axis.YTick at 0x7fd4f1a6ae90>],\n",
       " [Text(0, 0.0, '0'), Text(0, 0.1, ''), Text(0, 0.2, '200')])"
      ]
     },
     "execution_count": 49,
     "metadata": {},
     "output_type": "execute_result"
    },
    {
     "data": {
      "image/png": "[encoded data removed]",
      "text/plain": [
       "<Figure size 150x100 with 1 Axes>"
      ]
     },
     "metadata": {},
     "output_type": "display_data"
    }
   ],
   "source": [
    "plt.figure(figsize=(1.5,1))\n",
    "plt.fill_between(np.arange(5000),tps_ideal_mu-tps_ideal_std, tps_ideal_mu+tps_ideal_std, color='k', alpha=0.3, linewidth=None )\n",
    "plt.plot([0, 5000], [0.12,]*2, c='C3', lw=1)\n",
    "plt.xlim([0, 5000])\n",
    "plt.ylim([0, 0.2])\n",
    "plt.xticks([0, 2500, 5000], [0,'',5000])\n",
    "ax = plt.gca()\n",
    "ax.spines['top'].set_visible(False)\n",
    "ax.spines['right'].set_visible(False)\n",
    "\n",
    "plt.yticks([0, 0.1, 0.2], [0, '', 200])"
   ]
  },
  {
   "cell_type": "code",
   "execution_count": 32,
   "id": "2149bf08",
   "metadata": {},
   "outputs": [
    {
     "data": {
      "text/plain": [
       "0.12006920000000008"
      ]
     },
     "execution_count": 32,
     "metadata": {},
     "output_type": "execute_result"
    }
   ],
   "source": [
    "np.mean(tps_ideal_mu[-1000:])"
   ]
  },
  {
   "cell_type": "code",
   "execution_count": 52,
   "id": "5505ec90",
   "metadata": {},
   "outputs": [
    {
     "data": {
      "image/png": "[encoded data removed]",
      "text/plain": [
       "<Figure size 150x100 with 2 Axes>"
      ]
     },
     "metadata": {},
     "output_type": "display_data"
    }
   ],
   "source": [
    "plt.figure(figsize=(1.5,1))\n",
    "\n",
    "plt.fill_between(t, np.zeros(len(t)), uni_distr, color=(0.9,)*3)\n",
    "plt.axis('off')\n",
    "ax = plt.twinx()\n",
    "# ax.plot(t, idealized_integrator(t, t_p_init_avg), c='k')\n",
    "ax.plot(t, idealized_integrator(t, np.mean(tps_ideal_mu[-1000:])), c='k',lw=1)\n",
    "plt.axis('off');\n",
    "plt.savefig('figures/unimodal-median-ideal.pdf')"
   ]
  },
  {
   "cell_type": "markdown",
   "id": "bf0cd7fa",
   "metadata": {},
   "source": [
    "## ii – bimodal distribution"
   ]
  },
  {
   "cell_type": "code",
   "execution_count": 58,
   "id": "80e1a733",
   "metadata": {},
   "outputs": [
    {
     "data": {
      "application/vnd.jupyter.widget-view+json": {
       "model_id": "",
       "version_major": 2,
       "version_minor": 0
      },
      "text/plain": [
       "  0%|          | 0/10 [00:00<?, ?it/s]"
      ]
     },
     "metadata": {},
     "output_type": "display_data"
    },
    {
     "data": {
      "application/vnd.jupyter.widget-view+json": {
       "model_id": "",
       "version_major": 2,
       "version_minor": 0
      },
      "text/plain": [
       "  0%|          | 0/4999 [00:00<?, ?it/s]"
      ]
     },
     "metadata": {},
     "output_type": "display_data"
    },
    {
     "data": {
      "application/vnd.jupyter.widget-view+json": {
       "model_id": "",
       "version_major": 2,
       "version_minor": 0
      },
      "text/plain": [
       "  0%|          | 0/4999 [00:00<?, ?it/s]"
      ]
     },
     "metadata": {},
     "output_type": "display_data"
    },
    {
     "data": {
      "application/vnd.jupyter.widget-view+json": {
       "model_id": "",
       "version_major": 2,
       "version_minor": 0
      },
      "text/plain": [
       "  0%|          | 0/4999 [00:00<?, ?it/s]"
      ]
     },
     "metadata": {},
     "output_type": "display_data"
    },
    {
     "data": {
      "application/vnd.jupyter.widget-view+json": {
       "model_id": "",
       "version_major": 2,
       "version_minor": 0
      },
      "text/plain": [
       "  0%|          | 0/4999 [00:00<?, ?it/s]"
      ]
     },
     "metadata": {},
     "output_type": "display_data"
    },
    {
     "data": {
      "application/vnd.jupyter.widget-view+json": {
       "model_id": "",
       "version_major": 2,
       "version_minor": 0
      },
      "text/plain": [
       "  0%|          | 0/4999 [00:00<?, ?it/s]"
      ]
     },
     "metadata": {},
     "output_type": "display_data"
    },
    {
     "data": {
      "application/vnd.jupyter.widget-view+json": {
       "model_id": "",
       "version_major": 2,
       "version_minor": 0
      },
      "text/plain": [
       "  0%|          | 0/4999 [00:00<?, ?it/s]"
      ]
     },
     "metadata": {},
     "output_type": "display_data"
    },
    {
     "data": {
      "application/vnd.jupyter.widget-view+json": {
       "model_id": "",
       "version_major": 2,
       "version_minor": 0
      },
      "text/plain": [
       "  0%|          | 0/4999 [00:00<?, ?it/s]"
      ]
     },
     "metadata": {},
     "output_type": "display_data"
    },
    {
     "data": {
      "application/vnd.jupyter.widget-view+json": {
       "model_id": "",
       "version_major": 2,
       "version_minor": 0
      },
      "text/plain": [
       "  0%|          | 0/4999 [00:00<?, ?it/s]"
      ]
     },
     "metadata": {},
     "output_type": "display_data"
    },
    {
     "data": {
      "application/vnd.jupyter.widget-view+json": {
       "model_id": "",
       "version_major": 2,
       "version_minor": 0
      },
      "text/plain": [
       "  0%|          | 0/4999 [00:00<?, ?it/s]"
      ]
     },
     "metadata": {},
     "output_type": "display_data"
    },
    {
     "data": {
      "application/vnd.jupyter.widget-view+json": {
       "model_id": "",
       "version_major": 2,
       "version_minor": 0
      },
      "text/plain": [
       "  0%|          | 0/4999 [00:00<?, ?it/s]"
      ]
     },
     "metadata": {},
     "output_type": "display_data"
    }
   ],
   "source": [
    "rng = np.random.default_rng(0)\n",
    "tps_ideal = simulateTimerAdjustment(get_interval_bi)\n",
    "\n",
    "tps_ideal_mu = np.mean(tps_ideal, axis=0)\n",
    "tps_ideal_std = np.std(tps_ideal, axis=0)"
   ]
  },
  {
   "cell_type": "code",
   "execution_count": 77,
   "id": "eac2c5cf",
   "metadata": {},
   "outputs": [],
   "source": [
    "true_median = get_interval_bi(0.5)"
   ]
  },
  {
   "cell_type": "code",
   "execution_count": 60,
   "id": "c8bf501b",
   "metadata": {},
   "outputs": [
    {
     "data": {
      "text/plain": [
       "([<matplotlib.axis.YTick at 0x7fd4f1e0c0d0>,\n",
       "  <matplotlib.axis.YTick at 0x7fd4f2104d60>,\n",
       "  <matplotlib.axis.YTick at 0x7fd4f208c1c0>],\n",
       " [Text(0, 0.0, '0'), Text(0, 0.1, ''), Text(0, 0.2, '200')])"
      ]
     },
     "execution_count": 60,
     "metadata": {},
     "output_type": "execute_result"
    },
    {
     "data": {
      "image/png": "[encoded data removed]",
      "text/plain": [
       "<Figure size 150x100 with 1 Axes>"
      ]
     },
     "metadata": {},
     "output_type": "display_data"
    }
   ],
   "source": [
    "plt.figure(figsize=(1.5,1))\n",
    "plt.fill_between(np.arange(5000),tps_ideal_mu-tps_ideal_std, tps_ideal_mu+tps_ideal_std, color='k', alpha=0.3, linewidth=None )\n",
    "plt.plot([0, 5000], [true_median,]*2, c='C3', lw=1)\n",
    "plt.xlim([0, 5000])\n",
    "plt.ylim([0, 0.2])\n",
    "plt.xticks([0, 2500, 5000], [0,'',5000])\n",
    "ax = plt.gca()\n",
    "ax.spines['top'].set_visible(False)\n",
    "ax.spines['right'].set_visible(False)\n",
    "\n",
    "plt.yticks([0, 0.1, 0.2], [0, '', 200])"
   ]
  },
  {
   "cell_type": "code",
   "execution_count": 65,
   "id": "8547913f",
   "metadata": {},
   "outputs": [
    {
     "data": {
      "image/png": "[encoded data removed]",
      "text/plain": [
       "<Figure size 150x100 with 2 Axes>"
      ]
     },
     "metadata": {},
     "output_type": "display_data"
    }
   ],
   "source": [
    "plt.figure(figsize=(1.5,1))\n",
    "plt.fill_between(t, np.zeros(len(t)), bimodal_distr, color=(0.9,)*3)\n",
    "plt.axis('off')\n",
    "ax = plt.twinx()\n",
    "# ax.plot(t, idealized_integrator(t, t_p_init_avg), c='k')\n",
    "plt.plot([true_median,]*2, [0, 1.1], lw=1, c='C3')\n",
    "ax.plot(t, idealized_integrator(t, np.mean(tps_ideal_mu[-1000:])), c='k',lw=1)\n",
    "plt.axis('off');\n",
    "plt.savefig('figures/bimodal-median-ideal.pdf')"
   ]
  },
  {
   "cell_type": "code",
   "execution_count": 78,
   "id": "acb98ab4",
   "metadata": {},
   "outputs": [
    {
     "data": {
      "image/png": "[encoded data removed]",
      "text/plain": [
       "<Figure size 150x100 with 1 Axes>"
      ]
     },
     "metadata": {},
     "output_type": "display_data"
    }
   ],
   "source": [
    "plt.figure(figsize=(1.5,1))\n",
    "plt.plot(t, bimodal_cdf, c='k',clip_on=False,lw=1)\n",
    "plt.plot([0,t[-1]], [0.5, 0.5], c='k',lw=1,ls='--')\n",
    "plt.plot([true_median,]*2, [0, 1], lw=1, c='C3')\n",
    "plt.xlim([0,0.2])\n",
    "plt.ylim([0,1])\n",
    "ax = plt.gca()\n",
    "ax.spines['top'].set_visible(False)\n",
    "ax.spines['right'].set_visible(False)\n",
    "\n",
    "ax.set_yticks([0,0.5,1])\n",
    "ax.set_xticks([0,0.1,0.2])\n",
    "# plt.axis('off')\n",
    "plt.savefig('figures/bimodal-cdf-median.pdf')"
   ]
  },
  {
   "cell_type": "markdown",
   "id": "0ae3ec6d",
   "metadata": {},
   "source": [
    "## iii -- peak + background"
   ]
  },
  {
   "cell_type": "code",
   "execution_count": 66,
   "id": "3fa8a1f2",
   "metadata": {},
   "outputs": [
    {
     "data": {
      "application/vnd.jupyter.widget-view+json": {
       "model_id": "",
       "version_major": 2,
       "version_minor": 0
      },
      "text/plain": [
       "  0%|          | 0/10 [00:00<?, ?it/s]"
      ]
     },
     "metadata": {},
     "output_type": "display_data"
    },
    {
     "data": {
      "application/vnd.jupyter.widget-view+json": {
       "model_id": "",
       "version_major": 2,
       "version_minor": 0
      },
      "text/plain": [
       "  0%|          | 0/4999 [00:00<?, ?it/s]"
      ]
     },
     "metadata": {},
     "output_type": "display_data"
    },
    {
     "data": {
      "application/vnd.jupyter.widget-view+json": {
       "model_id": "",
       "version_major": 2,
       "version_minor": 0
      },
      "text/plain": [
       "  0%|          | 0/4999 [00:00<?, ?it/s]"
      ]
     },
     "metadata": {},
     "output_type": "display_data"
    },
    {
     "data": {
      "application/vnd.jupyter.widget-view+json": {
       "model_id": "",
       "version_major": 2,
       "version_minor": 0
      },
      "text/plain": [
       "  0%|          | 0/4999 [00:00<?, ?it/s]"
      ]
     },
     "metadata": {},
     "output_type": "display_data"
    },
    {
     "data": {
      "application/vnd.jupyter.widget-view+json": {
       "model_id": "",
       "version_major": 2,
       "version_minor": 0
      },
      "text/plain": [
       "  0%|          | 0/4999 [00:00<?, ?it/s]"
      ]
     },
     "metadata": {},
     "output_type": "display_data"
    },
    {
     "data": {
      "application/vnd.jupyter.widget-view+json": {
       "model_id": "",
       "version_major": 2,
       "version_minor": 0
      },
      "text/plain": [
       "  0%|          | 0/4999 [00:00<?, ?it/s]"
      ]
     },
     "metadata": {},
     "output_type": "display_data"
    },
    {
     "data": {
      "application/vnd.jupyter.widget-view+json": {
       "model_id": "",
       "version_major": 2,
       "version_minor": 0
      },
      "text/plain": [
       "  0%|          | 0/4999 [00:00<?, ?it/s]"
      ]
     },
     "metadata": {},
     "output_type": "display_data"
    },
    {
     "data": {
      "application/vnd.jupyter.widget-view+json": {
       "model_id": "",
       "version_major": 2,
       "version_minor": 0
      },
      "text/plain": [
       "  0%|          | 0/4999 [00:00<?, ?it/s]"
      ]
     },
     "metadata": {},
     "output_type": "display_data"
    },
    {
     "data": {
      "application/vnd.jupyter.widget-view+json": {
       "model_id": "",
       "version_major": 2,
       "version_minor": 0
      },
      "text/plain": [
       "  0%|          | 0/4999 [00:00<?, ?it/s]"
      ]
     },
     "metadata": {},
     "output_type": "display_data"
    },
    {
     "data": {
      "application/vnd.jupyter.widget-view+json": {
       "model_id": "",
       "version_major": 2,
       "version_minor": 0
      },
      "text/plain": [
       "  0%|          | 0/4999 [00:00<?, ?it/s]"
      ]
     },
     "metadata": {},
     "output_type": "display_data"
    },
    {
     "data": {
      "application/vnd.jupyter.widget-view+json": {
       "model_id": "",
       "version_major": 2,
       "version_minor": 0
      },
      "text/plain": [
       "  0%|          | 0/4999 [00:00<?, ?it/s]"
      ]
     },
     "metadata": {},
     "output_type": "display_data"
    }
   ],
   "source": [
    "rng = np.random.default_rng(0)\n",
    "tps_ideal = simulateTimerAdjustment(get_interval_peaked)\n",
    "\n",
    "tps_ideal_mu = np.mean(tps_ideal, axis=0)\n",
    "tps_ideal_std = np.std(tps_ideal, axis=0)"
   ]
  },
  {
   "cell_type": "code",
   "execution_count": 67,
   "id": "29fc6bfe",
   "metadata": {},
   "outputs": [],
   "source": [
    "true_median = get_interval_peaked(0.5)"
   ]
  },
  {
   "cell_type": "code",
   "execution_count": 42,
   "id": "ea754264",
   "metadata": {},
   "outputs": [
    {
     "data": {
      "text/plain": [
       "([<matplotlib.axis.YTick at 0x7fd4f03d2f80>,\n",
       "  <matplotlib.axis.YTick at 0x7fd4f03d09a0>,\n",
       "  <matplotlib.axis.YTick at 0x7fd4f03d27d0>],\n",
       " [Text(0, 0.0, '0'), Text(0, 0.1, ''), Text(0, 0.2, '200')])"
      ]
     },
     "execution_count": 42,
     "metadata": {},
     "output_type": "execute_result"
    },
    {
     "data": {
      "image/png": "[encoded data removed]",
      "text/plain": [
       "<Figure size 150x100 with 1 Axes>"
      ]
     },
     "metadata": {},
     "output_type": "display_data"
    }
   ],
   "source": [
    "plt.figure(figsize=(1.5,1))\n",
    "plt.fill_between(np.arange(5000),tps_ideal_mu-tps_ideal_std, tps_ideal_mu+tps_ideal_std, color='k', alpha=0.3, linewidth=None )\n",
    "plt.plot([0, 5000], [true_median,]*2, c='C3', lw=1)\n",
    "plt.xlim([0, 5000])\n",
    "plt.ylim([0, 0.2])\n",
    "plt.xticks([0, 2500, 5000], [0,'',5000])\n",
    "ax = plt.gca()\n",
    "ax.spines['top'].set_visible(False)\n",
    "ax.spines['right'].set_visible(False)\n",
    "\n",
    "plt.yticks([0, 0.1, 0.2], [0, '', 200])"
   ]
  },
  {
   "cell_type": "code",
   "execution_count": 68,
   "id": "c5fdfd5e",
   "metadata": {},
   "outputs": [
    {
     "data": {
      "image/png": "[encoded data removed]",
      "text/plain": [
       "<Figure size 150x100 with 2 Axes>"
      ]
     },
     "metadata": {},
     "output_type": "display_data"
    }
   ],
   "source": [
    "plt.figure(figsize=(1.5,1))\n",
    "\n",
    "plt.fill_between(t, np.zeros(len(t)), peaked_distr, color=(0.9,)*3)\n",
    "plt.axis('off')\n",
    "ax = plt.twinx()\n",
    "# ax.plot(t, idealized_integrator(t, t_p_init_avg), c='k')\n",
    "plt.plot([true_median,]*2, [0, 1.1], lw=1, c='C3')\n",
    "ax.plot(t, idealized_integrator(t, np.mean(tps_ideal_mu[-1000:])), c='k',lw=1)\n",
    "plt.axis('off');\n",
    "plt.savefig('figures/peaked-median-ideal.pdf')"
   ]
  },
  {
   "cell_type": "markdown",
   "id": "cfbde930",
   "metadata": {},
   "source": [
    "## iv -- empirical distr"
   ]
  },
  {
   "cell_type": "code",
   "execution_count": 358,
   "id": "d7e734fd",
   "metadata": {
    "scrolled": false
   },
   "outputs": [
    {
     "data": {
      "application/vnd.jupyter.widget-view+json": {
       "model_id": "b08fa3c10ec74483b24e4ba7a6d81a39",
       "version_major": 2,
       "version_minor": 0
      },
      "text/plain": [
       "  0%|          | 0/10 [00:00<?, ?it/s]"
      ]
     },
     "metadata": {},
     "output_type": "display_data"
    },
    {
     "data": {
      "application/vnd.jupyter.widget-view+json": {
       "model_id": "",
       "version_major": 2,
       "version_minor": 0
      },
      "text/plain": [
       "  0%|          | 0/4999 [00:00<?, ?it/s]"
      ]
     },
     "metadata": {},
     "output_type": "display_data"
    },
    {
     "data": {
      "application/vnd.jupyter.widget-view+json": {
       "model_id": "",
       "version_major": 2,
       "version_minor": 0
      },
      "text/plain": [
       "  0%|          | 0/4999 [00:00<?, ?it/s]"
      ]
     },
     "metadata": {},
     "output_type": "display_data"
    },
    {
     "data": {
      "application/vnd.jupyter.widget-view+json": {
       "model_id": "",
       "version_major": 2,
       "version_minor": 0
      },
      "text/plain": [
       "  0%|          | 0/4999 [00:00<?, ?it/s]"
      ]
     },
     "metadata": {},
     "output_type": "display_data"
    },
    {
     "data": {
      "application/vnd.jupyter.widget-view+json": {
       "model_id": "",
       "version_major": 2,
       "version_minor": 0
      },
      "text/plain": [
       "  0%|          | 0/4999 [00:00<?, ?it/s]"
      ]
     },
     "metadata": {},
     "output_type": "display_data"
    },
    {
     "data": {
      "application/vnd.jupyter.widget-view+json": {
       "model_id": "",
       "version_major": 2,
       "version_minor": 0
      },
      "text/plain": [
       "  0%|          | 0/4999 [00:00<?, ?it/s]"
      ]
     },
     "metadata": {},
     "output_type": "display_data"
    },
    {
     "data": {
      "application/vnd.jupyter.widget-view+json": {
       "model_id": "",
       "version_major": 2,
       "version_minor": 0
      },
      "text/plain": [
       "  0%|          | 0/4999 [00:00<?, ?it/s]"
      ]
     },
     "metadata": {},
     "output_type": "display_data"
    },
    {
     "data": {
      "application/vnd.jupyter.widget-view+json": {
       "model_id": "",
       "version_major": 2,
       "version_minor": 0
      },
      "text/plain": [
       "  0%|          | 0/4999 [00:00<?, ?it/s]"
      ]
     },
     "metadata": {},
     "output_type": "display_data"
    },
    {
     "data": {
      "application/vnd.jupyter.widget-view+json": {
       "model_id": "",
       "version_major": 2,
       "version_minor": 0
      },
      "text/plain": [
       "  0%|          | 0/4999 [00:00<?, ?it/s]"
      ]
     },
     "metadata": {},
     "output_type": "display_data"
    },
    {
     "data": {
      "application/vnd.jupyter.widget-view+json": {
       "model_id": "",
       "version_major": 2,
       "version_minor": 0
      },
      "text/plain": [
       "  0%|          | 0/4999 [00:00<?, ?it/s]"
      ]
     },
     "metadata": {},
     "output_type": "display_data"
    },
    {
     "data": {
      "application/vnd.jupyter.widget-view+json": {
       "model_id": "",
       "version_major": 2,
       "version_minor": 0
      },
      "text/plain": [
       "  0%|          | 0/4999 [00:00<?, ?it/s]"
      ]
     },
     "metadata": {},
     "output_type": "display_data"
    }
   ],
   "source": [
    "rng = np.random.default_rng(0)\n",
    "tps_ideal = simulateTimerAdjustment(get_interval_empirical)\n",
    "\n",
    "tps_ideal_mu = np.mean(tps_ideal, axis=0)\n",
    "tps_ideal_std = np.std(tps_ideal, axis=0)"
   ]
  },
  {
   "cell_type": "code",
   "execution_count": 359,
   "id": "6ce21212",
   "metadata": {},
   "outputs": [],
   "source": [
    "true_median = get_interval_empirical(0.5)"
   ]
  },
  {
   "cell_type": "code",
   "execution_count": 360,
   "id": "55e65a86",
   "metadata": {},
   "outputs": [
    {
     "data": {
      "text/plain": [
       "([<matplotlib.axis.YTick at 0x7fd4df81f1c0>,\n",
       "  <matplotlib.axis.YTick at 0x7fd4df81c580>,\n",
       "  <matplotlib.axis.YTick at 0x7fd4df81dd80>],\n",
       " [Text(0, 0.0, '0'), Text(0, 0.1, ''), Text(0, 0.2, '200')])"
      ]
     },
     "execution_count": 360,
     "metadata": {},
     "output_type": "execute_result"
    },
    {
     "data": {
      "image/png": "[encoded data removed]",
      "text/plain": [
       "<Figure size 150x100 with 1 Axes>"
      ]
     },
     "metadata": {},
     "output_type": "display_data"
    }
   ],
   "source": [
    "plt.figure(figsize=(1.5,1))\n",
    "plt.fill_between(np.arange(5000),tps_ideal_mu-tps_ideal_std, tps_ideal_mu+tps_ideal_std, color='k', alpha=0.3, linewidth=None )\n",
    "plt.plot([0, 5000], [true_median,]*2, c='C3', lw=1)\n",
    "plt.xlim([0, 5000])\n",
    "plt.ylim([0, 0.2])\n",
    "plt.xticks([0, 2500, 5000], [0,'',5000])\n",
    "ax = plt.gca()\n",
    "ax.spines['top'].set_visible(False)\n",
    "ax.spines['right'].set_visible(False)\n",
    "\n",
    "plt.yticks([0, 0.1, 0.2], [0, '', 200])"
   ]
  },
  {
   "cell_type": "code",
   "execution_count": 368,
   "id": "04bcf449",
   "metadata": {},
   "outputs": [
    {
     "data": {
      "text/plain": [
       "[<matplotlib.lines.Line2D at 0x7fd4e0505840>]"
      ]
     },
     "execution_count": 368,
     "metadata": {},
     "output_type": "execute_result"
    },
    {
     "data": {
      "image/png": "[encoded data removed]",
      "text/plain": [
       "<Figure size 640x480 with 1 Axes>"
      ]
     },
     "metadata": {},
     "output_type": "display_data"
    }
   ],
   "source": [
    "# plt.plot(t_empirical[:-1], t_empirical[1]*(empirical_cdf[1:] - empirical_cdf[:-1]))\n",
    "plt.plot(t[:-1], t[1]*(empirical_dense[1:]-empirical_dense[:-1]))"
   ]
  },
  {
   "cell_type": "code",
   "execution_count": 370,
   "id": "21e0bfef",
   "metadata": {},
   "outputs": [
    {
     "data": {
      "image/png": "[encoded data removed]",
      "text/plain": [
       "<Figure size 150x100 with 2 Axes>"
      ]
     },
     "metadata": {},
     "output_type": "display_data"
    }
   ],
   "source": [
    "plt.figure(figsize=(1.5,1))\n",
    "\n",
    "# plt.fill_between(t_empirical, np.zeros(len(t_empirical)), empirical_distr, color=(0.9,)*3)\n",
    "plt.fill_between(t[:-1], np.zeros(len(t)-1), t[1]*(empirical_dense[1:]-empirical_dense[:-1]), color=(0.9,)*3)\n",
    "plt.axis('off')\n",
    "ax = plt.twinx()\n",
    "# ax.plot(t, idealized_integrator(t, t_p_init_avg), c='k')\n",
    "plt.plot([true_median,]*2, [0, 1.1], lw=1, c='C3')\n",
    "ax.plot(t, idealized_integrator(t, np.mean(tps_ideal_mu[-1000:])), c='k',lw=1)\n",
    "plt.axis('off');\n",
    "plt.savefig('figures/empirical-median-ideal.pdf')"
   ]
  },
  {
   "cell_type": "markdown",
   "id": "0ef61d96",
   "metadata": {},
   "source": [
    "# Timer adjustment (narrow)"
   ]
  },
  {
   "cell_type": "code",
   "execution_count": 372,
   "id": "607c870a",
   "metadata": {},
   "outputs": [],
   "source": [
    "idealized_integrator = lambda t, t_p: np.exp(-(t-t_p)**2/(2*0.0025**2))\n",
    "\n",
    "def simulateTimerAdjustmentPeak(get_interval, N_sims = 10, its = 5000, dtp_ = 1e-3, min_tp = 0, max_tp = T_max,\n",
    "                               window_left = 20e-3, window_right = 20e-3, median_weight = 0.01, initial_value = None):\n",
    "    tps = np.zeros((N_sims, its))\n",
    "    # cdf = np.cumsum(distr)\n",
    "    # get_interval = lambda r: np.interp(r, cdf, t)\n",
    "    \n",
    "    if initial_value == None:\n",
    "        initial_value = min_tp\n",
    "\n",
    "    for n in tqdm.notebook.trange(N_sims):\n",
    "        integrator = idealized_integrator(t, min_tp)\n",
    "\n",
    "        tps[n, 0] = initial_value\n",
    "        for it in tqdm.notebook.trange(its-1, leave=False):\n",
    "            cf_time = get_interval(np.random.rand())\n",
    "\n",
    "            # Idealized ATTRAP rule: lower threshold if CF occurs before current peak time\n",
    "            # and raise threshold if CF occurs after current peak time\n",
    "            lower_tp_med = -1*(cf_time < tps[n, it])\n",
    "            raise_tp_med = cf_time > tps[n, it]\n",
    "\n",
    "            dtp_med = lower_tp_med+raise_tp_med\n",
    "            \n",
    "            lower_tp_window = -1*(tps[n,it]-window_left < cf_time < tps[n, it])\n",
    "            raise_tp_window = tps[n, it] < cf_time < tps[n,it] + window_right\n",
    "            \n",
    "            dtp_window = lower_tp_window+raise_tp_window\n",
    "            \n",
    "            dtp = dtp_*(median_weight*dtp_med + (1-median_weight)*dtp_window)\n",
    "            tps[n,it+1] = np.minimum(np.maximum(tps[n,it] + dtp, min_tp), max_tp)\n",
    "\n",
    "            integrator = idealized_integrator(t, tps[n, it+1])\n",
    "    return tps"
   ]
  },
  {
   "cell_type": "markdown",
   "id": "7c898858",
   "metadata": {},
   "source": [
    "## i -- unimodal"
   ]
  },
  {
   "cell_type": "code",
   "execution_count": 373,
   "id": "d6afad4e",
   "metadata": {},
   "outputs": [],
   "source": [
    "its=10000"
   ]
  },
  {
   "cell_type": "code",
   "execution_count": 84,
   "id": "76adc02e",
   "metadata": {},
   "outputs": [
    {
     "data": {
      "application/vnd.jupyter.widget-view+json": {
       "model_id": "e70105d6474f42858760db96fe00a1be",
       "version_major": 2,
       "version_minor": 0
      },
      "text/plain": [
       "  0%|          | 0/10 [00:00<?, ?it/s]"
      ]
     },
     "metadata": {},
     "output_type": "display_data"
    },
    {
     "data": {
      "application/vnd.jupyter.widget-view+json": {
       "model_id": "",
       "version_major": 2,
       "version_minor": 0
      },
      "text/plain": [
       "  0%|          | 0/9999 [00:00<?, ?it/s]"
      ]
     },
     "metadata": {},
     "output_type": "display_data"
    },
    {
     "data": {
      "application/vnd.jupyter.widget-view+json": {
       "model_id": "",
       "version_major": 2,
       "version_minor": 0
      },
      "text/plain": [
       "  0%|          | 0/9999 [00:00<?, ?it/s]"
      ]
     },
     "metadata": {},
     "output_type": "display_data"
    },
    {
     "data": {
      "application/vnd.jupyter.widget-view+json": {
       "model_id": "",
       "version_major": 2,
       "version_minor": 0
      },
      "text/plain": [
       "  0%|          | 0/9999 [00:00<?, ?it/s]"
      ]
     },
     "metadata": {},
     "output_type": "display_data"
    },
    {
     "data": {
      "application/vnd.jupyter.widget-view+json": {
       "model_id": "",
       "version_major": 2,
       "version_minor": 0
      },
      "text/plain": [
       "  0%|          | 0/9999 [00:00<?, ?it/s]"
      ]
     },
     "metadata": {},
     "output_type": "display_data"
    },
    {
     "data": {
      "application/vnd.jupyter.widget-view+json": {
       "model_id": "",
       "version_major": 2,
       "version_minor": 0
      },
      "text/plain": [
       "  0%|          | 0/9999 [00:00<?, ?it/s]"
      ]
     },
     "metadata": {},
     "output_type": "display_data"
    },
    {
     "data": {
      "application/vnd.jupyter.widget-view+json": {
       "model_id": "",
       "version_major": 2,
       "version_minor": 0
      },
      "text/plain": [
       "  0%|          | 0/9999 [00:00<?, ?it/s]"
      ]
     },
     "metadata": {},
     "output_type": "display_data"
    },
    {
     "data": {
      "application/vnd.jupyter.widget-view+json": {
       "model_id": "",
       "version_major": 2,
       "version_minor": 0
      },
      "text/plain": [
       "  0%|          | 0/9999 [00:00<?, ?it/s]"
      ]
     },
     "metadata": {},
     "output_type": "display_data"
    },
    {
     "data": {
      "application/vnd.jupyter.widget-view+json": {
       "model_id": "",
       "version_major": 2,
       "version_minor": 0
      },
      "text/plain": [
       "  0%|          | 0/9999 [00:00<?, ?it/s]"
      ]
     },
     "metadata": {},
     "output_type": "display_data"
    },
    {
     "data": {
      "application/vnd.jupyter.widget-view+json": {
       "model_id": "",
       "version_major": 2,
       "version_minor": 0
      },
      "text/plain": [
       "  0%|          | 0/9999 [00:00<?, ?it/s]"
      ]
     },
     "metadata": {},
     "output_type": "display_data"
    },
    {
     "data": {
      "application/vnd.jupyter.widget-view+json": {
       "model_id": "",
       "version_major": 2,
       "version_minor": 0
      },
      "text/plain": [
       "  0%|          | 0/9999 [00:00<?, ?it/s]"
      ]
     },
     "metadata": {},
     "output_type": "display_data"
    }
   ],
   "source": [
    "rng = np.random.default_rng(0)\n",
    "tps_ideal = simulateTimerAdjustmentPeak(get_interval_uni,dtp_=2e-3, its=its)\n",
    "\n",
    "tps_ideal_mu = np.mean(tps_ideal, axis=0)\n",
    "tps_ideal_std = np.std(tps_ideal, axis=0)"
   ]
  },
  {
   "cell_type": "code",
   "execution_count": 86,
   "id": "4c997438",
   "metadata": {},
   "outputs": [
    {
     "data": {
      "image/png": "[encoded data removed]",
      "text/plain": [
       "<Figure size 150x100 with 1 Axes>"
      ]
     },
     "metadata": {},
     "output_type": "display_data"
    }
   ],
   "source": [
    "plt.figure(figsize=(1.5,1))\n",
    "plt.fill_between(np.arange(its),tps_ideal_mu-tps_ideal_std, tps_ideal_mu+tps_ideal_std, color='k', alpha=0.3, linewidth=None )\n",
    "plt.plot([0, its], [0.12,]*2, c='C3', lw=1)\n",
    "plt.xlim([0, its])\n",
    "plt.ylim([0, 0.2])\n",
    "plt.xticks(np.linspace(0,its,2))\n",
    "ax = plt.gca()\n",
    "ax.spines['top'].set_visible(False)\n",
    "ax.spines['right'].set_visible(False)\n",
    "\n",
    "plt.yticks([0, 0.1, 0.2], [0, '', 200]);"
   ]
  },
  {
   "cell_type": "code",
   "execution_count": 88,
   "id": "31fedb0f",
   "metadata": {},
   "outputs": [
    {
     "data": {
      "image/png": "[encoded data removed]",
      "text/plain": [
       "<Figure size 150x100 with 2 Axes>"
      ]
     },
     "metadata": {},
     "output_type": "display_data"
    }
   ],
   "source": [
    "plt.figure(figsize=(1.5,1))\n",
    "\n",
    "plt.fill_between(t, np.zeros(len(t)), uni_distr, color=(0.9,)*3)\n",
    "plt.axis('off')\n",
    "ax = plt.twinx()\n",
    "# ax.plot(t, idealized_integrator(t, t_p_init_avg), c='k')\n",
    "ax.plot(t, idealized_integrator(t, np.mean(tps_ideal_mu[-1000:])), c='k',lw=1)\n",
    "plt.axis('off');\n",
    "plt.savefig('figures/unimodal-peak-ideal.pdf')"
   ]
  },
  {
   "cell_type": "markdown",
   "id": "0b75c3e4",
   "metadata": {},
   "source": [
    "## ii -- bimodal"
   ]
  },
  {
   "cell_type": "code",
   "execution_count": 90,
   "id": "d7546f83",
   "metadata": {},
   "outputs": [
    {
     "data": {
      "application/vnd.jupyter.widget-view+json": {
       "model_id": "85bfb4c7358642148836bfc84a24f447",
       "version_major": 2,
       "version_minor": 0
      },
      "text/plain": [
       "  0%|          | 0/10 [00:00<?, ?it/s]"
      ]
     },
     "metadata": {},
     "output_type": "display_data"
    },
    {
     "data": {
      "application/vnd.jupyter.widget-view+json": {
       "model_id": "",
       "version_major": 2,
       "version_minor": 0
      },
      "text/plain": [
       "  0%|          | 0/9999 [00:00<?, ?it/s]"
      ]
     },
     "metadata": {},
     "output_type": "display_data"
    },
    {
     "data": {
      "application/vnd.jupyter.widget-view+json": {
       "model_id": "",
       "version_major": 2,
       "version_minor": 0
      },
      "text/plain": [
       "  0%|          | 0/9999 [00:00<?, ?it/s]"
      ]
     },
     "metadata": {},
     "output_type": "display_data"
    },
    {
     "data": {
      "application/vnd.jupyter.widget-view+json": {
       "model_id": "",
       "version_major": 2,
       "version_minor": 0
      },
      "text/plain": [
       "  0%|          | 0/9999 [00:00<?, ?it/s]"
      ]
     },
     "metadata": {},
     "output_type": "display_data"
    },
    {
     "data": {
      "application/vnd.jupyter.widget-view+json": {
       "model_id": "",
       "version_major": 2,
       "version_minor": 0
      },
      "text/plain": [
       "  0%|          | 0/9999 [00:00<?, ?it/s]"
      ]
     },
     "metadata": {},
     "output_type": "display_data"
    },
    {
     "data": {
      "application/vnd.jupyter.widget-view+json": {
       "model_id": "",
       "version_major": 2,
       "version_minor": 0
      },
      "text/plain": [
       "  0%|          | 0/9999 [00:00<?, ?it/s]"
      ]
     },
     "metadata": {},
     "output_type": "display_data"
    },
    {
     "data": {
      "application/vnd.jupyter.widget-view+json": {
       "model_id": "",
       "version_major": 2,
       "version_minor": 0
      },
      "text/plain": [
       "  0%|          | 0/9999 [00:00<?, ?it/s]"
      ]
     },
     "metadata": {},
     "output_type": "display_data"
    },
    {
     "data": {
      "application/vnd.jupyter.widget-view+json": {
       "model_id": "",
       "version_major": 2,
       "version_minor": 0
      },
      "text/plain": [
       "  0%|          | 0/9999 [00:00<?, ?it/s]"
      ]
     },
     "metadata": {},
     "output_type": "display_data"
    },
    {
     "data": {
      "application/vnd.jupyter.widget-view+json": {
       "model_id": "",
       "version_major": 2,
       "version_minor": 0
      },
      "text/plain": [
       "  0%|          | 0/9999 [00:00<?, ?it/s]"
      ]
     },
     "metadata": {},
     "output_type": "display_data"
    },
    {
     "data": {
      "application/vnd.jupyter.widget-view+json": {
       "model_id": "",
       "version_major": 2,
       "version_minor": 0
      },
      "text/plain": [
       "  0%|          | 0/9999 [00:00<?, ?it/s]"
      ]
     },
     "metadata": {},
     "output_type": "display_data"
    },
    {
     "data": {
      "application/vnd.jupyter.widget-view+json": {
       "model_id": "",
       "version_major": 2,
       "version_minor": 0
      },
      "text/plain": [
       "  0%|          | 0/9999 [00:00<?, ?it/s]"
      ]
     },
     "metadata": {},
     "output_type": "display_data"
    }
   ],
   "source": [
    "rng = np.random.default_rng(0)\n",
    "tps_ideal = simulateTimerAdjustmentPeak(get_interval_bi, dtp_=2e-3, its=its)\n",
    "\n",
    "tps_ideal_mu = np.mean(tps_ideal, axis=0)\n",
    "tps_ideal_std = np.std(tps_ideal, axis=0)"
   ]
  },
  {
   "cell_type": "code",
   "execution_count": 92,
   "id": "5792be6c",
   "metadata": {},
   "outputs": [
    {
     "data": {
      "image/png": "[encoded data removed]",
      "text/plain": [
       "<Figure size 150x100 with 1 Axes>"
      ]
     },
     "metadata": {},
     "output_type": "display_data"
    }
   ],
   "source": [
    "plt.figure(figsize=(1.5,1))\n",
    "plt.fill_between(np.arange(its),tps_ideal_mu-tps_ideal_std, tps_ideal_mu+tps_ideal_std, color='k', alpha=0.3, linewidth=None )\n",
    "plt.plot([0, its], [0.05,]*2, c='C3', lw=1)\n",
    "plt.xlim([0, its])\n",
    "plt.ylim([0, 0.2])\n",
    "plt.xticks(np.linspace(0,its,2))\n",
    "ax = plt.gca()\n",
    "ax.spines['top'].set_visible(False)\n",
    "ax.spines['right'].set_visible(False)\n",
    "\n",
    "plt.yticks([0, 0.1, 0.2], [0, '', 200]);"
   ]
  },
  {
   "cell_type": "code",
   "execution_count": 93,
   "id": "a7117aa3",
   "metadata": {},
   "outputs": [
    {
     "data": {
      "image/png": "[encoded data removed]",
      "text/plain": [
       "<Figure size 150x100 with 2 Axes>"
      ]
     },
     "metadata": {},
     "output_type": "display_data"
    }
   ],
   "source": [
    "plt.figure(figsize=(1.5,1))\n",
    "plt.fill_between(t, np.zeros(len(t)), bimodal_distr, color=(0.9,)*3)\n",
    "plt.axis('off')\n",
    "ax = plt.twinx()\n",
    "# ax.plot(t, idealized_integrator(t, t_p_init_avg), c='k')\n",
    "ax.plot(t, idealized_integrator(t, np.mean(tps_ideal_mu[-1000:])), c='k',lw=1)\n",
    "plt.axis('off');\n",
    "plt.savefig('figures/bimodal-peak-ideal.pdf')"
   ]
  },
  {
   "cell_type": "markdown",
   "id": "2ff74cdd",
   "metadata": {},
   "source": [
    "## iii -- peaked"
   ]
  },
  {
   "cell_type": "code",
   "execution_count": 101,
   "id": "bee7a8f5",
   "metadata": {},
   "outputs": [],
   "source": [
    "its = 12000"
   ]
  },
  {
   "cell_type": "code",
   "execution_count": 102,
   "id": "fac28c8c",
   "metadata": {},
   "outputs": [
    {
     "data": {
      "application/vnd.jupyter.widget-view+json": {
       "model_id": "",
       "version_major": 2,
       "version_minor": 0
      },
      "text/plain": [
       "  0%|          | 0/10 [00:00<?, ?it/s]"
      ]
     },
     "metadata": {},
     "output_type": "display_data"
    },
    {
     "data": {
      "application/vnd.jupyter.widget-view+json": {
       "model_id": "",
       "version_major": 2,
       "version_minor": 0
      },
      "text/plain": [
       "  0%|          | 0/11999 [00:00<?, ?it/s]"
      ]
     },
     "metadata": {},
     "output_type": "display_data"
    },
    {
     "data": {
      "application/vnd.jupyter.widget-view+json": {
       "model_id": "",
       "version_major": 2,
       "version_minor": 0
      },
      "text/plain": [
       "  0%|          | 0/11999 [00:00<?, ?it/s]"
      ]
     },
     "metadata": {},
     "output_type": "display_data"
    },
    {
     "data": {
      "application/vnd.jupyter.widget-view+json": {
       "model_id": "",
       "version_major": 2,
       "version_minor": 0
      },
      "text/plain": [
       "  0%|          | 0/11999 [00:00<?, ?it/s]"
      ]
     },
     "metadata": {},
     "output_type": "display_data"
    },
    {
     "data": {
      "application/vnd.jupyter.widget-view+json": {
       "model_id": "",
       "version_major": 2,
       "version_minor": 0
      },
      "text/plain": [
       "  0%|          | 0/11999 [00:00<?, ?it/s]"
      ]
     },
     "metadata": {},
     "output_type": "display_data"
    },
    {
     "data": {
      "application/vnd.jupyter.widget-view+json": {
       "model_id": "",
       "version_major": 2,
       "version_minor": 0
      },
      "text/plain": [
       "  0%|          | 0/11999 [00:00<?, ?it/s]"
      ]
     },
     "metadata": {},
     "output_type": "display_data"
    },
    {
     "data": {
      "application/vnd.jupyter.widget-view+json": {
       "model_id": "",
       "version_major": 2,
       "version_minor": 0
      },
      "text/plain": [
       "  0%|          | 0/11999 [00:00<?, ?it/s]"
      ]
     },
     "metadata": {},
     "output_type": "display_data"
    },
    {
     "data": {
      "application/vnd.jupyter.widget-view+json": {
       "model_id": "",
       "version_major": 2,
       "version_minor": 0
      },
      "text/plain": [
       "  0%|          | 0/11999 [00:00<?, ?it/s]"
      ]
     },
     "metadata": {},
     "output_type": "display_data"
    },
    {
     "data": {
      "application/vnd.jupyter.widget-view+json": {
       "model_id": "",
       "version_major": 2,
       "version_minor": 0
      },
      "text/plain": [
       "  0%|          | 0/11999 [00:00<?, ?it/s]"
      ]
     },
     "metadata": {},
     "output_type": "display_data"
    },
    {
     "data": {
      "application/vnd.jupyter.widget-view+json": {
       "model_id": "",
       "version_major": 2,
       "version_minor": 0
      },
      "text/plain": [
       "  0%|          | 0/11999 [00:00<?, ?it/s]"
      ]
     },
     "metadata": {},
     "output_type": "display_data"
    },
    {
     "data": {
      "application/vnd.jupyter.widget-view+json": {
       "model_id": "",
       "version_major": 2,
       "version_minor": 0
      },
      "text/plain": [
       "  0%|          | 0/11999 [00:00<?, ?it/s]"
      ]
     },
     "metadata": {},
     "output_type": "display_data"
    }
   ],
   "source": [
    "rng = np.random.default_rng(0)\n",
    "tps_ideal = simulateTimerAdjustmentPeak(get_interval_peaked, dtp_=2e-3, its=its)\n",
    "\n",
    "tps_ideal_mu = np.mean(tps_ideal, axis=0)\n",
    "tps_ideal_std = np.std(tps_ideal, axis=0)"
   ]
  },
  {
   "cell_type": "code",
   "execution_count": 103,
   "id": "5bf0f052",
   "metadata": {},
   "outputs": [
    {
     "data": {
      "image/png": "[encoded data removed]",
      "text/plain": [
       "<Figure size 150x100 with 1 Axes>"
      ]
     },
     "metadata": {},
     "output_type": "display_data"
    }
   ],
   "source": [
    "plt.figure(figsize=(1.5,1))\n",
    "plt.fill_between(np.arange(its),tps_ideal_mu-tps_ideal_std, tps_ideal_mu+tps_ideal_std, color='k', alpha=0.3, linewidth=None )\n",
    "plt.plot([0, its], [0.12,]*2, c='C3', lw=1)\n",
    "plt.xlim([0, its])\n",
    "plt.ylim([0, 0.2])\n",
    "plt.xticks(np.linspace(0,its,2))\n",
    "ax = plt.gca()\n",
    "ax.spines['top'].set_visible(False)\n",
    "ax.spines['right'].set_visible(False)\n",
    "\n",
    "plt.yticks([0, 0.1, 0.2], [0, '', 200]);"
   ]
  },
  {
   "cell_type": "code",
   "execution_count": 104,
   "id": "2b2a28f6",
   "metadata": {},
   "outputs": [
    {
     "data": {
      "image/png": "[encoded data removed]",
      "text/plain": [
       "<Figure size 150x100 with 2 Axes>"
      ]
     },
     "metadata": {},
     "output_type": "display_data"
    }
   ],
   "source": [
    "plt.figure(figsize=(1.5,1))\n",
    "plt.fill_between(t, np.zeros(len(t)), peaked_distr, color=(0.9,)*3)\n",
    "plt.axis('off')\n",
    "ax = plt.twinx()\n",
    "# ax.plot(t, idealized_integrator(t, t_p_init_avg), c='k')\n",
    "ax.plot(t, idealized_integrator(t, np.mean(tps_ideal_mu[-1000:])), c='k',lw=1)\n",
    "plt.axis('off');\n",
    "plt.savefig('figures/peaked-peak-ideal.pdf')"
   ]
  },
  {
   "cell_type": "markdown",
   "id": "af6b4515",
   "metadata": {},
   "source": [
    "## iv -- empirical"
   ]
  },
  {
   "cell_type": "code",
   "execution_count": 401,
   "id": "e45ef132",
   "metadata": {},
   "outputs": [],
   "source": [
    "its = 40000"
   ]
  },
  {
   "cell_type": "code",
   "execution_count": 402,
   "id": "0ebafd8c",
   "metadata": {},
   "outputs": [
    {
     "data": {
      "application/vnd.jupyter.widget-view+json": {
       "model_id": "08f0fa37399f4c89b4d96875f2df8d62",
       "version_major": 2,
       "version_minor": 0
      },
      "text/plain": [
       "  0%|          | 0/10 [00:00<?, ?it/s]"
      ]
     },
     "metadata": {},
     "output_type": "display_data"
    },
    {
     "data": {
      "application/vnd.jupyter.widget-view+json": {
       "model_id": "",
       "version_major": 2,
       "version_minor": 0
      },
      "text/plain": [
       "  0%|          | 0/39999 [00:00<?, ?it/s]"
      ]
     },
     "metadata": {},
     "output_type": "display_data"
    },
    {
     "data": {
      "application/vnd.jupyter.widget-view+json": {
       "model_id": "",
       "version_major": 2,
       "version_minor": 0
      },
      "text/plain": [
       "  0%|          | 0/39999 [00:00<?, ?it/s]"
      ]
     },
     "metadata": {},
     "output_type": "display_data"
    },
    {
     "data": {
      "application/vnd.jupyter.widget-view+json": {
       "model_id": "",
       "version_major": 2,
       "version_minor": 0
      },
      "text/plain": [
       "  0%|          | 0/39999 [00:00<?, ?it/s]"
      ]
     },
     "metadata": {},
     "output_type": "display_data"
    },
    {
     "data": {
      "application/vnd.jupyter.widget-view+json": {
       "model_id": "",
       "version_major": 2,
       "version_minor": 0
      },
      "text/plain": [
       "  0%|          | 0/39999 [00:00<?, ?it/s]"
      ]
     },
     "metadata": {},
     "output_type": "display_data"
    },
    {
     "data": {
      "application/vnd.jupyter.widget-view+json": {
       "model_id": "",
       "version_major": 2,
       "version_minor": 0
      },
      "text/plain": [
       "  0%|          | 0/39999 [00:00<?, ?it/s]"
      ]
     },
     "metadata": {},
     "output_type": "display_data"
    },
    {
     "data": {
      "application/vnd.jupyter.widget-view+json": {
       "model_id": "",
       "version_major": 2,
       "version_minor": 0
      },
      "text/plain": [
       "  0%|          | 0/39999 [00:00<?, ?it/s]"
      ]
     },
     "metadata": {},
     "output_type": "display_data"
    },
    {
     "data": {
      "application/vnd.jupyter.widget-view+json": {
       "model_id": "",
       "version_major": 2,
       "version_minor": 0
      },
      "text/plain": [
       "  0%|          | 0/39999 [00:00<?, ?it/s]"
      ]
     },
     "metadata": {},
     "output_type": "display_data"
    },
    {
     "data": {
      "application/vnd.jupyter.widget-view+json": {
       "model_id": "",
       "version_major": 2,
       "version_minor": 0
      },
      "text/plain": [
       "  0%|          | 0/39999 [00:00<?, ?it/s]"
      ]
     },
     "metadata": {},
     "output_type": "display_data"
    },
    {
     "data": {
      "application/vnd.jupyter.widget-view+json": {
       "model_id": "",
       "version_major": 2,
       "version_minor": 0
      },
      "text/plain": [
       "  0%|          | 0/39999 [00:00<?, ?it/s]"
      ]
     },
     "metadata": {},
     "output_type": "display_data"
    },
    {
     "data": {
      "application/vnd.jupyter.widget-view+json": {
       "model_id": "",
       "version_major": 2,
       "version_minor": 0
      },
      "text/plain": [
       "  0%|          | 0/39999 [00:00<?, ?it/s]"
      ]
     },
     "metadata": {},
     "output_type": "display_data"
    }
   ],
   "source": [
    "rng = np.random.default_rng(0)\n",
    "tps_ideal = simulateTimerAdjustmentPeak(get_interval_empirical, dtp_=1e-3, its=its)\n",
    "\n",
    "tps_ideal_mu = np.mean(tps_ideal, axis=0)\n",
    "tps_ideal_std = np.std(tps_ideal, axis=0)"
   ]
  },
  {
   "cell_type": "code",
   "execution_count": 397,
   "id": "cc89cc07",
   "metadata": {},
   "outputs": [],
   "source": [
    "empirical_pdf = t[1]*(empirical_dense[1:]-empirical_dense[:-1])"
   ]
  },
  {
   "cell_type": "code",
   "execution_count": 408,
   "id": "add0b908",
   "metadata": {},
   "outputs": [
    {
     "data": {
      "image/png": "[encoded data removed]",
      "text/plain": [
       "<Figure size 150x100 with 1 Axes>"
      ]
     },
     "metadata": {},
     "output_type": "display_data"
    }
   ],
   "source": [
    "plt.figure(figsize=(1.5,1))\n",
    "plt.fill_between(np.arange(its),tps_ideal_mu-tps_ideal_std, tps_ideal_mu+tps_ideal_std, color='k', alpha=0.3, linewidth=None )\n",
    "plt.plot(np.arange(its),tps_ideal_mu, color='k', lw=0.5 )\n",
    "plt.plot([0, its], [t[np.argmax(empirical_pdf)],]*2, c='C3', lw=1)\n",
    "plt.xlim([0, its])\n",
    "plt.ylim([0, 0.2])\n",
    "plt.xticks(np.linspace(0,its,2))\n",
    "ax = plt.gca()\n",
    "ax.spines['top'].set_visible(False)\n",
    "ax.spines['right'].set_visible(False)\n",
    "\n",
    "plt.yticks([0, 0.1, 0.2], [0, '', 200]);"
   ]
  },
  {
   "cell_type": "code",
   "execution_count": 405,
   "id": "d3cf1f23",
   "metadata": {},
   "outputs": [
    {
     "data": {
      "image/png": "[encoded data removed]",
      "text/plain": [
       "<Figure size 150x100 with 2 Axes>"
      ]
     },
     "metadata": {},
     "output_type": "display_data"
    }
   ],
   "source": [
    "plt.figure(figsize=(1.5,1))\n",
    "plt.fill_between(t[:-1], np.zeros(len(t)-1), empirical_pdf, color=(0.9,)*3)\n",
    "plt.axis('off')\n",
    "ax = plt.twinx()\n",
    "# ax.plot(t, idealized_integrator(t, t_p_init_avg), c='k')\n",
    "ax.plot(t, idealized_integrator(t, np.mean(tps_ideal_mu[-1000:])), c='k',lw=1)\n",
    "plt.axis('off');\n",
    "plt.savefig('figures/empirical-peak-ideal.pdf')"
   ]
  },
  {
   "cell_type": "markdown",
   "id": "332954a4",
   "metadata": {},
   "source": [
    "# Timer selection (mode)"
   ]
  },
  {
   "cell_type": "code",
   "execution_count": null,
   "id": "5ba07cec",
   "metadata": {},
   "outputs": [],
   "source": [
    "hill = lambda x, k_d, n: np.power(x,n)/(k_d**n + np.power(x,n))"
   ]
  },
  {
   "cell_type": "code",
   "execution_count": 409,
   "id": "b834d0f7",
   "metadata": {},
   "outputs": [],
   "source": [
    "num_ideal_timers = 50 # 16\n",
    "timer_std = 2.5e-3\n",
    "timers = np.zeros((num_ideal_timers, len(t)))\n",
    "centers = np.linspace(0, 0.2, num_ideal_timers)\n",
    "for i in range(num_ideal_timers):\n",
    "#     timers[i,:] = hill(np.exp(-(t - centers[i])**2/(2*timer_std**2)),0.5,10)\n",
    "#     timers[i,:] /= np.max(timers[i,:])\n",
    "    timers[i,:] = np.exp(-(t - centers[i])**2/(2*timer_std**2))"
   ]
  },
  {
   "cell_type": "code",
   "execution_count": 410,
   "id": "3645fde3",
   "metadata": {},
   "outputs": [
    {
     "data": {
      "text/plain": [
       "array([0.        , 0.00408163, 0.00816327, 0.0122449 , 0.01632653,\n",
       "       0.02040816, 0.0244898 , 0.02857143, 0.03265306, 0.03673469,\n",
       "       0.04081633, 0.04489796, 0.04897959, 0.05306122, 0.05714286,\n",
       "       0.06122449, 0.06530612, 0.06938776, 0.07346939, 0.07755102,\n",
       "       0.08163265, 0.08571429, 0.08979592, 0.09387755, 0.09795918,\n",
       "       0.10204082, 0.10612245, 0.11020408, 0.11428571, 0.11836735,\n",
       "       0.12244898, 0.12653061, 0.13061224, 0.13469388, 0.13877551,\n",
       "       0.14285714, 0.14693878, 0.15102041, 0.15510204, 0.15918367,\n",
       "       0.16326531, 0.16734694, 0.17142857, 0.1755102 , 0.17959184,\n",
       "       0.18367347, 0.1877551 , 0.19183673, 0.19591837, 0.2       ])"
      ]
     },
     "execution_count": 410,
     "metadata": {},
     "output_type": "execute_result"
    }
   ],
   "source": [
    "centers"
   ]
  },
  {
   "cell_type": "code",
   "execution_count": 261,
   "id": "2ef6c6a8",
   "metadata": {},
   "outputs": [
    {
     "data": {
      "text/plain": [
       "(-0.009995000000000002, 0.20989500000000003, -1.079, 1.099)"
      ]
     },
     "execution_count": 261,
     "metadata": {},
     "output_type": "execute_result"
    },
    {
     "data": {
      "image/png": "[encoded data removed]",
      "text/plain": [
       "<Figure size 640x480 with 1 Axes>"
      ]
     },
     "metadata": {},
     "output_type": "display_data"
    }
   ],
   "source": [
    "min_shade = 0.1\n",
    "max_shade = 0.7\n",
    "slope = (max_shade - min_shade)/num_ideal_timers\n",
    "for i in range(num_ideal_timers):\n",
    "    plt.plot(t, timers[i,:]-0.02*i, c=(max_shade - slope*i,)*3, lw=1);\n",
    "    # plt.plot(t, timers[i,:], c=(max_shade - slope*i,)*3, lw=1);\n",
    "plt.axis('off')\n",
    "# plt.savefig(os.getcwd()+'/figure plots/timer_bank.pdf')"
   ]
  },
  {
   "cell_type": "code",
   "execution_count": 262,
   "id": "82dbf14b",
   "metadata": {},
   "outputs": [
    {
     "data": {
      "text/plain": [
       "[<matplotlib.lines.Line2D at 0x7fd4d4d3db10>]"
      ]
     },
     "execution_count": 262,
     "metadata": {},
     "output_type": "execute_result"
    },
    {
     "data": {
      "image/png": "[encoded data removed]",
      "text/plain": [
       "<Figure size 640x480 with 1 Axes>"
      ]
     },
     "metadata": {},
     "output_type": "display_data"
    }
   ],
   "source": [
    "plt.plot(t, 1/num_ideal_timers*np.sum(timers, axis=0))"
   ]
  },
  {
   "cell_type": "code",
   "execution_count": 413,
   "id": "3c401ca0",
   "metadata": {},
   "outputs": [],
   "source": [
    "def selectionFixed(v_initial, get_interval, its=5000000, dv = 1e-4, report_its = 10000):\n",
    "    \"\"\"Simulate ATTRAP with fixed update method of timer selection mechanism.\n",
    "    \n",
    "    Arguments:\n",
    "    v_initial -- initial vector of eligibility coupling weights\n",
    "    distr -- distribution of PF/CF intervals\n",
    "    its -- total number of PF/CF presentations (iterations) to simulate\n",
    "    dv -- \"Delta\", the amount by which to decrease coupling weights for inactive timers\n",
    "    report_its -- Frequency (in iterations) of reporting output weight vector\n",
    "    \n",
    "    Returns:\n",
    "    v -- final weight vector\n",
    "    v_all -- weight vector reported at intervals specified by report_its\n",
    "    \"\"\"\n",
    "    \n",
    "    # cdf = np.cumsum(distr/np.sum(distr))\n",
    "\n",
    "    # Use CDF to draw intervals randomly from distribution given uniform random variables (see Methods)\n",
    "    # get_interval = lambda r: np.interp(r, cdf, t)\n",
    "    # get_interval_NN = lambda r: np.array(np.round(get_interval(r)*10000)/10000/dt, dtype=int)\n",
    "    \n",
    "    # Used for reporting weight values periodically\n",
    "    report_counter = 0\n",
    "    report_index = 0\n",
    "\n",
    "    num_states = timers.shape[0]\n",
    "    active_v_threshold = dv/num_states\n",
    "\n",
    "    # num_updates = np.zeros(num_states)\n",
    "\n",
    "    v_all = np.zeros((num_states, int(its/report_its)))\n",
    "    v = np.copy(v_initial)\n",
    "\n",
    "    for it in tqdm.notebook.trange(its, leave=False):\n",
    "        # Calculate values of most active basis function\n",
    "        # given random draw of PF/CF interval\n",
    "        spike_ind = np.digitize(get_interval(rng.random()), t)-1\n",
    "        timer_vals = timers[:,spike_ind]\n",
    "\n",
    "        # Get index of most active timer\n",
    "        active_timer = np.argmax(timer_vals)\n",
    "\n",
    "        # Shouldn't end up with negative weights\n",
    "        timers_to_update = (v>0)\n",
    "        timers_to_update[active_timer] = False\n",
    "        num_active_timers = np.sum(timers_to_update)\n",
    "\n",
    "        if num_active_timers > 0:\n",
    "            dv_minus = np.zeros(num_states)\n",
    "            # Decrease coupling weights of all timers except the most active (ind_to_increase)\n",
    "            dv_minus[timers_to_update] = np.minimum(v[timers_to_update], dv)\n",
    "            dv_minus[active_timer] = 0\n",
    "\n",
    "            # Add weight changes\n",
    "            v -= dv_minus\n",
    "            \n",
    "            v[active_timer] += np.sum(dv_minus)\n",
    "\n",
    "        report_counter += 1\n",
    "        # Save current weight vector periodically\n",
    "        if report_counter == report_its:\n",
    "            v_all[:, report_index] = np.copy(v)\n",
    "            report_counter = 0\n",
    "            report_index += 1\n",
    "    return v, v_all"
   ]
  },
  {
   "cell_type": "markdown",
   "id": "aac8c756",
   "metadata": {},
   "source": [
    "## i -- unimodal"
   ]
  },
  {
   "cell_type": "code",
   "execution_count": 250,
   "id": "bda504d2",
   "metadata": {},
   "outputs": [
    {
     "data": {
      "application/vnd.jupyter.widget-view+json": {
       "model_id": "",
       "version_major": 2,
       "version_minor": 0
      },
      "text/plain": [
       "  0%|          | 0/2000000 [00:00<?, ?it/s]"
      ]
     },
     "metadata": {},
     "output_type": "display_data"
    }
   ],
   "source": [
    "v_initial = np.zeros(num_ideal_timers)\n",
    "v_initial[0] = 1\n",
    "\n",
    "v_fixed_ideal, v_fixed_ideal_all = selectionFixed(v_initial, get_interval_uni, its=2000000, report_its=10000, dv=1e-5)"
   ]
  },
  {
   "cell_type": "code",
   "execution_count": 251,
   "id": "4b3d549f",
   "metadata": {},
   "outputs": [
    {
     "data": {
      "text/plain": [
       "[<matplotlib.lines.Line2D at 0x7fd4dac32230>]"
      ]
     },
     "execution_count": 251,
     "metadata": {},
     "output_type": "execute_result"
    },
    {
     "data": {
      "image/png": "[encoded data removed]",
      "text/plain": [
       "<Figure size 640x480 with 1 Axes>"
      ]
     },
     "metadata": {},
     "output_type": "display_data"
    }
   ],
   "source": [
    "plt.plot(v_fixed_ideal_all[np.argmax(v_fixed_ideal),:])"
   ]
  },
  {
   "cell_type": "code",
   "execution_count": 252,
   "id": "7caa9fad",
   "metadata": {},
   "outputs": [
    {
     "data": {
      "image/png": "[encoded data removed]",
      "text/plain": [
       "<Figure size 150x100 with 2 Axes>"
      ]
     },
     "metadata": {},
     "output_type": "display_data"
    }
   ],
   "source": [
    "plt.figure(figsize=(1.5,1))\n",
    "plt.fill_between(t, np.zeros(len(t)), uni_distr, color=(0.9,)*3)\n",
    "plt.axis('off')\n",
    "ax = plt.twinx()\n",
    "# ax.plot(t, idealized_integrator(t, t_p_init_avg), c='k')\n",
    "ax.plot(t, v_fixed_ideal@timers, c='k',lw=1)\n",
    "plt.axis('off');\n",
    "plt.savefig('figures/unimodal-mode-ideal.pdf')"
   ]
  },
  {
   "cell_type": "markdown",
   "id": "fcededdf",
   "metadata": {},
   "source": [
    "## ii -- bimodal"
   ]
  },
  {
   "cell_type": "code",
   "execution_count": 253,
   "id": "b67888c9",
   "metadata": {},
   "outputs": [
    {
     "data": {
      "application/vnd.jupyter.widget-view+json": {
       "model_id": "",
       "version_major": 2,
       "version_minor": 0
      },
      "text/plain": [
       "  0%|          | 0/2000000 [00:00<?, ?it/s]"
      ]
     },
     "metadata": {},
     "output_type": "display_data"
    }
   ],
   "source": [
    "v_initial = np.zeros(num_ideal_timers)\n",
    "v_initial[0] = 1\n",
    "\n",
    "v_fixed_ideal, v_fixed_ideal_all = selectionFixed(v_initial, get_interval_bi, its=2000000, report_its=10000, dv=1e-5)"
   ]
  },
  {
   "cell_type": "code",
   "execution_count": 254,
   "id": "97595102",
   "metadata": {},
   "outputs": [
    {
     "data": {
      "text/plain": [
       "[<matplotlib.lines.Line2D at 0x7fd4d9582ef0>]"
      ]
     },
     "execution_count": 254,
     "metadata": {},
     "output_type": "execute_result"
    },
    {
     "data": {
      "image/png": "[encoded data removed]",
      "text/plain": [
       "<Figure size 640x480 with 1 Axes>"
      ]
     },
     "metadata": {},
     "output_type": "display_data"
    }
   ],
   "source": [
    "plt.plot(v_fixed_ideal_all[np.argmax(v_fixed_ideal),:])"
   ]
  },
  {
   "cell_type": "code",
   "execution_count": 256,
   "id": "027ba336",
   "metadata": {},
   "outputs": [
    {
     "data": {
      "image/png": "[encoded data removed]",
      "text/plain": [
       "<Figure size 150x100 with 2 Axes>"
      ]
     },
     "metadata": {},
     "output_type": "display_data"
    }
   ],
   "source": [
    "plt.figure(figsize=(1.5,1))\n",
    "plt.fill_between(t, np.zeros(len(t)), bimodal_distr, color=(0.9,)*3)\n",
    "plt.axis('off')\n",
    "ax = plt.twinx()\n",
    "# ax.plot(t, idealized_integrator(t, t_p_init_avg), c='k')\n",
    "plt.plot([0.15,]*2, [0,1.1], c='C3', lw=1)\n",
    "ax.plot(t, v_fixed_ideal@timers, c='k',lw=1)\n",
    "plt.axis('off');\n",
    "plt.savefig('figures/bimodal-mode-ideal.pdf')"
   ]
  },
  {
   "cell_type": "markdown",
   "id": "b93ee3b4",
   "metadata": {},
   "source": [
    "## iii -- peaked"
   ]
  },
  {
   "cell_type": "code",
   "execution_count": 257,
   "id": "401a5c93",
   "metadata": {},
   "outputs": [
    {
     "data": {
      "application/vnd.jupyter.widget-view+json": {
       "model_id": "",
       "version_major": 2,
       "version_minor": 0
      },
      "text/plain": [
       "  0%|          | 0/2000000 [00:00<?, ?it/s]"
      ]
     },
     "metadata": {},
     "output_type": "display_data"
    }
   ],
   "source": [
    "v_initial = np.zeros(num_ideal_timers)\n",
    "v_initial[0] = 1\n",
    "\n",
    "v_fixed_ideal, v_fixed_ideal_all = selectionFixed(v_initial, get_interval_peaked, its=2000000, report_its=10000, dv=1e-5)"
   ]
  },
  {
   "cell_type": "code",
   "execution_count": 258,
   "id": "c18ea7e4",
   "metadata": {},
   "outputs": [
    {
     "data": {
      "text/plain": [
       "[<matplotlib.lines.Line2D at 0x7fd4d681b580>]"
      ]
     },
     "execution_count": 258,
     "metadata": {},
     "output_type": "execute_result"
    },
    {
     "data": {
      "image/png": "[encoded data removed]",
      "text/plain": [
       "<Figure size 640x480 with 1 Axes>"
      ]
     },
     "metadata": {},
     "output_type": "display_data"
    }
   ],
   "source": [
    "plt.plot(v_fixed_ideal_all[np.argmax(v_fixed_ideal),:])"
   ]
  },
  {
   "cell_type": "code",
   "execution_count": 259,
   "id": "62179759",
   "metadata": {},
   "outputs": [
    {
     "data": {
      "image/png": "[encoded data removed]",
      "text/plain": [
       "<Figure size 150x100 with 2 Axes>"
      ]
     },
     "metadata": {},
     "output_type": "display_data"
    }
   ],
   "source": [
    "plt.figure(figsize=(1.5,1))\n",
    "plt.fill_between(t, np.zeros(len(t)), peaked_distr, color=(0.9,)*3)\n",
    "plt.axis('off')\n",
    "ax = plt.twinx()\n",
    "# ax.plot(t, idealized_integrator(t, t_p_init_avg), c='k')\n",
    "# plt.plot([0.15,]*2, [0,1.1], c='C3', lw=1)\n",
    "ax.plot(t, v_fixed_ideal@timers, c='k',lw=1)\n",
    "plt.axis('off');\n",
    "plt.savefig('figures/peaked-mode-ideal.pdf')"
   ]
  },
  {
   "cell_type": "markdown",
   "id": "b5d6d915",
   "metadata": {},
   "source": [
    "# iv -- empirical"
   ]
  },
  {
   "cell_type": "code",
   "execution_count": 414,
   "id": "6840cdb4",
   "metadata": {},
   "outputs": [
    {
     "data": {
      "application/vnd.jupyter.widget-view+json": {
       "model_id": "",
       "version_major": 2,
       "version_minor": 0
      },
      "text/plain": [
       "  0%|          | 0/2000000 [00:00<?, ?it/s]"
      ]
     },
     "metadata": {},
     "output_type": "display_data"
    }
   ],
   "source": [
    "v_initial = np.zeros(num_ideal_timers)\n",
    "v_initial[0] = 1\n",
    "\n",
    "v_fixed_ideal, v_fixed_ideal_all = selectionFixed(v_initial, get_interval_empirical, its=2000000, report_its=10000, dv=1e-5)"
   ]
  },
  {
   "cell_type": "code",
   "execution_count": 415,
   "id": "b17389df",
   "metadata": {},
   "outputs": [
    {
     "data": {
      "text/plain": [
       "[<matplotlib.lines.Line2D at 0x7fd4f27e5600>]"
      ]
     },
     "execution_count": 415,
     "metadata": {},
     "output_type": "execute_result"
    },
    {
     "data": {
      "image/png": "[encoded data removed]",
      "text/plain": [
       "<Figure size 640x480 with 1 Axes>"
      ]
     },
     "metadata": {},
     "output_type": "display_data"
    }
   ],
   "source": [
    "plt.plot(v_fixed_ideal_all[np.argmax(v_fixed_ideal),:])"
   ]
  },
  {
   "cell_type": "code",
   "execution_count": 416,
   "id": "6fa0218d",
   "metadata": {},
   "outputs": [
    {
     "data": {
      "image/png": "[encoded data removed]",
      "text/plain": [
       "<Figure size 150x100 with 2 Axes>"
      ]
     },
     "metadata": {},
     "output_type": "display_data"
    }
   ],
   "source": [
    "plt.figure(figsize=(1.5,1))\n",
    "plt.fill_between(t[:-1], np.zeros(len(t)-1), empirical_pdf, color=(0.9,)*3)\n",
    "# plt.fill_between(t, np.zeros(len(t)), peaked_distr, color=(0.9,)*3)\n",
    "plt.axis('off')\n",
    "ax = plt.twinx()\n",
    "# ax.plot(t, idealized_integrator(t, t_p_init_avg), c='k')\n",
    "# plt.plot([0.15,]*2, [0,1.1], c='C3', lw=1)\n",
    "ax.plot(t, v_fixed_ideal@timers, c='k',lw=1)\n",
    "plt.axis('off');\n",
    "plt.savefig('figures/empirical-mode-ideal.pdf')"
   ]
  },
  {
   "cell_type": "markdown",
   "id": "9dc2f3dd",
   "metadata": {},
   "source": [
    "### Diagrams"
   ]
  },
  {
   "cell_type": "code",
   "execution_count": 328,
   "id": "9660e15a",
   "metadata": {},
   "outputs": [],
   "source": [
    "num_ideal_timers = 9 # 16\n",
    "# timer_std = 2.5e-3\n",
    "timers = np.zeros((num_ideal_timers, len(t)))\n",
    "edges = np.linspace(0, 0.2, num_ideal_timers+1)\n",
    "for i in range(num_ideal_timers):\n",
    "#     timers[i,:] = hill(np.exp(-(t - centers[i])**2/(2*timer_std**2)),0.5,10)\n",
    "#     timers[i,:] /= np.max(timers[i,:])\n",
    "    timers[i,int(edges[i]/dt):int(edges[i+1]/dt)] = 1"
   ]
  },
  {
   "cell_type": "code",
   "execution_count": 329,
   "id": "b593f7af",
   "metadata": {},
   "outputs": [],
   "source": [
    "centers = edges[:-1] + (edges[1:]-edges[:-1])/2"
   ]
  },
  {
   "cell_type": "code",
   "execution_count": 330,
   "id": "b9f421b9",
   "metadata": {},
   "outputs": [],
   "source": [
    "v_0 = np.zeros(num_ideal_timers)\n",
    "mid_timer = 5\n",
    "v_0[mid_timer] = 0.75\n",
    "v_0[-2] = 0.25"
   ]
  },
  {
   "cell_type": "code",
   "execution_count": 331,
   "id": "08a9282d",
   "metadata": {},
   "outputs": [],
   "source": [
    "dv_window_mid = -v_0[mid_timer]*np.ones(num_ideal_timers)\n",
    "dv_window_mid[mid_timer] = 1 - v_0[mid_timer]\n",
    "\n",
    "dv_window_end = -v_0[-2]*np.ones(num_ideal_timers)\n",
    "dv_window_end[-2] = 1 - v_0[-1]"
   ]
  },
  {
   "cell_type": "code",
   "execution_count": 344,
   "id": "a3cdfa1a",
   "metadata": {},
   "outputs": [
    {
     "data": {
      "image/png": "[encoded data removed]",
      "text/plain": [
       "<Figure size 640x480 with 1 Axes>"
      ]
     },
     "metadata": {},
     "output_type": "display_data"
    }
   ],
   "source": [
    "# plt.plot(np.concatenate(([0],t,[t[-1]])), np.concatenate(([0],dv_window_mid@timers,[0])))\n",
    "# plt.plot(np.concatenate(([0],t,[t[-1]])), np.concatenate(([0],dv_window_end@timers,[0])))\n",
    "plt.plot(np.concatenate(([0],t)), np.concatenate(([0],dv_window_mid@timers)))\n",
    "plt.plot(np.concatenate(([0],t)), np.concatenate(([0],dv_window_end@timers)))\n",
    "plt.axis('off')\n",
    "plt.savefig('figures/proportional-diagram.pdf')"
   ]
  },
  {
   "cell_type": "code",
   "execution_count": 341,
   "id": "c8f565e6",
   "metadata": {},
   "outputs": [
    {
     "data": {
      "image/png": "[encoded data removed]",
      "text/plain": [
       "<Figure size 640x480 with 1 Axes>"
      ]
     },
     "metadata": {},
     "output_type": "display_data"
    }
   ],
   "source": [
    "plt.plot(t, np.exp(-((t-centers[mid_timer])/0.01)**2))\n",
    "plt.plot(t, np.exp(-((t-centers[-2])/0.01)**2))\n",
    "plt.axis('off')\n",
    "plt.savefig('figures/proportional-eligibility-diagram.pdf')\n",
    "# plt.plot(np.concatenate(([0],t)), np.concatenate(([0],dv_window_mid@timers)))\n",
    "# plt.plot(t, np.exp(-((t-centers[-1])/0.025)**2))"
   ]
  },
  {
   "cell_type": "markdown",
   "id": "c8663a52",
   "metadata": {},
   "source": [
    "# Timer selection (shape)"
   ]
  },
  {
   "cell_type": "code",
   "execution_count": 417,
   "id": "fe4f66a7",
   "metadata": {},
   "outputs": [],
   "source": [
    "def selectionProportional(v_initial, get_interval, its=5000000, dv = 1e-4, report_its = 10000):\n",
    "    \"\"\"Simulate ATTRAP with fixed update method of timer selection mechanism.\n",
    "    \n",
    "    Arguments:\n",
    "    v_initial -- initial vector of eligibility coupling weights\n",
    "    distr -- distribution of PF/CF intervals\n",
    "    its -- total number of PF/CF presentations (iterations) to simulate\n",
    "    dv -- \"Delta\", the amount by which to decrease coupling weights for inactive timers\n",
    "    report_its -- Frequency (in iterations) of reporting output weight vector\n",
    "    \n",
    "    Returns:\n",
    "    v -- final weight vector\n",
    "    v_all -- weight vector reported at intervals specified by report_its\n",
    "    \"\"\"\n",
    "    \n",
    "    # cdf = np.cumsum(distr/np.sum(distr))\n",
    "\n",
    "    # Use CDF to draw intervals randomly from distribution given uniform random variables (see Methods)\n",
    "    # get_interval = lambda r: np.interp(r, cdf, t)\n",
    "    # get_interval_NN = lambda r: np.array(np.round(get_interval(r)*10000)/10000/dt, dtype=int)\n",
    "    \n",
    "    # Used for reporting weight values periodically\n",
    "    report_counter = 0\n",
    "    report_index = 0\n",
    "\n",
    "    num_states = timers.shape[0]\n",
    "    active_v_threshold = dv/num_states\n",
    "\n",
    "    # num_updates = np.zeros(num_states)\n",
    "\n",
    "    v_all = np.zeros((num_states, int(its/report_its)))\n",
    "    v = np.copy(v_initial)\n",
    "\n",
    "    for it in tqdm.notebook.trange(its, leave=False):\n",
    "        # Calculate values of most active basis function\n",
    "        # given random draw of PF/CF interval\n",
    "        spike_ind = np.digitize(get_interval(rng.random()), t)-1\n",
    "        timer_vals = timers[:,spike_ind]\n",
    "\n",
    "        # Get index of most active timer\n",
    "        active_timer = np.argmax(timer_vals)\n",
    "        \n",
    "        # Update weights\n",
    "        v_ = v*(1-dv)\n",
    "        v_[active_timer] = v[active_timer] + dv*(1-v[active_timer])\n",
    "        v = np.copy(v_)\n",
    "        \n",
    "        report_counter += 1\n",
    "        # Save current weight vector periodically\n",
    "        if report_counter == report_its:\n",
    "            v_all[:, report_index] = np.copy(v)\n",
    "            report_counter = 0\n",
    "            report_index += 1\n",
    "    return v, v_all"
   ]
  },
  {
   "cell_type": "markdown",
   "id": "2f6e08b0",
   "metadata": {},
   "source": [
    "## i -- unimodal"
   ]
  },
  {
   "cell_type": "code",
   "execution_count": 281,
   "id": "420714fc",
   "metadata": {},
   "outputs": [
    {
     "data": {
      "application/vnd.jupyter.widget-view+json": {
       "model_id": "",
       "version_major": 2,
       "version_minor": 0
      },
      "text/plain": [
       "  0%|          | 0/2000000 [00:00<?, ?it/s]"
      ]
     },
     "metadata": {},
     "output_type": "display_data"
    }
   ],
   "source": [
    "v_initial = np.zeros(num_ideal_timers)\n",
    "v_initial[0] = 1\n",
    "\n",
    "v_proportional_ideal, v_proportional_all = selectionProportional(v_initial, get_interval_uni, its=2000000, report_its=10000, dv=1e-5)"
   ]
  },
  {
   "cell_type": "code",
   "execution_count": 283,
   "id": "5e139c40",
   "metadata": {},
   "outputs": [
    {
     "data": {
      "image/png": "[encoded data removed]",
      "text/plain": [
       "<Figure size 150x100 with 2 Axes>"
      ]
     },
     "metadata": {},
     "output_type": "display_data"
    }
   ],
   "source": [
    "plt.figure(figsize=(1.5,1))\n",
    "plt.fill_between(t, np.zeros(len(t)), uni_distr, color=(0.9,)*3)\n",
    "plt.axis('off')\n",
    "ax = plt.twinx()\n",
    "# ax.plot(t, idealized_integrator(t, t_p_init_avg), c='k')\n",
    "ax.plot(t, v_proportional_ideal@timers, c='k',lw=1)\n",
    "plt.axis('off');\n",
    "plt.savefig('figures/unimodal-shape-ideal.pdf')"
   ]
  },
  {
   "cell_type": "markdown",
   "id": "eeb9a09c",
   "metadata": {},
   "source": [
    "## ii -- bimodal"
   ]
  },
  {
   "cell_type": "code",
   "execution_count": 284,
   "id": "2ab5ba0f",
   "metadata": {},
   "outputs": [
    {
     "data": {
      "application/vnd.jupyter.widget-view+json": {
       "model_id": "",
       "version_major": 2,
       "version_minor": 0
      },
      "text/plain": [
       "  0%|          | 0/2000000 [00:00<?, ?it/s]"
      ]
     },
     "metadata": {},
     "output_type": "display_data"
    }
   ],
   "source": [
    "v_initial = np.zeros(num_ideal_timers)\n",
    "v_initial[0] = 1\n",
    "\n",
    "v_proportional_ideal, v_proportional_all = selectionProportional(v_initial, get_interval_bi, its=2000000, report_its=10000, dv=1e-5)"
   ]
  },
  {
   "cell_type": "code",
   "execution_count": 285,
   "id": "e7b303c2",
   "metadata": {},
   "outputs": [
    {
     "data": {
      "image/png": "[encoded data removed]",
      "text/plain": [
       "<Figure size 150x100 with 2 Axes>"
      ]
     },
     "metadata": {},
     "output_type": "display_data"
    }
   ],
   "source": [
    "plt.figure(figsize=(1.5,1))\n",
    "plt.fill_between(t, np.zeros(len(t)), bimodal_distr, color=(0.9,)*3)\n",
    "plt.axis('off')\n",
    "ax = plt.twinx()\n",
    "# ax.plot(t, idealized_integrator(t, t_p_init_avg), c='k')\n",
    "ax.plot(t, v_proportional_ideal@timers, c='k',lw=1)\n",
    "plt.axis('off');\n",
    "plt.savefig('figures/bimodal-shape-ideal.pdf')"
   ]
  },
  {
   "cell_type": "markdown",
   "id": "ce4f51ee",
   "metadata": {},
   "source": [
    "## iii -- peaked"
   ]
  },
  {
   "cell_type": "code",
   "execution_count": 288,
   "id": "4fc3527e",
   "metadata": {},
   "outputs": [
    {
     "data": {
      "application/vnd.jupyter.widget-view+json": {
       "model_id": "",
       "version_major": 2,
       "version_minor": 0
      },
      "text/plain": [
       "  0%|          | 0/3000000 [00:00<?, ?it/s]"
      ]
     },
     "metadata": {},
     "output_type": "display_data"
    }
   ],
   "source": [
    "v_initial = np.zeros(num_ideal_timers)\n",
    "v_initial[0] = 1\n",
    "\n",
    "v_proportional_ideal, v_proportional_all = selectionProportional(v_initial, get_interval_peaked, its=3000000, report_its=10000, dv=1e-5)"
   ]
  },
  {
   "cell_type": "code",
   "execution_count": 289,
   "id": "63d4a854",
   "metadata": {},
   "outputs": [
    {
     "data": {
      "image/png": "[encoded data removed]",
      "text/plain": [
       "<Figure size 150x100 with 2 Axes>"
      ]
     },
     "metadata": {},
     "output_type": "display_data"
    }
   ],
   "source": [
    "plt.figure(figsize=(1.5,1))\n",
    "plt.fill_between(t, np.zeros(len(t)), peaked_distr, color=(0.9,)*3)\n",
    "plt.axis('off')\n",
    "ax = plt.twinx()\n",
    "# ax.plot(t, idealized_integrator(t, t_p_init_avg), c='k')\n",
    "ax.plot(t, v_proportional_ideal@timers, c='k',lw=1)\n",
    "plt.axis('off');\n",
    "plt.savefig('figures/peaked-shape-ideal.pdf')"
   ]
  },
  {
   "cell_type": "markdown",
   "id": "51ead092",
   "metadata": {},
   "source": [
    "## iv -- empirical"
   ]
  },
  {
   "cell_type": "code",
   "execution_count": 418,
   "id": "591fbc56",
   "metadata": {},
   "outputs": [
    {
     "data": {
      "application/vnd.jupyter.widget-view+json": {
       "model_id": "",
       "version_major": 2,
       "version_minor": 0
      },
      "text/plain": [
       "  0%|          | 0/3000000 [00:00<?, ?it/s]"
      ]
     },
     "metadata": {},
     "output_type": "display_data"
    }
   ],
   "source": [
    "v_initial = np.zeros(num_ideal_timers)\n",
    "v_initial[0] = 1\n",
    "\n",
    "v_proportional_ideal, v_proportional_all = selectionProportional(v_initial, get_interval_empirical, its=3000000, report_its=10000, dv=1e-5)"
   ]
  },
  {
   "cell_type": "code",
   "execution_count": 422,
   "id": "63b5e0cb",
   "metadata": {},
   "outputs": [
    {
     "data": {
      "image/png": "[encoded data removed]",
      "text/plain": [
       "<Figure size 150x100 with 2 Axes>"
      ]
     },
     "metadata": {},
     "output_type": "display_data"
    }
   ],
   "source": [
    "plt.figure(figsize=(1.5,1))\n",
    "plt.fill_between(t[:-1], np.zeros(len(t)-1), empirical_pdf, color=(0.9,)*3)\n",
    "plt.axis('off')\n",
    "ax = plt.twinx()\n",
    "# ax.plot(t, idealized_integrator(t, t_p_init_avg), c='k')\n",
    "ax.plot(np.concatenate(([0], t, [t[-1]])), np.concatenate(([0],v_proportional_ideal@timers,[0])), c='k',lw=1)\n",
    "plt.axis('off');\n",
    "plt.savefig('figures/empirical-shape-ideal.pdf')"
   ]
  }
 ],
 "metadata": {
  "kernelspec": {
   "display_name": "Python 3 (ipykernel)",
   "language": "python",
   "name": "python3"
  },
  "language_info": {
   "codemirror_mode": {
    "name": "ipython",
    "version": 3
   },
   "file_extension": ".py",
   "mimetype": "text/x-python",
   "name": "python",
   "nbconvert_exporter": "python",
   "pygments_lexer": "ipython3",
   "version": "3.10.9"
  }
 },
 "nbformat": 4,
 "nbformat_minor": 5
}
