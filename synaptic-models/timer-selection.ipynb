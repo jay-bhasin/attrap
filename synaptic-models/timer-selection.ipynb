{
 "cells": [
  {
   "cell_type": "code",
   "execution_count": 1,
   "metadata": {},
   "outputs": [],
   "source": [
    "import matplotlib\n",
    "matplotlib.rcParams['pdf.fonttype'] = 42\n",
    "matplotlib.rcParams['ps.fonttype'] = 42\n",
    "\n",
    "# Set rcParams\n",
    "matplotlib.rcParams.update({'font.size': 6, 'axes.linewidth': 0.5, 'xtick.major.width': 0.5, 'xtick.minor.width': 0.5, \n",
    "                            'ytick.major.width': 0.5,'ytick.minor.width': 0.5, 'xtick.major.pad':2,'ytick.major.pad':2})\n",
    "matplotlib.rcParams.update({'font.family':'sans-serif','font.sans-serif':['Arial'], 'mathtext.default':'sf','mathtext.fontset':'custom'})\n",
    "\n",
    "matplotlib.rcParams.update({'savefig.transparent':True})"
   ]
  },
  {
   "cell_type": "code",
   "execution_count": 2,
   "metadata": {},
   "outputs": [],
   "source": [
    "import numpy as np\n",
    "import matplotlib.pyplot as plt\n",
    "%matplotlib inline\n",
    "\n",
    "from tqdm import tnrange\n",
    "import scipy.integrate\n",
    "\n",
    "import os"
   ]
  },
  {
   "cell_type": "markdown",
   "metadata": {},
   "source": [
    "Method to convert RGBA colors with a given alpha value to opaque RGB colors, using Python implementation of alpha compositing by User jakevdp on [Stack Overflow](https://stackoverflow.com/questions/33371939/calculate-rgb-equivalent-of-base-colors-with-alpha-of-0-5-over-white-background)."
   ]
  },
  {
   "cell_type": "code",
   "execution_count": 3,
   "metadata": {},
   "outputs": [],
   "source": [
    "import matplotlib.colors\n",
    "def make_rgb_transparent(rgb, bg_rgb, alpha):\n",
    "    return [alpha * c1 + (1 - alpha) * c2\n",
    "            for (c1, c2) in zip(rgb, bg_rgb)]"
   ]
  },
  {
   "cell_type": "markdown",
   "metadata": {},
   "source": [
    "# Cascade of timers implementation"
   ]
  },
  {
   "cell_type": "code",
   "execution_count": 16,
   "metadata": {},
   "outputs": [],
   "source": [
    "# Parameters to generate cascade of timers\n",
    "N = 26\n",
    "k_on_state = np.array([15000,]*N)\n",
    "k_off_state = np.array([200,]*N)\n",
    "k_deg_state = np.array([100,]*N)\n",
    "\n",
    "thresholds = np.load(os.getcwd()+'/thresholds.npy')\n",
    "\n",
    "k_on_delay = np.array([100] + [80,]*(N-2))\n",
    "k_off_delay = np.array([100] + [80,]*(N-2))\n",
    "\n",
    "hill = lambda x, k_d, n: x**n/(k_d**n + x**n)\n",
    "\n",
    "def cascadeTimer(t, y):\n",
    "    # Rate stimulus turns off\n",
    "    k_stim_off = 100\n",
    "    threshold_0 = 0.6\n",
    "    \n",
    "    # Number of chain states\n",
    "    dydt = np.zeros(N*2) # one delay element per state\n",
    "    \n",
    "    # See main text - methods for equations\n",
    "    dydt[0] = -k_stim_off*y[0]\n",
    "    dydt[1] = k_on_state[0]*(1-y[1])*hill(y[0], threshold_0, 20) - k_off_state[0]*y[1]\n",
    "    \n",
    "    for i in range(2, N*2, 2):\n",
    "        dydt[i] = k_on_delay[i//2-1]*(1-y[i])*y[i-1] - k_off_delay[i//2 - 1]*y[i]\n",
    "        dydt[i+1] = k_on_state[i//2]*(1-y[i+1])*hill(y[i], thresholds[i//2-1], 20) - k_off_state[i//2]*y[i+1]\n",
    "    return dydt"
   ]
  },
  {
   "cell_type": "markdown",
   "metadata": {},
   "source": [
    "# Time course of cascade components"
   ]
  },
  {
   "cell_type": "code",
   "execution_count": 6,
   "metadata": {},
   "outputs": [],
   "source": [
    "T = 0.2 # Total time to simulate (s)\n",
    "dt = 1e-4 # Time step size (s)\n",
    "t = np.arange(0, int(T/dt))*dt"
   ]
  },
  {
   "cell_type": "code",
   "execution_count": 18,
   "metadata": {},
   "outputs": [],
   "source": [
    "## Simulate timer components in response to a PF spike\n",
    "\n",
    "# Initial condition: all components in inactive state,\n",
    "# PF spike sets component \"A\" to fully active\n",
    "y0 = np.zeros(2*N)\n",
    "y0[0] = 1\n",
    "\n",
    "cascade_sol = scipy.integrate.solve_ivp(cascadeTimer, (0, 0.2), y0, dense_output = True)"
   ]
  },
  {
   "cell_type": "code",
   "execution_count": 20,
   "metadata": {},
   "outputs": [],
   "source": [
    "cascade_output = cascade_sol.sol(t)"
   ]
  },
  {
   "cell_type": "markdown",
   "metadata": {},
   "source": [
    "## Extended fig. 3d"
   ]
  },
  {
   "cell_type": "code",
   "execution_count": 21,
   "metadata": {},
   "outputs": [
    {
     "data": {
      "image/png": "[encoded data removed]",
      "text/plain": [
       "<Figure size 144x216 with 4 Axes>"
      ]
     },
     "metadata": {
      "needs_background": "light"
     },
     "output_type": "display_data"
    }
   ],
   "source": [
    "plt.figure(figsize=(2,3))\n",
    "\n",
    "ax = plt.subplot(4,1,1)\n",
    "plt.plot(t, cascade_output[2,:], clip_on=False)\n",
    "plt.plot([0, 0.2], [thresholds[0],]*2, c='k', lw=0.5)\n",
    "plt.ylim([0, 1])\n",
    "plt.xlim([0, 0.2])\n",
    "\n",
    "ax.xaxis.set_visible(False)\n",
    "ax.spines['bottom'].set_visible(False)\n",
    "ax.spines['top'].set_visible(False)\n",
    "ax.spines['right'].set_visible(False)\n",
    "\n",
    "\n",
    "ax = plt.subplot(4,1,2)\n",
    "plt.plot(t, cascade_output[3,:], clip_on=False)\n",
    "\n",
    "plt.ylim([0, 1])\n",
    "plt.xlim([0, 0.2])\n",
    "ax.xaxis.set_visible(False)\n",
    "ax.spines['bottom'].set_visible(False)\n",
    "ax.spines['top'].set_visible(False)\n",
    "ax.spines['right'].set_visible(False)\n",
    "\n",
    "ax =plt.subplot(4,1,3)\n",
    "plt.plot(t, cascade_output[4,:], clip_on=False)\n",
    "plt.plot([0, 0.2], [thresholds[1],]*2, c='k', lw=0.5)\n",
    "plt.ylim([0, 1])\n",
    "plt.xlim([0, 0.2])\n",
    "ax.xaxis.set_visible(False)\n",
    "ax.spines['bottom'].set_visible(False)\n",
    "ax.spines['top'].set_visible(False)\n",
    "ax.spines['right'].set_visible(False)\n",
    "\n",
    "ax =plt.subplot(4,1,4)\n",
    "plt.plot(t, cascade_output[5,:], clip_on=False)\n",
    "\n",
    "plt.ylim([0, 1])\n",
    "plt.xlim([0, 0.2])\n",
    "\n",
    "ax.spines['top'].set_visible(False)\n",
    "ax.spines['right'].set_visible(False)\n",
    "\n",
    "plt.tight_layout();"
   ]
  },
  {
   "cell_type": "markdown",
   "metadata": {},
   "source": [
    "## Time course of all timer activations (cf. Fig. 3d)"
   ]
  },
  {
   "cell_type": "code",
   "execution_count": 33,
   "metadata": {},
   "outputs": [],
   "source": [
    "# Collect only the timer activations\n",
    "timers = cascade_output[1:N*2:2, :]"
   ]
  },
  {
   "cell_type": "code",
   "execution_count": 34,
   "metadata": {},
   "outputs": [
    {
     "data": {
      "text/plain": [
       "(0, 0.2)"
      ]
     },
     "execution_count": 34,
     "metadata": {},
     "output_type": "execute_result"
    },
    {
     "data": {
      "image/png": "[encoded data removed]",
      "text/plain": [
       "<Figure size 432x288 with 1 Axes>"
      ]
     },
     "metadata": {
      "needs_background": "light"
     },
     "output_type": "display_data"
    }
   ],
   "source": [
    "plt.plot(t, timers.T);\n",
    "plt.xlim([0, 0.2])"
   ]
  },
  {
   "cell_type": "markdown",
   "metadata": {},
   "source": [
    "### Eligibility window from a uniform sum of timers (Fig. 3d, \"initial eligibility\")\n",
    "\n",
    "(Using 24 timers for visualization)"
   ]
  },
  {
   "cell_type": "code",
   "execution_count": 38,
   "metadata": {},
   "outputs": [
    {
     "data": {
      "image/png": "[encoded data removed]",
      "text/plain": [
       "<Figure size 432x288 with 1 Axes>"
      ]
     },
     "metadata": {
      "needs_background": "light"
     },
     "output_type": "display_data"
    }
   ],
   "source": [
    "plt.plot(t,1/24*np.ones(24)@timers[:-2,:])\n",
    "plt.ylim([0, 1])\n",
    "plt.axis('off');"
   ]
  },
  {
   "cell_type": "markdown",
   "metadata": {},
   "source": [
    "### Change in eligibility window after selection of timer 16\n",
    "I.e., one slice of the selection window for a given value of CF time\n",
    "\n",
    "Timer 16 was chosen arbitrarily for illustration purposes"
   ]
  },
  {
   "cell_type": "code",
   "execution_count": 39,
   "metadata": {},
   "outputs": [
    {
     "data": {
      "image/png": "[encoded data removed]",
      "text/plain": [
       "<Figure size 432x288 with 1 Axes>"
      ]
     },
     "metadata": {
      "needs_background": "light"
     },
     "output_type": "display_data"
    }
   ],
   "source": [
    "w_post_cf_example = -np.ones(24)/(23)\n",
    "w_post_cf_example[15] = 1\n",
    "\n",
    "plt.plot(t,w_post_cf_example@timers[:-2,:] )\n",
    "plt.axis('off');"
   ]
  },
  {
   "cell_type": "markdown",
   "metadata": {},
   "source": [
    "### Eligibility window after selection of timer 16 (Fig. 3d, \"$\\Delta$ Eligibility\")"
   ]
  },
  {
   "cell_type": "code",
   "execution_count": 48,
   "metadata": {},
   "outputs": [
    {
     "data": {
      "image/png": "[encoded data removed]",
      "text/plain": [
       "<Figure size 432x288 with 1 Axes>"
      ]
     },
     "metadata": {
      "needs_background": "light"
     },
     "output_type": "display_data"
    }
   ],
   "source": [
    "plt.plot(t, (1/24*np.ones(24)+0.2*w_post_cf_example)@timers[:-2,:])\n",
    "plt.ylim([0, 1])\n",
    "plt.axis('off');"
   ]
  },
  {
   "cell_type": "markdown",
   "metadata": {},
   "source": [
    "# Timer selection window (Fig. 3d)"
   ]
  },
  {
   "cell_type": "code",
   "execution_count": 40,
   "metadata": {},
   "outputs": [],
   "source": [
    "# Find time of peak activations for each timer\n",
    "t_peaks = t[[np.argmax(timers[i,:]) for i in range(timers.shape[0])]]"
   ]
  },
  {
   "cell_type": "code",
   "execution_count": 44,
   "metadata": {
    "scrolled": true
   },
   "outputs": [
    {
     "data": {
      "image/png": "[encoded data removed]",
      "text/plain": [
       "<Figure size 144x144 with 1 Axes>"
      ]
     },
     "metadata": {
      "needs_background": "light"
     },
     "output_type": "display_data"
    }
   ],
   "source": [
    "plt.figure(figsize=(2,2))\n",
    "\n",
    "# Change the alpha value of colors linearly\n",
    "# as we plot each timer activation sequentially\n",
    "min_shade = 0.3\n",
    "max_shade = 1\n",
    "slope = (max_shade - min_shade)/24\n",
    "c0 = matplotlib.colors.to_rgb('C0')\n",
    "c2 = matplotlib.colors.to_rgb('C2')\n",
    "white = [1,1,1]\n",
    "y_offset = 0.02\n",
    "x_offset = 0.001\n",
    "\n",
    "# To make the quasi-3d effect, we plot each timer activation\n",
    "# as linearly offset in x and y space\n",
    "y_slope = 20\n",
    "y_axis_offset = -0.055\n",
    "x_axis_offset = -0.01\n",
    "\n",
    "# Plot the \"axes\"\n",
    "plt.plot([y_axis_offset+x_axis_offset, y_axis_offset+0.2], [x_axis_offset*y_slope, y_slope*0.2], c='k', lw=0.5 )\n",
    "plt.plot([-0.04+x_axis_offset, 0.2], [x_axis_offset*y_slope, x_axis_offset*y_slope], c='k', lw=0.5)\n",
    "\n",
    "# Scatter plot represents \"tick marks\" at known values\n",
    "plt.scatter([y_axis_offset, y_axis_offset+0.1, y_axis_offset+0.2, 0, 0.1, 0.2],\n",
    "            [0, y_slope*0.1, y_slope*0.2, x_axis_offset*y_slope, x_axis_offset*y_slope, x_axis_offset*y_slope], s=2)\n",
    "\n",
    "for i in range(23,-1, -1):\n",
    "    w_post_cf = -np.ones(24)/23\n",
    "    w_post_cf[i] = 1\n",
    "    trace = w_post_cf@timers[:-2] # Change in Eligibility window\n",
    "    max_t = t[np.argmax(timers[i,:])]\n",
    "    if i > 0:\n",
    "        \n",
    "        # Color areas of each slice of selection window as\n",
    "        # Blue where Delta eligibility > 0\n",
    "        # Green where Delta eligibility < 0\n",
    "        pos_inds = np.where(trace > 0)[0]\n",
    "        \n",
    "        if i==15:\n",
    "            lw = 1\n",
    "            pos_color = c0\n",
    "            neg_color = c2\n",
    "        else:\n",
    "            lw=0.5\n",
    "            pos_color = make_rgb_transparent(c0, white, max_shade-slope*i)\n",
    "            neg_color = make_rgb_transparent(c2, white, max_shade-slope*i)\n",
    "        \n",
    "        # Plot time course before tau = 0 in grey\n",
    "        plt.plot([-0.04+t_peaks[i], t_peaks[i]-dt], [trace[0]+t_peaks[i]*y_slope,]*2, c=make_rgb_transparent((0.4,0.4,0.4), white, max_shade-slope*i), lw=lw)\n",
    "        \n",
    "        # Plot colored selection window slice\n",
    "        plt.plot(t[pos_inds[-1]+1:]+t_peaks[i], trace[pos_inds[-1]+1:]+t_peaks[i]*y_slope, c=neg_color, lw=lw)\n",
    "        plt.plot(t[pos_inds[0]:pos_inds[-1]+1]+t_peaks[i], trace[pos_inds[0]:pos_inds[-1]+1]+t_peaks[i]*y_slope, c=pos_color, lw=lw)\n",
    "        plt.plot(t[:pos_inds[0]]+t_peaks[i], trace[:pos_inds[0]]+t_peaks[i]*y_slope, c=neg_color, lw=lw)\n",
    "    else:\n",
    "        plt.plot([-0.04+t_peaks[i], t_peaks[i]], [t_peaks[i]*y_slope,]*2, c=make_rgb_transparent((0,0,0), white, max_shade-slope*i), lw=0.5)\n",
    "        plt.plot(t[:pos_inds[-1]+1], trace[:pos_inds[-1]+1]+t_peaks[i]*y_slope, c=make_rgb_transparent(c0, white, max_shade-slope*i), lw=0.5 )\n",
    "        plt.plot(t[pos_inds[-1]+1:], trace[pos_inds[-1]+1:]+t_peaks[i]*y_slope, c=make_rgb_transparent(c2, white, max_shade-slope*i), lw=0.5 )\n",
    "        \n",
    "plt.axis('off');"
   ]
  },
  {
   "cell_type": "markdown",
   "metadata": {},
   "source": [
    "# Slices of selection window for fixed time $\\tau$ (Ext. Fig. 3h)"
   ]
  },
  {
   "cell_type": "code",
   "execution_count": 50,
   "metadata": {},
   "outputs": [],
   "source": [
    "dw_mat = -np.ones((24,24))/23\n",
    "dw_mat += np.diag(np.ones(24)/23 + 1)\n",
    "\n",
    "selection_window = dw_mat@timers[:-2,:]"
   ]
  },
  {
   "cell_type": "code",
   "execution_count": 53,
   "metadata": {},
   "outputs": [],
   "source": [
    "def getSelectionWindowTime(tau):\n",
    "    tau_ind = (int)(np.floor(tau/dt))\n",
    "    max_inds = np.argmax(timers[:-2], axis=0)\n",
    "    window = np.zeros(len(t))\n",
    "    for tt in range(len(t)):\n",
    "        window[tt] = selection_window[max_inds[tt], tau_ind]\n",
    "    return window"
   ]
  },
  {
   "cell_type": "code",
   "execution_count": 54,
   "metadata": {},
   "outputs": [],
   "source": [
    "window_120 = getSelectionWindowTime(0.12)\n",
    "window_0 = getSelectionWindowTime(0.04)"
   ]
  },
  {
   "cell_type": "markdown",
   "metadata": {},
   "source": [
    "These windows are slices of the selection window above, but taken perpendicularly to the way they are plotted above. For two fixed time values, $\\tau = 40$ ms and $\\tau = 120$ ms, these windows indicate how the value of the eligibility window at that time should change as a function of CF time."
   ]
  },
  {
   "cell_type": "code",
   "execution_count": 55,
   "metadata": {},
   "outputs": [
    {
     "data": {
      "image/png": "[encoded data removed]",
      "text/plain": [
       "<Figure size 432x288 with 2 Axes>"
      ]
     },
     "metadata": {
      "needs_background": "light"
     },
     "output_type": "display_data"
    }
   ],
   "source": [
    "plt.subplot(2,1,1)\n",
    "plt.plot(t, window_0)\n",
    "plt.plot([0, 0.2], [0,0])\n",
    "\n",
    "plt.subplot(2,1,2)\n",
    "plt.plot(t, window_120)\n",
    "plt.plot([0, 0.2], [0,0]);"
   ]
  },
  {
   "cell_type": "code",
   "execution_count": 56,
   "metadata": {},
   "outputs": [],
   "source": [
    "np.save('cascade_timers.npy',timers)"
   ]
  },
  {
   "cell_type": "markdown",
   "metadata": {},
   "source": [
    "# Timer selection ATTRAP rule with fixed updates"
   ]
  },
  {
   "cell_type": "markdown",
   "metadata": {},
   "source": [
    "### Distribution of PF-CF intervals"
   ]
  },
  {
   "cell_type": "code",
   "execution_count": 4,
   "metadata": {},
   "outputs": [],
   "source": [
    "timers = np.load('cascade_timers.npy')"
   ]
  },
  {
   "cell_type": "code",
   "execution_count": 5,
   "metadata": {},
   "outputs": [],
   "source": [
    "dt = 1e-4\n",
    "t = np.arange(0, int(0.2/dt))*dt\n",
    "distr = np.exp(-(t-0.05)**2/(2*0.05**2)) + 2*np.exp(-(t-0.15)**2/(2*0.01**2))\n",
    "distr /=np.sum(distr)"
   ]
  },
  {
   "cell_type": "code",
   "execution_count": 7,
   "metadata": {},
   "outputs": [
    {
     "data": {
      "text/plain": [
       "[<matplotlib.lines.Line2D at 0x1523745cd0>]"
      ]
     },
     "execution_count": 7,
     "metadata": {},
     "output_type": "execute_result"
    },
    {
     "data": {
      "image/png": "[encoded data removed]",
      "text/plain": [
       "<Figure size 432x288 with 1 Axes>"
      ]
     },
     "metadata": {
      "needs_background": "light"
     },
     "output_type": "display_data"
    }
   ],
   "source": [
    "plt.plot(t, distr)"
   ]
  },
  {
   "cell_type": "code",
   "execution_count": 52,
   "metadata": {},
   "outputs": [],
   "source": [
    "def selectionFixed(v_initial, distr, its=5000000, dv = 1e-4, report_its = 10000):\n",
    "    \"\"\"Simulate ATTRAP with fixed update method of timer selection mechanism.\n",
    "    \n",
    "    Arguments:\n",
    "    v_initial -- initial vector of eligibility coupling weights\n",
    "    distr -- distribution of PF/CF intervals\n",
    "    its -- total number of PF/CF presentations (iterations) to simulate\n",
    "    dv -- \"Delta\", the amount by which to decrease coupling weights for inactive timers\n",
    "    report_its -- Frequency (in iterations) of reporting output weight vector\n",
    "    \n",
    "    Returns:\n",
    "    v -- final weight vector\n",
    "    v_all -- weight vector reported at intervals specified by report_its\n",
    "    \"\"\"\n",
    "    \n",
    "    cdf = np.cumsum(distr/np.sum(distr))\n",
    "\n",
    "    # Use CDF to draw intervals randomly from distribution given uniform random variables (see Methods)\n",
    "    get_interval = lambda r: np.interp(r, cdf, t)\n",
    "    get_interval_NN = lambda r: np.array(np.round(get_interval(r)*10000)/10000/dt, dtype=int)\n",
    "    \n",
    "    # Used for reporting weight values periodically\n",
    "    report_counter = 0\n",
    "    report_index = 0\n",
    "\n",
    "    num_states = timers.shape[0]\n",
    "    active_v_threshold = dv/num_states\n",
    "\n",
    "    # num_updates = np.zeros(num_states)\n",
    "\n",
    "    v_all = np.zeros((num_states, int(its/report_its)))\n",
    "    v = np.copy(v_initial)\n",
    "\n",
    "    for it in tnrange(its, leave=False):\n",
    "        # Calculate values of most active basis function\n",
    "        # given random draw of PF/CF interval\n",
    "        timer_vals = timers[:,get_interval_NN(np.random.rand())]\n",
    "\n",
    "        # Get index of most active timer\n",
    "        active_timer = np.argmax(timer_vals)\n",
    "\n",
    "        # Shouldn't end up with negative weights\n",
    "        timers_to_update = (v>0)\n",
    "        timers_to_update[active_timer] = False\n",
    "        num_active_timers = np.sum(timers_to_update)\n",
    "\n",
    "        if num_active_timers > 0:\n",
    "            dv_minus = np.zeros(num_states)\n",
    "            # Decrease coupling weights of all timers except the most active (ind_to_increase)\n",
    "            dv_minus[timers_to_update] = np.minimum(v[timers_to_update], dv)\n",
    "            dv_minus[active_timer] = 0\n",
    "\n",
    "            # Add weight changes\n",
    "            v -= dv_minus\n",
    "            \n",
    "            v[active_timer] += np.sum(dv_minus)\n",
    "\n",
    "        report_counter += 1\n",
    "        # Save current weight vector periodically\n",
    "        if report_counter == report_its:\n",
    "            v_all[:, report_index] = np.copy(v)\n",
    "            report_counter = 0\n",
    "            report_index += 1\n",
    "    return v, v_all"
   ]
  },
  {
   "cell_type": "code",
   "execution_count": 18,
   "metadata": {},
   "outputs": [
    {
     "data": {
      "application/vnd.jupyter.widget-view+json": {
       "model_id": "",
       "version_major": 2,
       "version_minor": 0
      },
      "text/plain": [
       "HBox(children=(IntProgress(value=0, max=5000000), HTML(value='')))"
      ]
     },
     "metadata": {},
     "output_type": "display_data"
    }
   ],
   "source": [
    "# Set initial condition\n",
    "v0 = np.zeros(timers.shape[0])\n",
    "v0[0] = 1\n",
    "\n",
    "# Simulate ATTRAP\n",
    "v_fixed, v_fixed_all = selectionFixed(v0, distr)"
   ]
  },
  {
   "cell_type": "markdown",
   "metadata": {},
   "source": [
    "## Fig. 3f\n",
    "\n",
    "Simulating ATTRAP, we find that the simulation converges quickly to an eligibility window equal to timer 19's activation time course. Timer 19 contains the mode of the distribution, found at 0.15 s."
   ]
  },
  {
   "cell_type": "code",
   "execution_count": 20,
   "metadata": {},
   "outputs": [
    {
     "data": {
      "text/plain": [
       "<BarContainer object of 26 artists>"
      ]
     },
     "execution_count": 20,
     "metadata": {},
     "output_type": "execute_result"
    },
    {
     "data": {
      "image/png": "[encoded data removed]",
      "text/plain": [
       "<Figure size 432x288 with 1 Axes>"
      ]
     },
     "metadata": {
      "needs_background": "light"
     },
     "output_type": "display_data"
    }
   ],
   "source": [
    "plt.bar(np.arange(timers.shape[0]), v_fixed)"
   ]
  },
  {
   "cell_type": "code",
   "execution_count": 23,
   "metadata": {},
   "outputs": [
    {
     "data": {
      "text/plain": [
       "[<matplotlib.lines.Line2D at 0x1523b17ad0>]"
      ]
     },
     "execution_count": 23,
     "metadata": {},
     "output_type": "execute_result"
    },
    {
     "data": {
      "image/png": "[encoded data removed]",
      "text/plain": [
       "<Figure size 432x288 with 1 Axes>"
      ]
     },
     "metadata": {
      "needs_background": "light"
     },
     "output_type": "display_data"
    }
   ],
   "source": [
    "plt.plot(np.arange(v_fixed_all.shape[1])*10000/1e6, v_fixed_all[19,:])"
   ]
  },
  {
   "cell_type": "code",
   "execution_count": 33,
   "metadata": {},
   "outputs": [
    {
     "data": {
      "image/png": "[encoded data removed]",
      "text/plain": [
       "<Figure size 432x288 with 2 Axes>"
      ]
     },
     "metadata": {
      "needs_background": "light"
     },
     "output_type": "display_data"
    }
   ],
   "source": [
    "selected_window_fixed = v_fixed@timers\n",
    "\n",
    "plt.plot(t, selected_window_fixed,c='k', zorder=10)\n",
    "plt.plot([0.15,]*2, [0, 1], c='C3', zorder=10) # Mode of the distribution\n",
    "plt.axis('off')\n",
    "ax = plt.twinx()\n",
    "plt.fill_between(t,0, distr, alpha=0.3, color='k', zorder=0)\n",
    "plt.axis('off');"
   ]
  },
  {
   "cell_type": "markdown",
   "metadata": {},
   "source": [
    "# Timer selection ATTRAP with proportional updates"
   ]
  },
  {
   "cell_type": "code",
   "execution_count": 27,
   "metadata": {},
   "outputs": [],
   "source": [
    "def selectionProportional(v_initial, distr, its=5000000, dv = 1e-4, report_its = 10000):\n",
    "    \"\"\"Simulate ATTRAP with fixed update method of timer selection mechanism.\n",
    "    \n",
    "    Arguments:\n",
    "    v_initial -- initial vector of eligibility coupling weights\n",
    "    distr -- distribution of PF/CF intervals\n",
    "    its -- total number of PF/CF presentations (iterations) to simulate\n",
    "    dv -- \"Delta\", the amount by which to decrease coupling weights for inactive timers\n",
    "    report_its -- Frequency (in iterations) of reporting output weight vector\n",
    "    \n",
    "    Returns:\n",
    "    v -- final weight vector\n",
    "    v_all -- weight vector reported at intervals specified by report_its\n",
    "    \"\"\"\n",
    "    \n",
    "    cdf = np.cumsum(distr/np.sum(distr))\n",
    "\n",
    "    # Use CDF to draw intervals randomly from distribution given uniform random variables (see Methods)\n",
    "    get_interval = lambda r: np.interp(r, cdf, t)\n",
    "    get_interval_NN = lambda r: np.array(np.round(get_interval(r)*10000)/10000/dt, dtype=int)\n",
    "    \n",
    "    # Used for reporting weight values periodically\n",
    "    report_counter = 0\n",
    "    report_index = 0\n",
    "\n",
    "    num_states = timers.shape[0]\n",
    "    active_v_threshold = dv/num_states\n",
    "\n",
    "    # num_updates = np.zeros(num_states)\n",
    "\n",
    "    v_all = np.zeros((num_states, int(its/report_its)))\n",
    "    v = np.copy(v_initial)\n",
    "\n",
    "    for it in tnrange(its, leave=False):\n",
    "        # Calculate values of most active basis function\n",
    "        # given random draw of PF/CF interval\n",
    "        timer_vals = timers[:,get_interval_NN(np.random.rand())]\n",
    "\n",
    "        # Get index of most active timer\n",
    "        active_timer = np.argmax(timer_vals)\n",
    "        \n",
    "        # Update weights\n",
    "        v_ = v*(1-dv)\n",
    "        v_[active_timer] = v[active_timer] + dv*(1-v[active_timer])\n",
    "        v = np.copy(v_)\n",
    "        \n",
    "        report_counter += 1\n",
    "        # Save current weight vector periodically\n",
    "        if report_counter == report_its:\n",
    "            v_all[:, report_index] = np.copy(v)\n",
    "            report_counter = 0\n",
    "            report_index += 1\n",
    "    return v, v_all"
   ]
  },
  {
   "cell_type": "code",
   "execution_count": 28,
   "metadata": {},
   "outputs": [
    {
     "data": {
      "application/vnd.jupyter.widget-view+json": {
       "model_id": "",
       "version_major": 2,
       "version_minor": 0
      },
      "text/plain": [
       "HBox(children=(IntProgress(value=0, max=5000000), HTML(value='')))"
      ]
     },
     "metadata": {},
     "output_type": "display_data"
    }
   ],
   "source": [
    "# Set initial condition\n",
    "v0 = np.zeros(timers.shape[0])\n",
    "v0[0] = 1\n",
    "\n",
    "# Simulate ATTRAP\n",
    "v_proportional, v_proportional_all = selectionProportional(v0, distr)"
   ]
  },
  {
   "cell_type": "markdown",
   "metadata": {},
   "source": [
    "## Figure 3f\n",
    "\n",
    "Simulating ATTRAP using proportional update method of selection mechanism yields an eligibility window that approximates the PF/CF interval distribution."
   ]
  },
  {
   "cell_type": "code",
   "execution_count": 29,
   "metadata": {},
   "outputs": [
    {
     "data": {
      "text/plain": [
       "<matplotlib.collections.PolyCollection at 0x1523f66e50>"
      ]
     },
     "execution_count": 29,
     "metadata": {},
     "output_type": "execute_result"
    },
    {
     "data": {
      "image/png": "[encoded data removed]",
      "text/plain": [
       "<Figure size 432x288 with 2 Axes>"
      ]
     },
     "metadata": {
      "needs_background": "light"
     },
     "output_type": "display_data"
    }
   ],
   "source": [
    "plt.plot(t, v_proportional@timers, c='k', lw=1)\n",
    "\n",
    "ax = plt.twinx()\n",
    "plt.fill_between(t, 0, distr/np.sum(distr), color='k', alpha=0.3)"
   ]
  },
  {
   "cell_type": "markdown",
   "metadata": {},
   "source": [
    "# Idealized timer models\n",
    "\n",
    "Here we consider an idealized set of timer activations given by narrow Gaussians that tile time after PF input. We first investigate the ability of the fixed update method to pick out the mode of the PF/CF interval distribution."
   ]
  },
  {
   "cell_type": "code",
   "execution_count": 39,
   "metadata": {},
   "outputs": [],
   "source": [
    "T = 0.2\n",
    "dt = 1e-4\n",
    "t = np.arange(0, int(T/dt))*dt\n",
    "\n",
    "num_ideal_timers = 100\n",
    "timers = np.zeros((num_ideal_timers, len(t)))\n",
    "centers = np.linspace(0, 0.2, num_ideal_timers)\n",
    "for i in range(num_ideal_timers):\n",
    "    timers[i,:] = np.exp(-(t - centers[i])**2/(2*(2e-3)**2))"
   ]
  },
  {
   "cell_type": "markdown",
   "metadata": {},
   "source": [
    "## Fixed updates - Extended data fig. 3g\n",
    "We use bimodal distributions with peaks that differ by 20% in probability."
   ]
  },
  {
   "cell_type": "code",
   "execution_count": 46,
   "metadata": {},
   "outputs": [],
   "source": [
    "distr = 1.2*np.exp(-(t-0.05)**2/(2*0.01**2)) + np.exp(-(t-0.15)**2/(2*0.005**2))\n",
    "distr /=np.sum(distr)"
   ]
  },
  {
   "cell_type": "code",
   "execution_count": 53,
   "metadata": {
    "scrolled": true
   },
   "outputs": [
    {
     "data": {
      "application/vnd.jupyter.widget-view+json": {
       "model_id": "",
       "version_major": 2,
       "version_minor": 0
      },
      "text/plain": [
       "HBox(children=(IntProgress(value=0, max=10000000), HTML(value='')))"
      ]
     },
     "metadata": {},
     "output_type": "display_data"
    }
   ],
   "source": [
    "v_initial = np.zeros(num_ideal_timers)\n",
    "v_initial[0] = 1\n",
    "\n",
    "v_fixed_ideal, v_fixed_ideal_all = selectionFixed(v_initial, distr, its=10000000, report_its=10000, dv=1e-5)"
   ]
  },
  {
   "cell_type": "code",
   "execution_count": 54,
   "metadata": {},
   "outputs": [
    {
     "data": {
      "image/png": "[encoded data removed]",
      "text/plain": [
       "<Figure size 432x288 with 2 Axes>"
      ]
     },
     "metadata": {
      "needs_background": "light"
     },
     "output_type": "display_data"
    }
   ],
   "source": [
    "plt.fill_between(t, 0, distr, alpha=0.3)\n",
    "plt.axis('off')\n",
    "ax = plt.twinx()\n",
    "plt.plot([t[np.argmax(distr)],]*2, [0, 1], lw=1, c='C3')\n",
    "plt.plot(t, v_fixed_ideal@timers, lw=1, c='k')\n",
    "\n",
    "plt.axis('off');"
   ]
  },
  {
   "cell_type": "code",
   "execution_count": 55,
   "metadata": {},
   "outputs": [],
   "source": [
    "distr = np.exp(-(t-0.05)**2/(2*0.01**2)) + 1.2*np.exp(-(t-0.15)**2/(2*0.005**2))\n",
    "distr /=np.sum(distr)"
   ]
  },
  {
   "cell_type": "code",
   "execution_count": 56,
   "metadata": {},
   "outputs": [
    {
     "data": {
      "application/vnd.jupyter.widget-view+json": {
       "model_id": "",
       "version_major": 2,
       "version_minor": 0
      },
      "text/plain": [
       "HBox(children=(IntProgress(value=0, max=10000000), HTML(value='')))"
      ]
     },
     "metadata": {},
     "output_type": "display_data"
    }
   ],
   "source": [
    "v_initial = np.zeros(num_ideal_timers)\n",
    "v_initial[0] = 1\n",
    "\n",
    "v_fixed_ideal, v_fixed_ideal_all = selectionFixed(v_initial, distr, its=10000000, report_its=10000, dv=1e-5)"
   ]
  },
  {
   "cell_type": "code",
   "execution_count": 57,
   "metadata": {},
   "outputs": [
    {
     "data": {
      "image/png": "[encoded data removed]",
      "text/plain": [
       "<Figure size 432x288 with 2 Axes>"
      ]
     },
     "metadata": {
      "needs_background": "light"
     },
     "output_type": "display_data"
    }
   ],
   "source": [
    "plt.fill_between(t, 0, distr, alpha=0.3)\n",
    "plt.axis('off')\n",
    "ax = plt.twinx()\n",
    "plt.plot([t[np.argmax(distr)],]*2, [0, 1], lw=1, c='C3')\n",
    "plt.plot(t, v_fixed_ideal@timers, lw=1, c='k')\n",
    "\n",
    "plt.axis('off');"
   ]
  },
  {
   "cell_type": "code",
   "execution_count": 68,
   "metadata": {},
   "outputs": [
    {
     "data": {
      "application/vnd.jupyter.widget-view+json": {
       "model_id": "a9eb894903274555b940a66508012e4d",
       "version_major": 2,
       "version_minor": 0
      },
      "text/plain": [
       "HBox(children=(IntProgress(value=0, max=10), HTML(value='')))"
      ]
     },
     "metadata": {},
     "output_type": "display_data"
    },
    {
     "data": {
      "application/vnd.jupyter.widget-view+json": {
       "model_id": "",
       "version_major": 2,
       "version_minor": 0
      },
      "text/plain": [
       "HBox(children=(IntProgress(value=0, max=10000000), HTML(value='')))"
      ]
     },
     "metadata": {},
     "output_type": "display_data"
    },
    {
     "data": {
      "application/vnd.jupyter.widget-view+json": {
       "model_id": "",
       "version_major": 2,
       "version_minor": 0
      },
      "text/plain": [
       "HBox(children=(IntProgress(value=0, max=10000000), HTML(value='')))"
      ]
     },
     "metadata": {},
     "output_type": "display_data"
    },
    {
     "data": {
      "application/vnd.jupyter.widget-view+json": {
       "model_id": "",
       "version_major": 2,
       "version_minor": 0
      },
      "text/plain": [
       "HBox(children=(IntProgress(value=0, max=10000000), HTML(value='')))"
      ]
     },
     "metadata": {},
     "output_type": "display_data"
    },
    {
     "data": {
      "application/vnd.jupyter.widget-view+json": {
       "model_id": "",
       "version_major": 2,
       "version_minor": 0
      },
      "text/plain": [
       "HBox(children=(IntProgress(value=0, max=10000000), HTML(value='')))"
      ]
     },
     "metadata": {},
     "output_type": "display_data"
    },
    {
     "data": {
      "application/vnd.jupyter.widget-view+json": {
       "model_id": "",
       "version_major": 2,
       "version_minor": 0
      },
      "text/plain": [
       "HBox(children=(IntProgress(value=0, max=10000000), HTML(value='')))"
      ]
     },
     "metadata": {},
     "output_type": "display_data"
    },
    {
     "data": {
      "application/vnd.jupyter.widget-view+json": {
       "model_id": "",
       "version_major": 2,
       "version_minor": 0
      },
      "text/plain": [
       "HBox(children=(IntProgress(value=0, max=10000000), HTML(value='')))"
      ]
     },
     "metadata": {},
     "output_type": "display_data"
    },
    {
     "data": {
      "application/vnd.jupyter.widget-view+json": {
       "model_id": "",
       "version_major": 2,
       "version_minor": 0
      },
      "text/plain": [
       "HBox(children=(IntProgress(value=0, max=10000000), HTML(value='')))"
      ]
     },
     "metadata": {},
     "output_type": "display_data"
    },
    {
     "data": {
      "application/vnd.jupyter.widget-view+json": {
       "model_id": "",
       "version_major": 2,
       "version_minor": 0
      },
      "text/plain": [
       "HBox(children=(IntProgress(value=0, max=10000000), HTML(value='')))"
      ]
     },
     "metadata": {},
     "output_type": "display_data"
    },
    {
     "data": {
      "application/vnd.jupyter.widget-view+json": {
       "model_id": "",
       "version_major": 2,
       "version_minor": 0
      },
      "text/plain": [
       "HBox(children=(IntProgress(value=0, max=10000000), HTML(value='')))"
      ]
     },
     "metadata": {},
     "output_type": "display_data"
    },
    {
     "data": {
      "application/vnd.jupyter.widget-view+json": {
       "model_id": "",
       "version_major": 2,
       "version_minor": 0
      },
      "text/plain": [
       "HBox(children=(IntProgress(value=0, max=10000000), HTML(value='')))"
      ]
     },
     "metadata": {},
     "output_type": "display_data"
    },
    {
     "name": "stdout",
     "output_type": "stream",
     "text": [
      "\n"
     ]
    }
   ],
   "source": [
    "N_sims = 10\n",
    "v_finals = np.zeros((N_sims, states.shape[0]))\n",
    "v_peaks = np.zeros((N_sims, 2, 1000))\n",
    "for n in tnrange(N_sims):\n",
    "    v_initial = np.zeros(timers.shape[0])\n",
    "    v_initial[0] = 1\n",
    "\n",
    "    v_final, v_fixed_all = selectionFixed(v_initial, distr, its=10000000, report_its=10000, dv=1e-5)\n",
    "    v_finals[n,:] = v_final\n",
    "    v_peaks[n,0,:] = v_fixed_all[0,:]\n",
    "    v_peaks[n,1,:] = v_fixed_all[74,:]"
   ]
  },
  {
   "cell_type": "code",
   "execution_count": 69,
   "metadata": {},
   "outputs": [],
   "source": [
    "v_peaks_avg = np.mean(v_peaks, axis=0)\n",
    "v_peaks_std = np.std(v_peaks, axis=0)"
   ]
  },
  {
   "cell_type": "code",
   "execution_count": 81,
   "metadata": {},
   "outputs": [
    {
     "data": {
      "text/plain": [
       "(2, 1000)"
      ]
     },
     "execution_count": 81,
     "metadata": {},
     "output_type": "execute_result"
    }
   ],
   "source": [
    "v_peaks_std.shape"
   ]
  },
  {
   "cell_type": "code",
   "execution_count": 86,
   "metadata": {},
   "outputs": [
    {
     "data": {
      "image/png": "[encoded data removed]",
      "text/plain": [
       "<Figure size 108x72 with 1 Axes>"
      ]
     },
     "metadata": {
      "needs_background": "light"
     },
     "output_type": "display_data"
    }
   ],
   "source": [
    "plt.figure(figsize=(1.5, 1))\n",
    "\n",
    "it_inds = np.arange(v_peaks_avg.shape[1])\n",
    "\n",
    "# plt.plot(it_inds, v_peaks_avg[0,:])\n",
    "# plt.fill_between(it_inds, v_peaks_avg[0,:] - v_peaks_std[0,:], v_peaks_avg[0,:] + v_peaks_std[0,:], alpha=0.3)\n",
    "plt.plot(np.arange(v_peaks_avg.shape[1]), v_peaks_avg[1,:], lw=1)\n",
    "plt.fill_between(it_inds, v_peaks_avg[1,:] - v_peaks_std[1,:], v_peaks_avg[1,:] + v_peaks_std[1,:], alpha=0.3)\n",
    "\n",
    "plt.yticks([0, 0.5, 1], [0, '', 1]);\n",
    "plt.xticks([0, 500, 1000], [0, '', r'$10^7$'])\n",
    "\n",
    "# plt.ylim([0, 1])\n",
    "plt.xlim([0, 1000])\n",
    "ax = plt.gca()\n",
    "ax.spines['top'].set_visible(False)\n",
    "ax.spines['right'].set_visible(False);"
   ]
  },
  {
   "cell_type": "markdown",
   "metadata": {},
   "source": [
    "## Proportional updates - Ext. data fig. 3g"
   ]
  },
  {
   "cell_type": "code",
   "execution_count": 87,
   "metadata": {},
   "outputs": [],
   "source": [
    "dt = 1e-4\n",
    "t = np.arange(0, int(0.2/dt))*dt\n",
    "distr = np.exp(-(t-0.05)**2/(2*0.05**2)) + 2*np.exp(-(t-0.15)**2/(2*0.01**2))\n",
    "distr /=np.sum(distr)"
   ]
  },
  {
   "cell_type": "code",
   "execution_count": 91,
   "metadata": {},
   "outputs": [
    {
     "data": {
      "application/vnd.jupyter.widget-view+json": {
       "model_id": "",
       "version_major": 2,
       "version_minor": 0
      },
      "text/plain": [
       "HBox(children=(IntProgress(value=0, max=5000000), HTML(value='')))"
      ]
     },
     "metadata": {},
     "output_type": "display_data"
    }
   ],
   "source": [
    "# Set initial condition\n",
    "v0 = np.zeros(timers.shape[0])\n",
    "v0[0] = 1\n",
    "\n",
    "# Simulate ATTRAP\n",
    "v_proportional_ideal, v_proportional_ideal_all = selectionProportional(v0, distr, dv=1e-5)"
   ]
  },
  {
   "cell_type": "code",
   "execution_count": 92,
   "metadata": {},
   "outputs": [
    {
     "data": {
      "image/png": "[encoded data removed]",
      "text/plain": [
       "<Figure size 432x288 with 2 Axes>"
      ]
     },
     "metadata": {
      "needs_background": "light"
     },
     "output_type": "display_data"
    }
   ],
   "source": [
    "plt.fill_between(t, 0, distr, color='k', alpha=0.3)\n",
    "plt.axis('off')\n",
    "ax = plt.twinx()\n",
    "plt.plot(np.concatenate((np.array([0]), t)), np.concatenate((np.array([0]), v_proportional_ideal@timers)), c='k')\n",
    "plt.axis('off');"
   ]
  },
  {
   "cell_type": "code",
   "execution_count": null,
   "metadata": {},
   "outputs": [],
   "source": []
  }
 ],
 "metadata": {
  "kernelspec": {
   "display_name": "Python 3",
   "language": "python",
   "name": "python3"
  },
  "language_info": {
   "codemirror_mode": {
    "name": "ipython",
    "version": 3
   },
   "file_extension": ".py",
   "mimetype": "text/x-python",
   "name": "python",
   "nbconvert_exporter": "python",
   "pygments_lexer": "ipython3",
   "version": "3.7.4"
  }
 },
 "nbformat": 4,
 "nbformat_minor": 2
}
