{
 "cells": [
  {
   "cell_type": "code",
   "execution_count": 1,
   "id": "acabc790",
   "metadata": {},
   "outputs": [],
   "source": [
    "import numpy as np\n",
    "\n",
    "# Save fonts into pdf\n",
    "import matplotlib\n",
    "matplotlib.rcParams['pdf.fonttype'] = 42\n",
    "matplotlib.rcParams['ps.fonttype'] = 42\n",
    "\n",
    "\n",
    "import matplotlib.pyplot as plt\n",
    "import tqdm.notebook\n",
    "# import scipy.integrate"
   ]
  },
  {
   "cell_type": "code",
   "execution_count": 2,
   "id": "52680767",
   "metadata": {},
   "outputs": [],
   "source": [
    "matplotlib.rcParams.update({'font.size': 8, 'axes.linewidth': 0.5, 'xtick.major.width': 0.5, 'xtick.minor.width': 0.5, \n",
    "                            'ytick.major.width': 0.5,'ytick.minor.width': 0.5, 'xtick.major.pad':2,'ytick.major.pad':2})\n",
    "matplotlib.rcParams.update({'font.family':'sans-serif','font.sans-serif':['Arial'], 'mathtext.default':'sf','mathtext.fontset':'custom'})\n",
    "\n",
    "matplotlib.rcParams.update({'savefig.transparent':True})"
   ]
  },
  {
   "cell_type": "code",
   "execution_count": 3,
   "id": "560a2700",
   "metadata": {},
   "outputs": [],
   "source": [
    "# Compute a periodic convolution\n",
    "# Edited from: https://stackoverflow.com/questions/35474078/python-1d-array-circular-convolution\n",
    "def conv_circ( signal, ker ):\n",
    "    '''\n",
    "        signal: real 1D array\n",
    "        ker: real 1D array\n",
    "        signal and ker must have same shape\n",
    "    '''\n",
    "    if len(ker) < len(signal):\n",
    "        ker = np.pad(ker, (0, len(signal)-len(ker)))\n",
    "    return np.real(np.fft.ifft( np.fft.fft(signal)*np.fft.fft(ker) ))\n",
    "\n",
    "# Generating PF basis \n",
    "def generatePFratesBasis(N_PFs = 120, a=5, theta=9):\n",
    "    # Number of PFs, peak spike rate (Hz), threshold for visual stim velocity\n",
    "    pf_spike_rates = np.zeros((N_PFs, len(t)))\n",
    "    # Array of times of peak response of parallel fibers\n",
    "    delays = np.linspace(0, 1, N_PFs+1) + T_min_full\n",
    "    for n in range(N_PFs):\n",
    "        # PF rates are scaled, thresholded versions of the stimulus, \n",
    "        # of which each PF receives a time-shifted version\n",
    "        pf_spike_rates[n,:] = np.maximum(peak_stim_vel*np.cos(2*np.pi*(t - delays[n])) - theta,0)\n",
    "        pf_spike_rates[n,:] *= a/np.max(pf_spike_rates[n,:])\n",
    "    return pf_spike_rates"
   ]
  },
  {
   "cell_type": "code",
   "execution_count": 401,
   "id": "bcf8ca24",
   "metadata": {},
   "outputs": [],
   "source": [
    "# Simulation time step size (s)\n",
    "dt = 2e-3\n",
    "\n",
    "# Total time per block (s)\n",
    "T_max_full = 0.75\n",
    "T_min_full = -0.25\n",
    "T = T_max_full - T_min_full\n",
    "\n",
    "T_min = 0\n",
    "t_min_ind = int((T_min-T_min_full)/dt)\n",
    "T_max = 0.5\n",
    "t_max_ind = int((T_max - T_min_full)/dt)\n",
    "\n",
    "\n",
    "# Array of time steps\n",
    "t = np.arange(0, int(T/dt))*dt + T_min_full"
   ]
  },
  {
   "cell_type": "code",
   "execution_count": 5,
   "id": "a3019e20",
   "metadata": {},
   "outputs": [],
   "source": [
    "# Eligibility window\n",
    "\n",
    "dt_mp = dt\n",
    "T_mp_max = 0.2\n",
    "\n",
    "t_mp = np.arange(0, int(T_mp_max/dt_mp))*dt_mp\n",
    "\n",
    "# PF-CF histograms\n",
    "N_bins = 100\n",
    "hist_edges = np.linspace(0, T_mp_max, N_bins+1)"
   ]
  },
  {
   "cell_type": "code",
   "execution_count": 243,
   "id": "0ebe3eca",
   "metadata": {},
   "outputs": [],
   "source": [
    "## Model parameters\n",
    "\n",
    "# postsynaptic PC current response to spikes\n",
    "exc_current_kernel = np.exp(-(t - t[0])/10e-3)\n",
    "\n",
    "inh_current_kernel = (np.exp(-(t-t[0])/40e-3) - np.exp(-(t-t[0])/10e-3))\n",
    "inh_current_kernel *= np.sum(exc_current_kernel)/np.sum(inh_current_kernel)\n",
    "\n",
    "pc_eye_sensitivity = 5\n",
    "w_max = 5\n",
    "w_min = 0\n",
    "w_mli = w_max/2\n",
    "avg_sensitivity_to_pc = 0.01 # 1/100\n",
    "retinal_slip_f = lambda x: np.maximum(-x,0)**3\n",
    "avg_cf_rate = 1\n",
    "dw_ltd =  3e-2\n",
    "dw_ltp = dw_ltd*0.016\n",
    "\n",
    "dw_ltd_avg =  3e-2\n",
    "dw_ltp_avg = dw_ltd_avg*0.016\n",
    "\n",
    "delay = 0.12\n",
    "\n",
    "decay_rate = 1/(3600) # / s"
   ]
  },
  {
   "cell_type": "code",
   "execution_count": 112,
   "id": "1c440732",
   "metadata": {},
   "outputs": [],
   "source": [
    "## Mode rule\n",
    "hill = lambda x, k_d, n: np.power(x,n)/(k_d**n + np.power(x,n))\n",
    "\n",
    "dv = 1e-4\n",
    "N_states = 12\n",
    "t_states = np.arange(0, int(T_mp_max/dt))*dt\n",
    "states = np.zeros((len(t_states), N_states))\n",
    "edges = np.linspace(0, T_mp_max, N_states+1)/dt\n",
    "for i in range(N_states):\n",
    "    states[int(edges[i]):int(edges[i+1]),i] = 1 \n",
    "\n",
    "# timer_std = 7.5e-3\n",
    "# states = np.zeros((N_states, len(t_states)))\n",
    "# centers = np.linspace(0, 0.2, N_states)\n",
    "# for i in range(N_states):\n",
    "#     states[i,:] = hill(np.exp(-(t_states - centers[i])**2/(2*timer_std**2)),0.6,10)\n",
    "#     states[i,:] /= np.max(states[i,:])\n",
    "# #     states[i,:] = np.exp(-(t_states - centers[i])**2/(2*timer_std**2))"
   ]
  },
  {
   "cell_type": "code",
   "execution_count": 114,
   "id": "902e9920",
   "metadata": {},
   "outputs": [
    {
     "data": {
      "text/plain": [
       "array([0.00833333, 0.025     , 0.04166667, 0.05833333, 0.075     ,\n",
       "       0.09166667, 0.10833333, 0.125     , 0.14166667, 0.15833333,\n",
       "       0.175     , 0.19166667])"
      ]
     },
     "execution_count": 114,
     "metadata": {},
     "output_type": "execute_result"
    }
   ],
   "source": [
    "dt*((edges[1:]-edges[:-1])/2+edges[:-1])"
   ]
  },
  {
   "cell_type": "code",
   "execution_count": 9,
   "id": "f03a4ba9",
   "metadata": {},
   "outputs": [],
   "source": [
    "# or\n",
    "delay_distr = np.exp(-(t_states-0.12)**2/0.005**2)\n",
    "delay_distr /= np.sum(delay_distr)"
   ]
  },
  {
   "cell_type": "code",
   "execution_count": 14,
   "id": "d4d26dfc",
   "metadata": {},
   "outputs": [],
   "source": [
    "## Stimulus\n",
    "\n",
    "peak_stim_vel = 10 # deg/s\n",
    "f = 1 # Hz\n",
    "stim_vel_f = lambda t: -peak_stim_vel*np.sin(2*np.pi*f*t)\n",
    "direct_pathway_f = lambda t: -peak_stim_vel*np.sin(2*np.pi*f*(t-0.04))"
   ]
  },
  {
   "cell_type": "code",
   "execution_count": 210,
   "id": "2b025297",
   "metadata": {},
   "outputs": [],
   "source": [
    "stim_vel = stim_vel_f(t)\n",
    "direct_pathway = direct_pathway_f(t)"
   ]
  },
  {
   "cell_type": "code",
   "execution_count": 16,
   "id": "ab384fb6",
   "metadata": {},
   "outputs": [],
   "source": [
    "N_PFs = 120\n",
    "pf_spike_rates = generatePFratesBasis(N_PFs)\n",
    "mli_current = dt*conv_circ(np.ones(N_PFs)@pf_spike_rates, exc_current_kernel)"
   ]
  },
  {
   "cell_type": "code",
   "execution_count": 58,
   "id": "26bc9c25",
   "metadata": {},
   "outputs": [],
   "source": [
    "N_repetitions = 1\n",
    "N_trials = 3600\n",
    "plasticity = False\n",
    "metaplasticity = False\n",
    "cell_wide = False\n",
    "\n",
    "PF_samples = [0,38,54]\n",
    "w_0 = w_mli*np.ones(N_PFs)\n",
    "w_avg_0 = w_mli*np.ones(N_PFs)\n",
    "v_0 = np.zeros((N_PFs, N_states))\n",
    "v_0[:,0] = 1\n",
    "\n",
    "shuffle=False\n",
    "target_on=False\n",
    "\n",
    "pf_noise_amp = 0"
   ]
  },
  {
   "cell_type": "code",
   "execution_count": 22,
   "id": "38d31e9d",
   "metadata": {},
   "outputs": [],
   "source": [
    "rng = np.random.default_rng(seed=0)"
   ]
  },
  {
   "cell_type": "code",
   "execution_count": 263,
   "id": "f0b6d6f5",
   "metadata": {},
   "outputs": [
    {
     "data": {
      "text/plain": [
       "[<matplotlib.lines.Line2D at 0x7f91f91c94b0>]"
      ]
     },
     "execution_count": 263,
     "metadata": {},
     "output_type": "execute_result"
    },
    {
     "data": {
      "image/png": "[encoded data removed]",
      "text/plain": [
       "<Figure size 640x480 with 1 Axes>"
      ]
     },
     "metadata": {},
     "output_type": "display_data"
    }
   ],
   "source": [
    "plt.plot(t_states, delay_distr)"
   ]
  },
  {
   "cell_type": "code",
   "execution_count": 264,
   "id": "51ad6dc6",
   "metadata": {},
   "outputs": [],
   "source": [
    "def simulateLearningModeOKR(N_repetitions, N_trials, w_0, v_0,\n",
    "                     avg_sensitivity_to_pc = 0.01, baseline_gain=0.35,\n",
    "                     history_samples = 0, PF_samples = []):\n",
    "\n",
    "    inds_random = np.arange(N_PFs)\n",
    "\n",
    "    eligibility_windows = v_0@states.T\n",
    "\n",
    "    if history_samples == 0:\n",
    "            history_samples = N_repetitions\n",
    "    sample_interval = int(np.floor(N_trials/history_samples))\n",
    "\n",
    "    eye_history = np.zeros((N_repetitions, len(t), history_samples))\n",
    "    eye_history_no_noise = np.zeros((N_repetitions, len(t), history_samples))\n",
    "\n",
    "    hist_history_PF = np.zeros((N_repetitions, len(PF_samples) + 1, N_bins,history_samples))\n",
    "    state_counts = np.zeros((N_repetitions, len(PF_samples)+1, N_states))\n",
    "\n",
    "    if metaplasticity and len(PF_samples) > 0:\n",
    "        vs = np.zeros((N_repetitions, len(PF_samples), N_states, history_samples))\n",
    "\n",
    "    w_final = np.zeros((N_repetitions, N_PFs))\n",
    "    w_avg_final = np.zeros((N_repetitions, N_PFs))\n",
    "\n",
    "    cf_prob_avg = np.zeros((N_repetitions, len(t), history_samples)) # Calculate CF probability \n",
    "\n",
    "    if len(PF_samples) > 0:\n",
    "        w_test = np.zeros((N_repetitions, len(PF_samples), history_samples))\n",
    "    w_mean = np.zeros((N_repetitions, history_samples))\n",
    "\n",
    "    for rep in tqdm.notebook.trange(N_repetitions):\n",
    "        w = np.ones(N_PFs)*w_max/2\n",
    "        w_avg = np.ones(N_PFs)*w_max/2\n",
    "        n_to_divide = 0\n",
    "        sample_count = 1\n",
    "\n",
    "        # hist_history_rep = np.zeros((len(PF_samples)+1, N_bins))\n",
    "        hist_history_rep = np.zeros((len(PF_samples)+1, N_bins))\n",
    "        cf_prob_rep = np.zeros(len(t))\n",
    "        \n",
    "        for tt in tqdm.notebook.trange(N_trials, leave=False):  \n",
    "\n",
    "            # Generate PF spikes for sample PC\n",
    "            pf_spikes = rng.random(size=pf_spike_rates.shape) < pf_spike_rates[inds_random,:]*dt\n",
    "            pf_spikes_weighted = w@pf_spikes\n",
    "            pc_current_exc = dt*conv_circ(pf_spikes_weighted/dt, exc_current_kernel)\n",
    "\n",
    "            # Generate PC firing rate for rest of population\n",
    "            pc_current_exc_avg_bef = w_avg[inds_random]@(pf_spike_rates)\n",
    "            pc_current_exc_avg_no_noise = dt*conv_circ(pc_current_exc_avg_bef, exc_current_kernel)\n",
    "\n",
    "            pc_current_exc_avg = dt*conv_circ(pc_current_exc_avg_bef, exc_current_kernel)\n",
    "\n",
    "            # Subtract MLI current\n",
    "            # mli_current_same = dt*conv_circ(np.sum(pf_spikes/dt, axis=0), inh_current_kernel)\n",
    "\n",
    "            pc_current = pc_current_exc - w_mli*mli_current\n",
    "            pc_current_avg = pc_current_exc_avg - w_mli*mli_current\n",
    "            pc_current_avg_no_noise = pc_current_exc_avg_no_noise - w_mli*mli_current\n",
    "\n",
    "            # Generate eye movement\n",
    "            eye = (pc_eye_sensitivity*(pc_current_avg*(1-avg_sensitivity_to_pc) + pc_current*avg_sensitivity_to_pc)\n",
    "                   ) + baseline_gain*direct_pathway\n",
    "            \n",
    "            # Calculate retinal slip\n",
    "            # Assume we are combining N PCs (s.t. avg_sensitivity_to_pc = 1/N)\n",
    "            # Let the random_target represent the effect of the remaining N-1\n",
    "    #        retinal_slip = random_target*np.sqrt(avg_sensitivity_to_pc*(1-avg_sensitivity_to_pc)) - eye*avg_sensitivity_to_pc\n",
    "            retinal_slip = stim_vel - eye\n",
    "\n",
    "            # Calculate CF probability (here, contraversive RS)\n",
    "            cf_prob = retinal_slip_f(retinal_slip)\n",
    "            # Delay the CF probability distribution\n",
    "\n",
    "            # Rescale so that the average rate over the block is ~1 Hz\n",
    "            if np.sum(cf_prob) > 0:\n",
    "                cf_prob /= np.sum(cf_prob)\n",
    "                cf_prob *= avg_cf_rate*T\n",
    "            cf_prob_shifted = np.roll(cf_prob, int(delay/dt))\n",
    "            # cf_prob_shifted = conv_circ(cf_prob, delay_distr)\n",
    "\n",
    "            if tt > 0 and tt % sample_interval == 0:\n",
    "                eye_history[rep,:,sample_count] = pc_eye_sensitivity*pc_current\n",
    "                eye_history_no_noise[rep, :,sample_count] = pc_eye_sensitivity*pc_current_avg_no_noise\n",
    "                \n",
    "                hist_history_PF[rep, :, :, sample_count] += hist_history_rep\n",
    "                cf_prob_avg[rep, :, sample_count] += cf_prob_rep/n_to_divide\n",
    "                w_mean[rep, sample_count] = np.mean(w)\n",
    "                if len(PF_samples) > 0:\n",
    "                    w_test[rep, :, sample_count] = np.copy(w[PF_samples])\n",
    "                    if metaplasticity:\n",
    "                        vs[rep,:, :, sample_count] = np.copy(v[PF_samples,:])\n",
    "                sample_count += 1\n",
    "                \n",
    "            ## Choose CF spikes\n",
    "            if np.sum(cf_prob) > 0:\n",
    "                # cf_prob_cdf = np.cumsum(cf_prob)\n",
    "                # cf_spike_time = np.interp(rng.random(), cf_prob_cdf, t)+0.12\n",
    "                cf_prob_rep += cf_prob_shifted\n",
    "                n_to_divide += 1\n",
    "                cf_prob_cdf = np.cumsum(cf_prob_shifted)\n",
    "                cf_spike_time = np.interp(rng.random(), cf_prob_cdf, t)\n",
    "\n",
    "            ## Do plasticity\n",
    "            for j in range(N_PFs):\n",
    "                eligibility_window = eligibility_windows[j,:]\n",
    "                ## Firing rates\n",
    "                \n",
    "                pf_rate = pf_spike_rates[inds_random[j],:]\n",
    "                if np.sum(cf_prob_shifted) > 0:\n",
    "                    pf_eligibility = dt*conv_circ(pf_rate,eligibility_window)\n",
    "                    dw_avg_d = np.sum(pf_eligibility*cf_prob_shifted)\n",
    "                else:\n",
    "                    dw_avg_d = 0\n",
    "                dw_avg_p = np.sum(pf_rate*dt)\n",
    "\n",
    "                w_avg[j] += -dw_ltd_avg*dw_avg_d + dw_ltp_avg*dw_avg_p\n",
    "#                 dw_d_avg[rep, j,tt] = dw_avg_d\n",
    "#                 dw_p_avg[rep, j,tt] = dw_avg_p\n",
    "\n",
    "                for s in np.where(pf_spikes[j,:])[0]:\n",
    "#                     dw_p[rep, j,tt] += 1\n",
    "                    w[j] += dw_ltp\n",
    "\n",
    "                    if np.sum(cf_prob) > 0:\n",
    "                        spike_time_1 = cf_spike_time - t[s]\n",
    "                        # use circular assumption for simplicity\n",
    "    #                     spike_time_2 = spike_time_1 - T_max_full + T_min_full\n",
    "                        spike_time_2 = spike_time_1 + T_max_full - T_min_full\n",
    "\n",
    "                        if 0 <= spike_time_1 <= 0.2 or 0<= spike_time_2 <= 0.2:\n",
    "                            if 0<=spike_time_1<=0.2:\n",
    "                                cf_spike_ind = int(np.floor((spike_time_1)/dt))\n",
    "                                active_timer = np.digitize(spike_time_1, edges*dt)-1\n",
    "                                hist_bin = np.digitize(spike_time_1, hist_edges)-1\n",
    "                            else:\n",
    "                                cf_spike_ind = int(np.floor((spike_time_2)/dt))\n",
    "                                active_timer = np.digitize(spike_time_2, edges*dt)-1\n",
    "                                hist_bin = np.digitize(spike_time_2, hist_edges)-1\n",
    "\n",
    "                            state_counts[rep, 0, active_timer] += 1\n",
    "                            hist_history_rep[0, hist_bin] += 1\n",
    "                            for p in range(len(PF_samples)):\n",
    "                                if j == PF_samples[p]:\n",
    "                                    state_counts[rep, p+1, active_timer] += 1\n",
    "                                    hist_history_rep[p+1, hist_bin] += 1\n",
    "\n",
    "                            ## Plasticity\n",
    "                            dw = eligibility_window[cf_spike_ind]\n",
    "#                             dw_d[rep, j,tt] += dw\n",
    "                            w[j] -= dw*dw_ltd\n",
    "\n",
    "                if w_avg[j] < w_min: w_avg[j] = w_min\n",
    "                elif w_avg[j] > w_max: w_avg[j] = w_max\n",
    "                w_avg[j] += decay_rate*(w_max/2 - w_avg[j])\n",
    "\n",
    "\n",
    "                if w[j] < w_min: w[j] = w_min\n",
    "                elif w[j] > w_max: w[j] = w_max\n",
    "                w[j] += decay_rate*(w_max/2 - w[j])\n",
    "        w_final[rep,:] = np.copy(w)\n",
    "        w_avg_final[rep,:] = np.copy(w_avg)\n",
    "    return_dict = {\n",
    "        'w_final': w_final,\n",
    "        'w_avg_final': w_avg_final,\n",
    "        'eye_history': eye_history,\n",
    "        'eye_history_no_noise': eye_history_no_noise,\n",
    "        'hist_history_PF': hist_history_PF,\n",
    "        'state_counts': state_counts,\n",
    "        'cf_prob_avg': cf_prob_avg,\n",
    "    }\n",
    "    if len(PF_samples) > 0:\n",
    "        return_dict['w_test'] = w_test\n",
    "        \n",
    "    return return_dict"
   ]
  },
  {
   "cell_type": "markdown",
   "id": "394ab78e",
   "metadata": {},
   "source": [
    "# Untuned"
   ]
  },
  {
   "cell_type": "code",
   "execution_count": 417,
   "id": "ada67dbb",
   "metadata": {},
   "outputs": [],
   "source": [
    "dw_ltd =  1.25e-2\n",
    "dw_ltp = dw_ltd*0.016\n",
    "\n",
    "dw_ltd_avg =  1.25e-2\n",
    "dw_ltp_avg = dw_ltd_avg*0.016"
   ]
  },
  {
   "cell_type": "code",
   "execution_count": 432,
   "id": "bb335bca",
   "metadata": {
    "scrolled": false
   },
   "outputs": [
    {
     "data": {
      "application/vnd.jupyter.widget-view+json": {
       "model_id": "936cedb1447e4fb395c37b4b8468615e",
       "version_major": 2,
       "version_minor": 0
      },
      "text/plain": [
       "  0%|          | 0/30 [00:00<?, ?it/s]"
      ]
     },
     "metadata": {},
     "output_type": "display_data"
    },
    {
     "data": {
      "application/vnd.jupyter.widget-view+json": {
       "model_id": "",
       "version_major": 2,
       "version_minor": 0
      },
      "text/plain": [
       "  0%|          | 0/3600 [00:00<?, ?it/s]"
      ]
     },
     "metadata": {},
     "output_type": "display_data"
    },
    {
     "data": {
      "application/vnd.jupyter.widget-view+json": {
       "model_id": "",
       "version_major": 2,
       "version_minor": 0
      },
      "text/plain": [
       "  0%|          | 0/3600 [00:00<?, ?it/s]"
      ]
     },
     "metadata": {},
     "output_type": "display_data"
    },
    {
     "data": {
      "application/vnd.jupyter.widget-view+json": {
       "model_id": "",
       "version_major": 2,
       "version_minor": 0
      },
      "text/plain": [
       "  0%|          | 0/3600 [00:00<?, ?it/s]"
      ]
     },
     "metadata": {},
     "output_type": "display_data"
    },
    {
     "data": {
      "application/vnd.jupyter.widget-view+json": {
       "model_id": "",
       "version_major": 2,
       "version_minor": 0
      },
      "text/plain": [
       "  0%|          | 0/3600 [00:00<?, ?it/s]"
      ]
     },
     "metadata": {},
     "output_type": "display_data"
    },
    {
     "data": {
      "application/vnd.jupyter.widget-view+json": {
       "model_id": "",
       "version_major": 2,
       "version_minor": 0
      },
      "text/plain": [
       "  0%|          | 0/3600 [00:00<?, ?it/s]"
      ]
     },
     "metadata": {},
     "output_type": "display_data"
    },
    {
     "data": {
      "application/vnd.jupyter.widget-view+json": {
       "model_id": "",
       "version_major": 2,
       "version_minor": 0
      },
      "text/plain": [
       "  0%|          | 0/3600 [00:00<?, ?it/s]"
      ]
     },
     "metadata": {},
     "output_type": "display_data"
    },
    {
     "data": {
      "application/vnd.jupyter.widget-view+json": {
       "model_id": "",
       "version_major": 2,
       "version_minor": 0
      },
      "text/plain": [
       "  0%|          | 0/3600 [00:00<?, ?it/s]"
      ]
     },
     "metadata": {},
     "output_type": "display_data"
    },
    {
     "data": {
      "application/vnd.jupyter.widget-view+json": {
       "model_id": "",
       "version_major": 2,
       "version_minor": 0
      },
      "text/plain": [
       "  0%|          | 0/3600 [00:00<?, ?it/s]"
      ]
     },
     "metadata": {},
     "output_type": "display_data"
    },
    {
     "data": {
      "application/vnd.jupyter.widget-view+json": {
       "model_id": "",
       "version_major": 2,
       "version_minor": 0
      },
      "text/plain": [
       "  0%|          | 0/3600 [00:00<?, ?it/s]"
      ]
     },
     "metadata": {},
     "output_type": "display_data"
    },
    {
     "data": {
      "application/vnd.jupyter.widget-view+json": {
       "model_id": "",
       "version_major": 2,
       "version_minor": 0
      },
      "text/plain": [
       "  0%|          | 0/3600 [00:00<?, ?it/s]"
      ]
     },
     "metadata": {},
     "output_type": "display_data"
    },
    {
     "data": {
      "application/vnd.jupyter.widget-view+json": {
       "model_id": "",
       "version_major": 2,
       "version_minor": 0
      },
      "text/plain": [
       "  0%|          | 0/3600 [00:00<?, ?it/s]"
      ]
     },
     "metadata": {},
     "output_type": "display_data"
    },
    {
     "data": {
      "application/vnd.jupyter.widget-view+json": {
       "model_id": "",
       "version_major": 2,
       "version_minor": 0
      },
      "text/plain": [
       "  0%|          | 0/3600 [00:00<?, ?it/s]"
      ]
     },
     "metadata": {},
     "output_type": "display_data"
    },
    {
     "data": {
      "application/vnd.jupyter.widget-view+json": {
       "model_id": "",
       "version_major": 2,
       "version_minor": 0
      },
      "text/plain": [
       "  0%|          | 0/3600 [00:00<?, ?it/s]"
      ]
     },
     "metadata": {},
     "output_type": "display_data"
    },
    {
     "data": {
      "application/vnd.jupyter.widget-view+json": {
       "model_id": "",
       "version_major": 2,
       "version_minor": 0
      },
      "text/plain": [
       "  0%|          | 0/3600 [00:00<?, ?it/s]"
      ]
     },
     "metadata": {},
     "output_type": "display_data"
    },
    {
     "data": {
      "application/vnd.jupyter.widget-view+json": {
       "model_id": "",
       "version_major": 2,
       "version_minor": 0
      },
      "text/plain": [
       "  0%|          | 0/3600 [00:00<?, ?it/s]"
      ]
     },
     "metadata": {},
     "output_type": "display_data"
    },
    {
     "data": {
      "application/vnd.jupyter.widget-view+json": {
       "model_id": "",
       "version_major": 2,
       "version_minor": 0
      },
      "text/plain": [
       "  0%|          | 0/3600 [00:00<?, ?it/s]"
      ]
     },
     "metadata": {},
     "output_type": "display_data"
    },
    {
     "data": {
      "application/vnd.jupyter.widget-view+json": {
       "model_id": "",
       "version_major": 2,
       "version_minor": 0
      },
      "text/plain": [
       "  0%|          | 0/3600 [00:00<?, ?it/s]"
      ]
     },
     "metadata": {},
     "output_type": "display_data"
    },
    {
     "data": {
      "application/vnd.jupyter.widget-view+json": {
       "model_id": "",
       "version_major": 2,
       "version_minor": 0
      },
      "text/plain": [
       "  0%|          | 0/3600 [00:00<?, ?it/s]"
      ]
     },
     "metadata": {},
     "output_type": "display_data"
    },
    {
     "data": {
      "application/vnd.jupyter.widget-view+json": {
       "model_id": "",
       "version_major": 2,
       "version_minor": 0
      },
      "text/plain": [
       "  0%|          | 0/3600 [00:00<?, ?it/s]"
      ]
     },
     "metadata": {},
     "output_type": "display_data"
    },
    {
     "data": {
      "application/vnd.jupyter.widget-view+json": {
       "model_id": "",
       "version_major": 2,
       "version_minor": 0
      },
      "text/plain": [
       "  0%|          | 0/3600 [00:00<?, ?it/s]"
      ]
     },
     "metadata": {},
     "output_type": "display_data"
    },
    {
     "data": {
      "application/vnd.jupyter.widget-view+json": {
       "model_id": "",
       "version_major": 2,
       "version_minor": 0
      },
      "text/plain": [
       "  0%|          | 0/3600 [00:00<?, ?it/s]"
      ]
     },
     "metadata": {},
     "output_type": "display_data"
    },
    {
     "data": {
      "application/vnd.jupyter.widget-view+json": {
       "model_id": "",
       "version_major": 2,
       "version_minor": 0
      },
      "text/plain": [
       "  0%|          | 0/3600 [00:00<?, ?it/s]"
      ]
     },
     "metadata": {},
     "output_type": "display_data"
    },
    {
     "data": {
      "application/vnd.jupyter.widget-view+json": {
       "model_id": "",
       "version_major": 2,
       "version_minor": 0
      },
      "text/plain": [
       "  0%|          | 0/3600 [00:00<?, ?it/s]"
      ]
     },
     "metadata": {},
     "output_type": "display_data"
    },
    {
     "data": {
      "application/vnd.jupyter.widget-view+json": {
       "model_id": "",
       "version_major": 2,
       "version_minor": 0
      },
      "text/plain": [
       "  0%|          | 0/3600 [00:00<?, ?it/s]"
      ]
     },
     "metadata": {},
     "output_type": "display_data"
    },
    {
     "data": {
      "application/vnd.jupyter.widget-view+json": {
       "model_id": "",
       "version_major": 2,
       "version_minor": 0
      },
      "text/plain": [
       "  0%|          | 0/3600 [00:00<?, ?it/s]"
      ]
     },
     "metadata": {},
     "output_type": "display_data"
    },
    {
     "data": {
      "application/vnd.jupyter.widget-view+json": {
       "model_id": "",
       "version_major": 2,
       "version_minor": 0
      },
      "text/plain": [
       "  0%|          | 0/3600 [00:00<?, ?it/s]"
      ]
     },
     "metadata": {},
     "output_type": "display_data"
    },
    {
     "data": {
      "application/vnd.jupyter.widget-view+json": {
       "model_id": "",
       "version_major": 2,
       "version_minor": 0
      },
      "text/plain": [
       "  0%|          | 0/3600 [00:00<?, ?it/s]"
      ]
     },
     "metadata": {},
     "output_type": "display_data"
    },
    {
     "data": {
      "application/vnd.jupyter.widget-view+json": {
       "model_id": "",
       "version_major": 2,
       "version_minor": 0
      },
      "text/plain": [
       "  0%|          | 0/3600 [00:00<?, ?it/s]"
      ]
     },
     "metadata": {},
     "output_type": "display_data"
    },
    {
     "data": {
      "application/vnd.jupyter.widget-view+json": {
       "model_id": "",
       "version_major": 2,
       "version_minor": 0
      },
      "text/plain": [
       "  0%|          | 0/3600 [00:00<?, ?it/s]"
      ]
     },
     "metadata": {},
     "output_type": "display_data"
    },
    {
     "data": {
      "application/vnd.jupyter.widget-view+json": {
       "model_id": "",
       "version_major": 2,
       "version_minor": 0
      },
      "text/plain": [
       "  0%|          | 0/3600 [00:00<?, ?it/s]"
      ]
     },
     "metadata": {},
     "output_type": "display_data"
    }
   ],
   "source": [
    "sol = simulateLearningModeOKR(30, 3600, np.arange(N_PFs)*w_max/2, v_0, PF_samples=[38, 54,80], history_samples = 20,\n",
    "                             baseline_gain=0.35)"
   ]
  },
  {
   "cell_type": "code",
   "execution_count": 328,
   "id": "b198c483",
   "metadata": {},
   "outputs": [
    {
     "data": {
      "application/vnd.jupyter.widget-view+json": {
       "model_id": "816d62fa29bf456cbe8a808411404e9a",
       "version_major": 2,
       "version_minor": 0
      },
      "text/plain": [
       "  0%|          | 0/10 [00:00<?, ?it/s]"
      ]
     },
     "metadata": {},
     "output_type": "display_data"
    },
    {
     "data": {
      "application/vnd.jupyter.widget-view+json": {
       "model_id": "",
       "version_major": 2,
       "version_minor": 0
      },
      "text/plain": [
       "  0%|          | 0/3600 [00:00<?, ?it/s]"
      ]
     },
     "metadata": {},
     "output_type": "display_data"
    },
    {
     "data": {
      "application/vnd.jupyter.widget-view+json": {
       "model_id": "",
       "version_major": 2,
       "version_minor": 0
      },
      "text/plain": [
       "  0%|          | 0/3600 [00:00<?, ?it/s]"
      ]
     },
     "metadata": {},
     "output_type": "display_data"
    },
    {
     "data": {
      "application/vnd.jupyter.widget-view+json": {
       "model_id": "",
       "version_major": 2,
       "version_minor": 0
      },
      "text/plain": [
       "  0%|          | 0/3600 [00:00<?, ?it/s]"
      ]
     },
     "metadata": {},
     "output_type": "display_data"
    },
    {
     "data": {
      "application/vnd.jupyter.widget-view+json": {
       "model_id": "",
       "version_major": 2,
       "version_minor": 0
      },
      "text/plain": [
       "  0%|          | 0/3600 [00:00<?, ?it/s]"
      ]
     },
     "metadata": {},
     "output_type": "display_data"
    },
    {
     "data": {
      "application/vnd.jupyter.widget-view+json": {
       "model_id": "",
       "version_major": 2,
       "version_minor": 0
      },
      "text/plain": [
       "  0%|          | 0/3600 [00:00<?, ?it/s]"
      ]
     },
     "metadata": {},
     "output_type": "display_data"
    },
    {
     "data": {
      "application/vnd.jupyter.widget-view+json": {
       "model_id": "",
       "version_major": 2,
       "version_minor": 0
      },
      "text/plain": [
       "  0%|          | 0/3600 [00:00<?, ?it/s]"
      ]
     },
     "metadata": {},
     "output_type": "display_data"
    },
    {
     "data": {
      "application/vnd.jupyter.widget-view+json": {
       "model_id": "",
       "version_major": 2,
       "version_minor": 0
      },
      "text/plain": [
       "  0%|          | 0/3600 [00:00<?, ?it/s]"
      ]
     },
     "metadata": {},
     "output_type": "display_data"
    },
    {
     "data": {
      "application/vnd.jupyter.widget-view+json": {
       "model_id": "",
       "version_major": 2,
       "version_minor": 0
      },
      "text/plain": [
       "  0%|          | 0/3600 [00:00<?, ?it/s]"
      ]
     },
     "metadata": {},
     "output_type": "display_data"
    },
    {
     "data": {
      "application/vnd.jupyter.widget-view+json": {
       "model_id": "",
       "version_major": 2,
       "version_minor": 0
      },
      "text/plain": [
       "  0%|          | 0/3600 [00:00<?, ?it/s]"
      ]
     },
     "metadata": {},
     "output_type": "display_data"
    },
    {
     "data": {
      "application/vnd.jupyter.widget-view+json": {
       "model_id": "",
       "version_major": 2,
       "version_minor": 0
      },
      "text/plain": [
       "  0%|          | 0/3600 [00:00<?, ?it/s]"
      ]
     },
     "metadata": {},
     "output_type": "display_data"
    }
   ],
   "source": [
    "sol_2 = simulateLearningModeOKR(10, 3600, np.arange(N_PFs)*w_max/2, v_0, PF_samples=[38, 54,80], history_samples = 20,\n",
    "                             baseline_gain=0.35)"
   ]
  },
  {
   "cell_type": "code",
   "execution_count": 332,
   "id": "a65c85e9",
   "metadata": {},
   "outputs": [
    {
     "data": {
      "application/vnd.jupyter.widget-view+json": {
       "model_id": "7ccae7bc9a2e4941b93c1ce3c00c9c3a",
       "version_major": 2,
       "version_minor": 0
      },
      "text/plain": [
       "  0%|          | 0/10 [00:00<?, ?it/s]"
      ]
     },
     "metadata": {},
     "output_type": "display_data"
    },
    {
     "data": {
      "application/vnd.jupyter.widget-view+json": {
       "model_id": "",
       "version_major": 2,
       "version_minor": 0
      },
      "text/plain": [
       "  0%|          | 0/3600 [00:00<?, ?it/s]"
      ]
     },
     "metadata": {},
     "output_type": "display_data"
    },
    {
     "data": {
      "application/vnd.jupyter.widget-view+json": {
       "model_id": "",
       "version_major": 2,
       "version_minor": 0
      },
      "text/plain": [
       "  0%|          | 0/3600 [00:00<?, ?it/s]"
      ]
     },
     "metadata": {},
     "output_type": "display_data"
    },
    {
     "data": {
      "application/vnd.jupyter.widget-view+json": {
       "model_id": "",
       "version_major": 2,
       "version_minor": 0
      },
      "text/plain": [
       "  0%|          | 0/3600 [00:00<?, ?it/s]"
      ]
     },
     "metadata": {},
     "output_type": "display_data"
    },
    {
     "data": {
      "application/vnd.jupyter.widget-view+json": {
       "model_id": "",
       "version_major": 2,
       "version_minor": 0
      },
      "text/plain": [
       "  0%|          | 0/3600 [00:00<?, ?it/s]"
      ]
     },
     "metadata": {},
     "output_type": "display_data"
    },
    {
     "data": {
      "application/vnd.jupyter.widget-view+json": {
       "model_id": "",
       "version_major": 2,
       "version_minor": 0
      },
      "text/plain": [
       "  0%|          | 0/3600 [00:00<?, ?it/s]"
      ]
     },
     "metadata": {},
     "output_type": "display_data"
    },
    {
     "data": {
      "application/vnd.jupyter.widget-view+json": {
       "model_id": "",
       "version_major": 2,
       "version_minor": 0
      },
      "text/plain": [
       "  0%|          | 0/3600 [00:00<?, ?it/s]"
      ]
     },
     "metadata": {},
     "output_type": "display_data"
    },
    {
     "data": {
      "application/vnd.jupyter.widget-view+json": {
       "model_id": "",
       "version_major": 2,
       "version_minor": 0
      },
      "text/plain": [
       "  0%|          | 0/3600 [00:00<?, ?it/s]"
      ]
     },
     "metadata": {},
     "output_type": "display_data"
    },
    {
     "data": {
      "application/vnd.jupyter.widget-view+json": {
       "model_id": "",
       "version_major": 2,
       "version_minor": 0
      },
      "text/plain": [
       "  0%|          | 0/3600 [00:00<?, ?it/s]"
      ]
     },
     "metadata": {},
     "output_type": "display_data"
    },
    {
     "data": {
      "application/vnd.jupyter.widget-view+json": {
       "model_id": "",
       "version_major": 2,
       "version_minor": 0
      },
      "text/plain": [
       "  0%|          | 0/3600 [00:00<?, ?it/s]"
      ]
     },
     "metadata": {},
     "output_type": "display_data"
    },
    {
     "data": {
      "application/vnd.jupyter.widget-view+json": {
       "model_id": "",
       "version_major": 2,
       "version_minor": 0
      },
      "text/plain": [
       "  0%|          | 0/3600 [00:00<?, ?it/s]"
      ]
     },
     "metadata": {},
     "output_type": "display_data"
    }
   ],
   "source": [
    "sol_3 = simulateLearningModeOKR(10, 3600, np.arange(N_PFs)*w_max/2, v_0, PF_samples=[38, 54,80], history_samples = 20,\n",
    "                             baseline_gain=0.35)"
   ]
  },
  {
   "cell_type": "code",
   "execution_count": 317,
   "id": "1ef83c91",
   "metadata": {},
   "outputs": [
    {
     "data": {
      "text/plain": [
       "<BarContainer object of 120 artists>"
      ]
     },
     "execution_count": 317,
     "metadata": {},
     "output_type": "execute_result"
    },
    {
     "data": {
      "image/png": "[encoded data removed]",
      "text/plain": [
       "<Figure size 640x480 with 1 Axes>"
      ]
     },
     "metadata": {},
     "output_type": "display_data"
    }
   ],
   "source": [
    "plt.bar(np.arange(N_PFs), np.mean(sol['w_final'],axis=0))"
   ]
  },
  {
   "cell_type": "code",
   "execution_count": 318,
   "id": "8029e35e",
   "metadata": {
    "scrolled": false
   },
   "outputs": [
    {
     "data": {
      "text/plain": [
       "<BarContainer object of 120 artists>"
      ]
     },
     "execution_count": 318,
     "metadata": {},
     "output_type": "execute_result"
    },
    {
     "data": {
      "image/png": "[encoded data removed]",
      "text/plain": [
       "<Figure size 640x480 with 1 Axes>"
      ]
     },
     "metadata": {},
     "output_type": "display_data"
    }
   ],
   "source": [
    "plt.bar(np.arange(N_PFs), w_avg)"
   ]
  },
  {
   "cell_type": "code",
   "execution_count": 419,
   "id": "21164459",
   "metadata": {},
   "outputs": [],
   "source": [
    "pc_current_avg_all = np.vstack((sol['eye_history_no_noise'],\n",
    "                                sol_2['eye_history_no_noise'], \n",
    "                                sol_3['eye_history_no_noise']))\n",
    "\n",
    "pc_current_all = np.vstack((sol['eye_history'],\n",
    "                            sol_2['eye_history'], \n",
    "                            sol_3['eye_history']))"
   ]
  },
  {
   "cell_type": "code",
   "execution_count": 434,
   "id": "65087b83",
   "metadata": {},
   "outputs": [],
   "source": [
    "pc_current_avg_all = sol['eye_history_no_noise']\n",
    "pc_current_all = sol['eye_history']\n",
    "\n",
    "eye_learned_final = ((pc_current_avg_all*(1-avg_sensitivity_to_pc) + pc_current_all*avg_sensitivity_to_pc)\n",
    "                   ) "
   ]
  },
  {
   "cell_type": "code",
   "execution_count": 435,
   "id": "2efec6f2",
   "metadata": {},
   "outputs": [],
   "source": [
    "eye_history_mu = np.mean(eye_learned_final ,axis=0)\n",
    "eye_history_std = np.std(eye_learned_final,axis=0)"
   ]
  },
  {
   "cell_type": "code",
   "execution_count": 444,
   "id": "7ccc4b9d",
   "metadata": {
    "scrolled": false
   },
   "outputs": [
    {
     "data": {
      "text/plain": [
       "[<matplotlib.lines.Line2D at 0x7f91e6aad9f0>]"
      ]
     },
     "execution_count": 444,
     "metadata": {},
     "output_type": "execute_result"
    },
    {
     "data": {
      "image/png": "[encoded data removed]",
      "text/plain": [
       "<Figure size 640x480 with 1 Axes>"
      ]
     },
     "metadata": {},
     "output_type": "display_data"
    }
   ],
   "source": [
    "# plt.fill_between(t, eye_history_mu[:,-1]-eye_history_std[:,-1], eye_history_mu[:,-1]+eye_history_std[:,-1], alpha=0.5)\n",
    "plt.plot(t, eye_history_mu[:,-1], c='C2')\n",
    "plt.plot(t, eye_history_mu_tuned[:,-1],c='C8')\n",
    "plt.plot(t, stim_vel - direct_pathway*0.35,c='C0',ls='--')\n",
    "plt.plot(t, stim_vel, c='k')\n",
    "# plt.plot(t, direct_pathway)"
   ]
  },
  {
   "cell_type": "code",
   "execution_count": 482,
   "id": "b4cab890",
   "metadata": {},
   "outputs": [],
   "source": [
    "hist_history_untuned = np.vstack((sol['hist_history_PF'], sol_2['hist_history_PF'], sol_3['hist_history_PF'] ))\n",
    "eye_history_untuned = np.vstack((sol['eye_history'], sol_2['eye_history'], sol_3['eye_history'] ))\n",
    "eye_history_no_noise_untuned = np.vstack((sol['eye_history_no_noise'], \n",
    "                                          sol_2['eye_history_no_noise'], sol_3['eye_history_no_noise'] ))\n",
    "w_final_untuned = np.vstack((sol['w_final'], sol_2['w_final'], sol_3['w_final'] ))\n",
    "w_avg_final_untuned = np.vstack((sol['w_avg_final'], sol_2['w_avg_final'], sol_3['w_avg_final'] ))\n"
   ]
  },
  {
   "cell_type": "code",
   "execution_count": 483,
   "id": "dfb71b66",
   "metadata": {},
   "outputs": [],
   "source": [
    "np.save('files/okr/hist_history_untuned.npy',hist_history_untuned)\n",
    "np.save('files/okr/eye_history_untuned.npy',eye_history_untuned)\n",
    "np.save('files/okr/eye_history_no_noise_untuned.npy',eye_history_no_noise_untuned)\n",
    "np.save('files/okr/w_final_untuned.npy',w_final_untuned )\n",
    "np.save('files/okr/w_avg_final_untuned.npy',w_avg_final_untuned )"
   ]
  },
  {
   "cell_type": "code",
   "execution_count": 467,
   "id": "dfb5baca",
   "metadata": {},
   "outputs": [],
   "source": [
    "hist_end = np.sum(hist_history_untuned[:,:,:,-1], axis=0)"
   ]
  },
  {
   "cell_type": "code",
   "execution_count": 488,
   "id": "90cf32fc",
   "metadata": {},
   "outputs": [
    {
     "data": {
      "image/png": "[encoded data removed]",
      "text/plain": [
       "<Figure size 75x50 with 1 Axes>"
      ]
     },
     "metadata": {},
     "output_type": "display_data"
    }
   ],
   "source": [
    "plt.figure(figsize=(0.75,0.5))\n",
    "\n",
    "i = 0\n",
    "\n",
    "plt.bar(hist_edges[:-1], hist_end[i,:]/np.sum(hist_end[i,:]), hist_edges[1],align='edge', facecolor=(0.7,)*3)\n",
    "plt.xlim([0, 0.2])\n",
    "plt.ylim([0, 0.015])\n",
    "\n",
    "ax = plt.gca()\n",
    "ax.spines['top'].set_visible(False)\n",
    "ax.spines['right'].set_visible(False)\n",
    "\n",
    "ax.set_yticks(np.linspace(0, 0.015, 4))\n",
    "ax.set_yticklabels([0,'','',0.015])\n",
    "ax.set_xticks([0, 0.1,0.2])\n",
    "ax.set_xticklabels([0,'',0.2])\n",
    "\n",
    "plt.savefig('figures/okr-hist-untuned-0.pdf')"
   ]
  },
  {
   "cell_type": "code",
   "execution_count": 501,
   "id": "507a3ae0",
   "metadata": {},
   "outputs": [
    {
     "data": {
      "image/png": "[encoded data removed]",
      "text/plain": [
       "<Figure size 75x50 with 1 Axes>"
      ]
     },
     "metadata": {},
     "output_type": "display_data"
    }
   ],
   "source": [
    "plt.figure(figsize=(0.75,0.5))\n",
    "\n",
    "i = 3\n",
    "\n",
    "plt.bar(hist_edges[:-1], hist_end[i,:]/np.sum(hist_end[i,:]), hist_edges[1],align='edge', facecolor=(0.7,)*3)\n",
    "plt.xlim([0, 0.2])\n",
    "plt.ylim([0, 0.04])\n",
    "\n",
    "ax = plt.gca()\n",
    "ax.spines['top'].set_visible(False)\n",
    "ax.spines['right'].set_visible(False)\n",
    "\n",
    "ax.set_yticks(np.linspace(0, 0.04, 4))\n",
    "ax.set_yticklabels([0,'','',0.04])\n",
    "ax.set_xticks([0, 0.1,0.2])\n",
    "ax.set_xticklabels([0,'',0.2])\n",
    "\n",
    "plt.savefig('figures/okr-hist-untuned-3.pdf')"
   ]
  },
  {
   "cell_type": "code",
   "execution_count": 460,
   "id": "5270ff7c",
   "metadata": {},
   "outputs": [
    {
     "data": {
      "image/png": "[encoded data removed]",
      "text/plain": [
       "<Figure size 640x480 with 1 Axes>"
      ]
     },
     "metadata": {},
     "output_type": "display_data"
    }
   ],
   "source": [
    "# plt.figure(figsize=(4,3))\n",
    "for i in range(1, history_samples):\n",
    "    plt.plot(t, sol['eye_history_no_noise'][0,:,i],c=(1-cs[i],)*3)\n",
    "plt.xlabel('Time (s)')\n",
    "plt.ylabel('Eye mov\\'t response\\n (deg/s)')\n",
    "plt.tight_layout()\n",
    "# plt.savefig('2024-05-22/untuned-shuffled-before-eye-evol.png')\n",
    "# plt.savefig('2024-05-24/tuned-shuffled-eye-evol.png')"
   ]
  },
  {
   "cell_type": "markdown",
   "id": "5342ac51",
   "metadata": {},
   "source": [
    "# Tuned"
   ]
  },
  {
   "cell_type": "code",
   "execution_count": 447,
   "id": "ca398741",
   "metadata": {},
   "outputs": [],
   "source": [
    "dw_ltd =  4e-2\n",
    "dw_ltp = dw_ltd*0.016\n",
    "\n",
    "dw_ltd_avg =  4e-2\n",
    "dw_ltp_avg = dw_ltd_avg*0.016"
   ]
  },
  {
   "cell_type": "code",
   "execution_count": 448,
   "id": "a03a0cad",
   "metadata": {
    "scrolled": true
   },
   "outputs": [
    {
     "data": {
      "application/vnd.jupyter.widget-view+json": {
       "model_id": "b6cd4c88a2674a5e90fd84550fbde9ea",
       "version_major": 2,
       "version_minor": 0
      },
      "text/plain": [
       "  0%|          | 0/30 [00:00<?, ?it/s]"
      ]
     },
     "metadata": {},
     "output_type": "display_data"
    },
    {
     "data": {
      "application/vnd.jupyter.widget-view+json": {
       "model_id": "",
       "version_major": 2,
       "version_minor": 0
      },
      "text/plain": [
       "  0%|          | 0/3600 [00:00<?, ?it/s]"
      ]
     },
     "metadata": {},
     "output_type": "display_data"
    },
    {
     "data": {
      "application/vnd.jupyter.widget-view+json": {
       "model_id": "",
       "version_major": 2,
       "version_minor": 0
      },
      "text/plain": [
       "  0%|          | 0/3600 [00:00<?, ?it/s]"
      ]
     },
     "metadata": {},
     "output_type": "display_data"
    },
    {
     "data": {
      "application/vnd.jupyter.widget-view+json": {
       "model_id": "",
       "version_major": 2,
       "version_minor": 0
      },
      "text/plain": [
       "  0%|          | 0/3600 [00:00<?, ?it/s]"
      ]
     },
     "metadata": {},
     "output_type": "display_data"
    },
    {
     "data": {
      "application/vnd.jupyter.widget-view+json": {
       "model_id": "",
       "version_major": 2,
       "version_minor": 0
      },
      "text/plain": [
       "  0%|          | 0/3600 [00:00<?, ?it/s]"
      ]
     },
     "metadata": {},
     "output_type": "display_data"
    },
    {
     "data": {
      "application/vnd.jupyter.widget-view+json": {
       "model_id": "",
       "version_major": 2,
       "version_minor": 0
      },
      "text/plain": [
       "  0%|          | 0/3600 [00:00<?, ?it/s]"
      ]
     },
     "metadata": {},
     "output_type": "display_data"
    },
    {
     "data": {
      "application/vnd.jupyter.widget-view+json": {
       "model_id": "",
       "version_major": 2,
       "version_minor": 0
      },
      "text/plain": [
       "  0%|          | 0/3600 [00:00<?, ?it/s]"
      ]
     },
     "metadata": {},
     "output_type": "display_data"
    },
    {
     "data": {
      "application/vnd.jupyter.widget-view+json": {
       "model_id": "",
       "version_major": 2,
       "version_minor": 0
      },
      "text/plain": [
       "  0%|          | 0/3600 [00:00<?, ?it/s]"
      ]
     },
     "metadata": {},
     "output_type": "display_data"
    },
    {
     "data": {
      "application/vnd.jupyter.widget-view+json": {
       "model_id": "",
       "version_major": 2,
       "version_minor": 0
      },
      "text/plain": [
       "  0%|          | 0/3600 [00:00<?, ?it/s]"
      ]
     },
     "metadata": {},
     "output_type": "display_data"
    },
    {
     "data": {
      "application/vnd.jupyter.widget-view+json": {
       "model_id": "",
       "version_major": 2,
       "version_minor": 0
      },
      "text/plain": [
       "  0%|          | 0/3600 [00:00<?, ?it/s]"
      ]
     },
     "metadata": {},
     "output_type": "display_data"
    },
    {
     "data": {
      "application/vnd.jupyter.widget-view+json": {
       "model_id": "",
       "version_major": 2,
       "version_minor": 0
      },
      "text/plain": [
       "  0%|          | 0/3600 [00:00<?, ?it/s]"
      ]
     },
     "metadata": {},
     "output_type": "display_data"
    },
    {
     "data": {
      "application/vnd.jupyter.widget-view+json": {
       "model_id": "",
       "version_major": 2,
       "version_minor": 0
      },
      "text/plain": [
       "  0%|          | 0/3600 [00:00<?, ?it/s]"
      ]
     },
     "metadata": {},
     "output_type": "display_data"
    },
    {
     "data": {
      "application/vnd.jupyter.widget-view+json": {
       "model_id": "",
       "version_major": 2,
       "version_minor": 0
      },
      "text/plain": [
       "  0%|          | 0/3600 [00:00<?, ?it/s]"
      ]
     },
     "metadata": {},
     "output_type": "display_data"
    },
    {
     "data": {
      "application/vnd.jupyter.widget-view+json": {
       "model_id": "",
       "version_major": 2,
       "version_minor": 0
      },
      "text/plain": [
       "  0%|          | 0/3600 [00:00<?, ?it/s]"
      ]
     },
     "metadata": {},
     "output_type": "display_data"
    },
    {
     "data": {
      "application/vnd.jupyter.widget-view+json": {
       "model_id": "",
       "version_major": 2,
       "version_minor": 0
      },
      "text/plain": [
       "  0%|          | 0/3600 [00:00<?, ?it/s]"
      ]
     },
     "metadata": {},
     "output_type": "display_data"
    },
    {
     "data": {
      "application/vnd.jupyter.widget-view+json": {
       "model_id": "",
       "version_major": 2,
       "version_minor": 0
      },
      "text/plain": [
       "  0%|          | 0/3600 [00:00<?, ?it/s]"
      ]
     },
     "metadata": {},
     "output_type": "display_data"
    },
    {
     "data": {
      "application/vnd.jupyter.widget-view+json": {
       "model_id": "",
       "version_major": 2,
       "version_minor": 0
      },
      "text/plain": [
       "  0%|          | 0/3600 [00:00<?, ?it/s]"
      ]
     },
     "metadata": {},
     "output_type": "display_data"
    },
    {
     "data": {
      "application/vnd.jupyter.widget-view+json": {
       "model_id": "",
       "version_major": 2,
       "version_minor": 0
      },
      "text/plain": [
       "  0%|          | 0/3600 [00:00<?, ?it/s]"
      ]
     },
     "metadata": {},
     "output_type": "display_data"
    },
    {
     "data": {
      "application/vnd.jupyter.widget-view+json": {
       "model_id": "",
       "version_major": 2,
       "version_minor": 0
      },
      "text/plain": [
       "  0%|          | 0/3600 [00:00<?, ?it/s]"
      ]
     },
     "metadata": {},
     "output_type": "display_data"
    },
    {
     "data": {
      "application/vnd.jupyter.widget-view+json": {
       "model_id": "",
       "version_major": 2,
       "version_minor": 0
      },
      "text/plain": [
       "  0%|          | 0/3600 [00:00<?, ?it/s]"
      ]
     },
     "metadata": {},
     "output_type": "display_data"
    },
    {
     "data": {
      "application/vnd.jupyter.widget-view+json": {
       "model_id": "",
       "version_major": 2,
       "version_minor": 0
      },
      "text/plain": [
       "  0%|          | 0/3600 [00:00<?, ?it/s]"
      ]
     },
     "metadata": {},
     "output_type": "display_data"
    },
    {
     "data": {
      "application/vnd.jupyter.widget-view+json": {
       "model_id": "",
       "version_major": 2,
       "version_minor": 0
      },
      "text/plain": [
       "  0%|          | 0/3600 [00:00<?, ?it/s]"
      ]
     },
     "metadata": {},
     "output_type": "display_data"
    },
    {
     "data": {
      "application/vnd.jupyter.widget-view+json": {
       "model_id": "",
       "version_major": 2,
       "version_minor": 0
      },
      "text/plain": [
       "  0%|          | 0/3600 [00:00<?, ?it/s]"
      ]
     },
     "metadata": {},
     "output_type": "display_data"
    },
    {
     "data": {
      "application/vnd.jupyter.widget-view+json": {
       "model_id": "",
       "version_major": 2,
       "version_minor": 0
      },
      "text/plain": [
       "  0%|          | 0/3600 [00:00<?, ?it/s]"
      ]
     },
     "metadata": {},
     "output_type": "display_data"
    },
    {
     "data": {
      "application/vnd.jupyter.widget-view+json": {
       "model_id": "",
       "version_major": 2,
       "version_minor": 0
      },
      "text/plain": [
       "  0%|          | 0/3600 [00:00<?, ?it/s]"
      ]
     },
     "metadata": {},
     "output_type": "display_data"
    },
    {
     "data": {
      "application/vnd.jupyter.widget-view+json": {
       "model_id": "",
       "version_major": 2,
       "version_minor": 0
      },
      "text/plain": [
       "  0%|          | 0/3600 [00:00<?, ?it/s]"
      ]
     },
     "metadata": {},
     "output_type": "display_data"
    },
    {
     "data": {
      "application/vnd.jupyter.widget-view+json": {
       "model_id": "",
       "version_major": 2,
       "version_minor": 0
      },
      "text/plain": [
       "  0%|          | 0/3600 [00:00<?, ?it/s]"
      ]
     },
     "metadata": {},
     "output_type": "display_data"
    },
    {
     "data": {
      "application/vnd.jupyter.widget-view+json": {
       "model_id": "",
       "version_major": 2,
       "version_minor": 0
      },
      "text/plain": [
       "  0%|          | 0/3600 [00:00<?, ?it/s]"
      ]
     },
     "metadata": {},
     "output_type": "display_data"
    },
    {
     "data": {
      "application/vnd.jupyter.widget-view+json": {
       "model_id": "",
       "version_major": 2,
       "version_minor": 0
      },
      "text/plain": [
       "  0%|          | 0/3600 [00:00<?, ?it/s]"
      ]
     },
     "metadata": {},
     "output_type": "display_data"
    },
    {
     "data": {
      "application/vnd.jupyter.widget-view+json": {
       "model_id": "",
       "version_major": 2,
       "version_minor": 0
      },
      "text/plain": [
       "  0%|          | 0/3600 [00:00<?, ?it/s]"
      ]
     },
     "metadata": {},
     "output_type": "display_data"
    },
    {
     "data": {
      "application/vnd.jupyter.widget-view+json": {
       "model_id": "",
       "version_major": 2,
       "version_minor": 0
      },
      "text/plain": [
       "  0%|          | 0/3600 [00:00<?, ?it/s]"
      ]
     },
     "metadata": {},
     "output_type": "display_data"
    }
   ],
   "source": [
    "v_0_tuned = np.zeros((N_PFs, N_states))\n",
    "v_0_tuned[:,7] = 1\n",
    "\n",
    "sol_tuned = simulateLearningModeOKR(30, 3600, np.arange(N_PFs)*w_max/2, v_0_tuned, PF_samples=[38, 54,80], \n",
    "                                    history_samples = 20)"
   ]
  },
  {
   "cell_type": "code",
   "execution_count": 449,
   "id": "c522633f",
   "metadata": {},
   "outputs": [],
   "source": [
    "pc_current_avg_all_tuned = sol_tuned['eye_history_no_noise']\n",
    "pc_current_all_tuned = sol_tuned['eye_history']\n",
    "\n",
    "eye_learned_final_tuned = ((pc_current_avg_all_tuned*(1-avg_sensitivity_to_pc) \n",
    "                            + pc_current_all_tuned*avg_sensitivity_to_pc)\n",
    "                   ) "
   ]
  },
  {
   "cell_type": "code",
   "execution_count": 450,
   "id": "2c39d247",
   "metadata": {},
   "outputs": [],
   "source": [
    "eye_history_mu_tuned = np.mean(eye_learned_final_tuned,axis=0)\n",
    "eye_history_std_tuned = np.std(eye_learned_final_tuned,axis=0)"
   ]
  },
  {
   "cell_type": "code",
   "execution_count": 451,
   "id": "f8e4d43c",
   "metadata": {},
   "outputs": [
    {
     "data": {
      "text/plain": [
       "(-0.018000000000000016, 0.05400000000000005)"
      ]
     },
     "execution_count": 451,
     "metadata": {},
     "output_type": "execute_result"
    }
   ],
   "source": [
    "t[np.argmin(eye_history_mu_tuned[:,-1])]-0.25, t[np.argmin(eye_history_mu[:,-1])]-0.25"
   ]
  },
  {
   "cell_type": "code",
   "execution_count": 452,
   "id": "5f573575",
   "metadata": {},
   "outputs": [
    {
     "data": {
      "text/plain": [
       "0.07200000000000006"
      ]
     },
     "execution_count": 452,
     "metadata": {},
     "output_type": "execute_result"
    }
   ],
   "source": [
    "t[np.argmin(eye_history_mu[:,-1])] - t[np.argmin(eye_history_mu_tuned[:,-1])]"
   ]
  },
  {
   "cell_type": "code",
   "execution_count": 492,
   "id": "0b8fe009",
   "metadata": {},
   "outputs": [
    {
     "data": {
      "text/plain": [
       "0.6080000000000001"
      ]
     },
     "execution_count": 492,
     "metadata": {},
     "output_type": "execute_result"
    }
   ],
   "source": [
    "t[np.argmin(eye_history_mu[:,-1]),]"
   ]
  },
  {
   "cell_type": "code",
   "execution_count": 498,
   "id": "41a1b02d",
   "metadata": {
    "scrolled": false
   },
   "outputs": [
    {
     "data": {
      "image/png": "[encoded data removed]",
      "text/plain": [
       "<Figure size 150x100 with 1 Axes>"
      ]
     },
     "metadata": {},
     "output_type": "display_data"
    }
   ],
   "source": [
    "plt.figure(figsize=(1.5,1))\n",
    "\n",
    "plt.plot([t[t_min_ind], t[t_max_ind]],[0,0], c='k',lw=1)\n",
    "\n",
    "plt.fill_between(t[t_min_ind:t_max_ind], eye_history_mu[t_min_ind:t_max_ind,-1]-eye_history_std[t_min_ind:t_max_ind,-1], eye_history_mu[t_min_ind:t_max_ind,-1]+eye_history_std[t_min_ind:t_max_ind,-1],\n",
    "                 color='C2', alpha=0.3, edgecolor=None)\n",
    "\n",
    "plt.fill_between(t[t_min_ind:t_max_ind], eye_history_mu_tuned[t_min_ind:t_max_ind,-1]-eye_history_std_tuned[t_min_ind:t_max_ind,-1], \n",
    "                 eye_history_mu_tuned[t_min_ind:t_max_ind,-1]+eye_history_std_tuned[t_min_ind:t_max_ind,-1], color='C8', alpha=0.3, edgecolor=None)\n",
    "\n",
    "plt.plot(t[t_min_ind:t_max_ind], eye_history_mu[t_min_ind:t_max_ind,-1], c='C2',lw=0.75)\n",
    "plt.plot(t[t_min_ind:t_max_ind], eye_history_mu_tuned[t_min_ind:t_max_ind,-1],c='C8',lw=0.75)\n",
    "# plt.plot(t[t_min_ind:t_max_ind], np.minimum(stim_vel[t_min_ind:t_max_ind],0), c=(0.5,)*3)\n",
    "\n",
    "plt.plot([t[np.argmin(eye_history_mu[:,-1]),]]*2,[0,-10],c='C2' )\n",
    "plt.plot([t[np.argmin(eye_history_mu_tuned[:,-1]),]]*2,[0,-10],c='C8' )\n",
    "plt.plot([t[np.argmin(stim_vel),]]*2,[0,-10],c=(0.5,)*3 )\n",
    "plt.plot([0,0],[-4,-9], c='k')\n",
    "plt.plot([0,0.1],[-9,-9],c='k')\n",
    "\n",
    "plt.axis('off')\n",
    "plt.savefig('figures/learning-temp-before-after.pdf')\n",
    "# plt.plot(t, eye_history_mu[:,-1], c='C8')\n",
    "# plt.plot(t, eye_history_mu_tuned[:,-1],c='C2')\n",
    "# plt.plot(t, np.minimum(stim_vel,0), c='k')\n",
    "# plt.plot(t[t_min_ind:t_max_ind], (stim_vel - direct_pathway*0.35)[t_min_ind:t_max_ind],c='C1',ls='--')\n",
    "# plt.plot(t, direct_pathway)"
   ]
  },
  {
   "cell_type": "code",
   "execution_count": 484,
   "id": "7b765870",
   "metadata": {},
   "outputs": [],
   "source": [
    "np.save('files/okr/hist_history_tuned.npy',sol_tuned['hist_history_PF'])\n",
    "np.save('files/okr/eye_history_tuned.npy',sol_tuned['eye_history'])\n",
    "np.save('files/okr/eye_history_no_noise_tuned.npy',sol_tuned['eye_history_no_noise'])\n",
    "np.save('files/okr/w_final_tuned.npy',sol_tuned['w_final'])\n",
    "np.save('files/okr/w_avg_final_tuned.npy',sol_tuned['w_avg_final'])"
   ]
  },
  {
   "cell_type": "code",
   "execution_count": 475,
   "id": "ea88aaab",
   "metadata": {},
   "outputs": [],
   "source": [
    "hist_end_tuned = np.sum(sol_tuned['hist_history_PF'][:,:,:,-1], axis=0)"
   ]
  },
  {
   "cell_type": "code",
   "execution_count": 476,
   "id": "444fc11a",
   "metadata": {},
   "outputs": [
    {
     "data": {
      "text/plain": [
       "[Text(0.0, 0, '0'), Text(0.1, 0, ''), Text(0.2, 0, '0.2')]"
      ]
     },
     "execution_count": 476,
     "metadata": {},
     "output_type": "execute_result"
    },
    {
     "data": {
      "image/png": "[encoded data removed]",
      "text/plain": [
       "<Figure size 75x50 with 1 Axes>"
      ]
     },
     "metadata": {},
     "output_type": "display_data"
    }
   ],
   "source": [
    "plt.figure(figsize=(0.75,0.5))\n",
    "\n",
    "i = 0\n",
    "\n",
    "plt.bar(hist_edges[:-1], hist_end_tuned[i,:]/np.sum(hist_end[i,:]), hist_edges[1],align='edge', facecolor=(0.7,)*3)\n",
    "plt.xlim([0, 0.2])\n",
    "plt.ylim([0, 0.015])\n",
    "\n",
    "ax = plt.gca()\n",
    "ax.spines['top'].set_visible(False)\n",
    "ax.spines['right'].set_visible(False)\n",
    "\n",
    "ax.set_yticks(np.linspace(0, 0.015, 4))\n",
    "ax.set_yticklabels([0,'','',0.015])\n",
    "ax.set_xticks([0, 0.1,0.2])\n",
    "ax.set_xticklabels([0,'',0.2])\n",
    "\n",
    "# plt.savefig('figures/learning-hist-end-0.pdf')"
   ]
  },
  {
   "cell_type": "code",
   "execution_count": 477,
   "id": "3bd65f2a",
   "metadata": {},
   "outputs": [
    {
     "data": {
      "text/plain": [
       "[Text(0.0, 0, '0'), Text(0.1, 0, ''), Text(0.2, 0, '0.2')]"
      ]
     },
     "execution_count": 477,
     "metadata": {},
     "output_type": "execute_result"
    },
    {
     "data": {
      "image/png": "[encoded data removed]",
      "text/plain": [
       "<Figure size 75x50 with 1 Axes>"
      ]
     },
     "metadata": {},
     "output_type": "display_data"
    }
   ],
   "source": [
    "plt.figure(figsize=(0.75,0.5))\n",
    "\n",
    "i = 3\n",
    "\n",
    "plt.bar(hist_edges[:-1], hist_end_tuned[i,:]/np.sum(hist_end[i,:]), hist_edges[1],align='edge', facecolor=(0.7,)*3)\n",
    "plt.xlim([0, 0.2])\n",
    "plt.ylim([0, 0.04])\n",
    "\n",
    "ax = plt.gca()\n",
    "ax.spines['top'].set_visible(False)\n",
    "ax.spines['right'].set_visible(False)\n",
    "\n",
    "ax.set_yticks(np.linspace(0, 0.04, 4))\n",
    "ax.set_yticklabels([0,'','',0.04])\n",
    "ax.set_xticks([0, 0.1,0.2])\n",
    "ax.set_xticklabels([0,'',0.2])\n",
    "\n",
    "# plt.savefig('figures/learning-hist-end-0.pdf')"
   ]
  },
  {
   "cell_type": "code",
   "execution_count": 462,
   "id": "e9fa57cf",
   "metadata": {},
   "outputs": [],
   "source": [
    "history_samples = 20\n",
    "cs = np.linspace(0.1, 0.9, history_samples)"
   ]
  },
  {
   "cell_type": "code",
   "execution_count": 464,
   "id": "9182900e",
   "metadata": {},
   "outputs": [
    {
     "data": {
      "image/png": "[encoded data removed]",
      "text/plain": [
       "<Figure size 640x480 with 1 Axes>"
      ]
     },
     "metadata": {},
     "output_type": "display_data"
    }
   ],
   "source": [
    "# plt.figure(figsize=(4,3))\n",
    "for i in range(1, history_samples):\n",
    "    plt.plot(t, sol_tuned['eye_history_no_noise'][0,:,i]+0.35*direct_pathway,c=(1-cs[i],)*3)\n",
    "plt.xlabel('Time (s)')\n",
    "plt.ylabel('Eye mov\\'t response\\n (deg/s)')\n",
    "plt.tight_layout()\n",
    "# plt.savefig('2024-05-22/untuned-shuffled-before-eye-evol.png')\n",
    "# plt.savefig('2024-05-24/tuned-shuffled-eye-evol.png')"
   ]
  },
  {
   "cell_type": "code",
   "execution_count": 363,
   "id": "e5ce5d22",
   "metadata": {},
   "outputs": [],
   "source": [
    "eye_learned_final_tuned = ((sol_tuned['eye_history_no_noise']*(1-avg_sensitivity_to_pc) \n",
    "                            + sol_tuned['eye_history']*avg_sensitivity_to_pc)\n",
    "                   ) "
   ]
  },
  {
   "cell_type": "code",
   "execution_count": 364,
   "id": "ab409a0b",
   "metadata": {},
   "outputs": [],
   "source": [
    "eye_history_mu_tuned = np.mean(eye_learned_final_tuned ,axis=0)\n",
    "eye_history_std_tuned = np.std(eye_learned_final_tuned,axis=0)"
   ]
  },
  {
   "cell_type": "code",
   "execution_count": 391,
   "id": "00628681",
   "metadata": {},
   "outputs": [
    {
     "data": {
      "image/png": "[encoded data removed]",
      "text/plain": [
       "<Figure size 150x100 with 1 Axes>"
      ]
     },
     "metadata": {},
     "output_type": "display_data"
    }
   ],
   "source": [
    "plt.figure(figsize=(1.5,1))\n",
    "\n",
    "plt.plot(t_states, v_0[0,:]@states.T, c='C2');\n",
    "plt.plot(t_states, v_0_tuned[0,:]@states.T,c='C8');\n",
    "plt.plot([0.15, 0.2],[0.5,0.5],c='k')\n",
    "plt.axis('off')\n",
    "plt.savefig('figures/eligibility-before-after-temp-diagram.pdf')"
   ]
  },
  {
   "cell_type": "code",
   "execution_count": 502,
   "id": "486a7561",
   "metadata": {},
   "outputs": [
    {
     "data": {
      "image/png": "[encoded data removed]",
      "text/plain": [
       "<Figure size 640x480 with 2 Axes>"
      ]
     },
     "metadata": {},
     "output_type": "display_data"
    }
   ],
   "source": [
    "plt.imshow(pf_spike_rates)\n",
    "plt.plot([500,520], [38,38],clip_on=False)\n",
    "plt.plot([500,520], [54,54],clip_on=False)\n",
    "plt.plot([500,520], [80,80],clip_on=False)\n",
    "\n",
    "# cbar = plt.colorbar(matplotlib.cm.ScalarMappable(norm=None, cmap=cmap),ax=ax,orientation='horizontal',location='top')\n",
    "plt.colorbar()\n",
    "plt.savefig('figures/structured-basis-colorbar.pdf')"
   ]
  },
  {
   "cell_type": "code",
   "execution_count": null,
   "id": "6338efe5",
   "metadata": {},
   "outputs": [],
   "source": []
  }
 ],
 "metadata": {
  "kernelspec": {
   "display_name": "Python 3 (ipykernel)",
   "language": "python",
   "name": "python3"
  },
  "language_info": {
   "codemirror_mode": {
    "name": "ipython",
    "version": 3
   },
   "file_extension": ".py",
   "mimetype": "text/x-python",
   "name": "python",
   "nbconvert_exporter": "python",
   "pygments_lexer": "ipython3",
   "version": "3.10.9"
  }
 },
 "nbformat": 4,
 "nbformat_minor": 5
}
